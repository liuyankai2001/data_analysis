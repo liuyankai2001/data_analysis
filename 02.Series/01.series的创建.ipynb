{
 "cells": [
  {
   "cell_type": "code",
   "execution_count": 1,
   "metadata": {
    "collapsed": true,
    "ExecuteTime": {
     "end_time": "2025-07-27T03:15:31.083147700Z",
     "start_time": "2025-07-27T03:15:30.624753300Z"
    }
   },
   "outputs": [],
   "source": [
    "import pandas as pd"
   ]
  },
  {
   "cell_type": "markdown",
   "source": [
    "# 1.直接通过列表创建"
   ],
   "metadata": {
    "collapsed": false
   }
  },
  {
   "cell_type": "code",
   "execution_count": 2,
   "outputs": [
    {
     "name": "stdout",
     "output_type": "stream",
     "text": [
      "0     2\n",
      "1     3\n",
      "2     4\n",
      "3    66\n",
      "4     7\n",
      "dtype: int64\n"
     ]
    }
   ],
   "source": [
    "s = pd.Series([2,3,4,66,7])\n",
    "print(s)"
   ],
   "metadata": {
    "collapsed": false,
    "ExecuteTime": {
     "end_time": "2025-07-27T03:15:42.629519Z",
     "start_time": "2025-07-27T03:15:42.619022300Z"
    }
   }
  },
  {
   "cell_type": "markdown",
   "source": [
    "# 2.通过列表创建Series时指定索引"
   ],
   "metadata": {
    "collapsed": false
   }
  },
  {
   "cell_type": "code",
   "execution_count": 3,
   "outputs": [
    {
     "name": "stdout",
     "output_type": "stream",
     "text": [
      "a     2\n",
      "b     3\n",
      "c     4\n",
      "d    66\n",
      "e     7\n",
      "dtype: int64\n"
     ]
    }
   ],
   "source": [
    "s = pd.Series([2,3,4,66,7],index=['a','b','c','d','e'])\n",
    "print(s)"
   ],
   "metadata": {
    "collapsed": false,
    "ExecuteTime": {
     "end_time": "2025-07-27T03:17:52.658316300Z",
     "start_time": "2025-07-27T03:17:52.646514Z"
    }
   }
  },
  {
   "cell_type": "markdown",
   "source": [
    "# 2.通过列表创建Series时指定索引和名称"
   ],
   "metadata": {
    "collapsed": false
   }
  },
  {
   "cell_type": "code",
   "execution_count": 4,
   "outputs": [
    {
     "name": "stdout",
     "output_type": "stream",
     "text": [
      "a    4\n",
      "b    7\n",
      "c   -5\n",
      "d    3\n",
      "Name: hello_python, dtype: int64\n"
     ]
    }
   ],
   "source": [
    "s = pd.Series([4, 7, -5, 3], index=[\"a\", \"b\", \"c\", \"d\"],name=\"hello_python\")\n",
    "print(s)"
   ],
   "metadata": {
    "collapsed": false,
    "ExecuteTime": {
     "end_time": "2025-07-27T03:17:57.847425400Z",
     "start_time": "2025-07-27T03:17:57.834395600Z"
    }
   }
  },
  {
   "cell_type": "code",
   "execution_count": 5,
   "outputs": [
    {
     "data": {
      "text/plain": "a    4\nb    7\nc   -5\nd    3\nName: hello_python, dtype: int64"
     },
     "execution_count": 5,
     "metadata": {},
     "output_type": "execute_result"
    }
   ],
   "source": [
    "s"
   ],
   "metadata": {
    "collapsed": false,
    "ExecuteTime": {
     "end_time": "2025-07-27T03:18:03.307323400Z",
     "start_time": "2025-07-27T03:18:03.291393200Z"
    }
   }
  },
  {
   "cell_type": "markdown",
   "source": [
    "# 3.直接通过字典创建Serie"
   ],
   "metadata": {
    "collapsed": false
   }
  },
  {
   "cell_type": "code",
   "execution_count": 6,
   "outputs": [
    {
     "name": "stdout",
     "output_type": "stream",
     "text": [
      "a    4\n",
      "b    7\n",
      "c   -5\n",
      "d    3\n",
      "dtype: int64\n"
     ]
    }
   ],
   "source": [
    "dic = {\"a\": 4, \"b\": 7, \"c\": -5, \"d\": 3}\n",
    "s = pd.Series(dic)\n",
    "print(s)"
   ],
   "metadata": {
    "collapsed": false,
    "ExecuteTime": {
     "end_time": "2025-07-27T03:19:17.799885300Z",
     "start_time": "2025-07-27T03:19:17.781622500Z"
    }
   }
  },
  {
   "cell_type": "code",
   "execution_count": 7,
   "outputs": [
    {
     "name": "stdout",
     "output_type": "stream",
     "text": [
      "a    4\n",
      "c   -5\n",
      "Name: aacc, dtype: int64\n"
     ]
    }
   ],
   "source": [
    "s1 = pd.Series(dic,index=[\"a\",\"c\"],name=\"aacc\")\n",
    "print(s1)"
   ],
   "metadata": {
    "collapsed": false,
    "ExecuteTime": {
     "end_time": "2025-07-27T03:19:22.285534600Z",
     "start_time": "2025-07-27T03:19:22.273652Z"
    }
   }
  },
  {
   "cell_type": "code",
   "execution_count": null,
   "outputs": [],
   "source": [],
   "metadata": {
    "collapsed": false
   }
  }
 ],
 "metadata": {
  "kernelspec": {
   "display_name": "Python 3",
   "language": "python",
   "name": "python3"
  },
  "language_info": {
   "codemirror_mode": {
    "name": "ipython",
    "version": 2
   },
   "file_extension": ".py",
   "mimetype": "text/x-python",
   "name": "python",
   "nbconvert_exporter": "python",
   "pygments_lexer": "ipython2",
   "version": "2.7.6"
  }
 },
 "nbformat": 4,
 "nbformat_minor": 0
}
