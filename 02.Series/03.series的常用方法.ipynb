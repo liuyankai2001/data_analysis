{
 "cells": [
  {
   "cell_type": "code",
   "execution_count": 2,
   "metadata": {
    "collapsed": true
   },
   "outputs": [],
   "source": [
    "import numpy as np\n",
    "import pandas as pd"
   ]
  },
  {
   "cell_type": "markdown",
   "source": [
    "* head()\n",
    "* tail()\n",
    "* isin()\n",
    "* isna()\n",
    "* sum()\n",
    "* mean()\n",
    "* min()\n",
    "* max()\n",
    "* var()\n",
    "* std()\n",
    "* median()\n",
    "* mode()\n",
    "* quantile(q,interpolation)\n",
    "* describe()\n",
    "* value_counts()\n",
    "* count()\n",
    "* drop_duplicates()\n",
    "* unique()\n",
    "* nunique()\n",
    "* sample()\n",
    "* sort_index()\n",
    "* sort_values()\n",
    "* replace()\n",
    "* to_frame()\n",
    "* equals()\n",
    "* keys()\n",
    "* corr()\n",
    "* cov()\n",
    "* hist()\n",
    "* items()"
   ],
   "metadata": {
    "collapsed": false
   }
  },
  {
   "cell_type": "code",
   "execution_count": 5,
   "outputs": [
    {
     "data": {
      "text/plain": "a    11.0\nb    22.0\nc     NaN\nd     NaN\ne    44.0\nf    22.0\ndtype: float64"
     },
     "execution_count": 5,
     "metadata": {},
     "output_type": "execute_result"
    }
   ],
   "source": [
    "arrs = pd.Series([11,22,np.nan,None,44,22],index=['a','b','c','d','e','f'])\n",
    "arrs"
   ],
   "metadata": {
    "collapsed": false
   }
  },
  {
   "cell_type": "code",
   "execution_count": 14,
   "outputs": [
    {
     "name": "stdout",
     "output_type": "stream",
     "text": [
      "a    11.0\n",
      "b    22.0\n",
      "c     NaN\n",
      "d     NaN\n",
      "e    44.0\n",
      "dtype: float64\n",
      "d     NaN\n",
      "e    44.0\n",
      "f    22.0\n",
      "dtype: float64\n",
      "a     True\n",
      "b    False\n",
      "c    False\n",
      "d    False\n",
      "e    False\n",
      "f    False\n",
      "dtype: bool\n",
      "a    False\n",
      "b    False\n",
      "c     True\n",
      "d     True\n",
      "e    False\n",
      "f    False\n",
      "dtype: bool\n"
     ]
    }
   ],
   "source": [
    "# head() 查看前n行数据，默认5行\n",
    "print(arrs.head())\n",
    "# tail() 查看后n行数据，默认5行\n",
    "print(arrs.tail(3))\n",
    "# isin() 判断数组中的每一个元素是否包含在参数集合中\n",
    "print(arrs.isin([11]))\n",
    "# isna() 元素是否为缺失值\n",
    "print(arrs.isna())"
   ],
   "metadata": {
    "collapsed": false
   }
  },
  {
   "cell_type": "code",
   "execution_count": 21,
   "outputs": [
    {
     "name": "stdout",
     "output_type": "stream",
     "text": [
      "99.0\n",
      "24.75\n",
      "11.0\n",
      "44.0\n",
      "191.58333333333334\n",
      "13.841363131329707\n",
      "22.0\n",
      "0    22.0\n",
      "dtype: float64\n",
      "16.5\n"
     ]
    }
   ],
   "source": [
    "# sum() 求和，会忽略 Series 中的缺失值\n",
    "print(arrs.sum())\n",
    "# mean() 平均值\n",
    "print(arrs.mean())\n",
    "# min() 最小值\n",
    "print(arrs.min())\n",
    "# max() 最大值\n",
    "print(arrs.max())\n",
    "# var() 方差\n",
    "print(arrs.var())\n",
    "# std() 标准差\n",
    "print(arrs.std())\n",
    "# print(arrs.var())\n",
    "# median() 中位数\n",
    "print(arrs.median())\n",
    "# mode() 众数\n",
    "print(arrs.mode())\n",
    "# quantile() 指定位置的分位数，如quantile(0.5)\n",
    "print(arrs.quantile(0.25, interpolation=\"midpoint\"))"
   ],
   "metadata": {
    "collapsed": false
   }
  },
  {
   "cell_type": "code",
   "execution_count": 22,
   "outputs": [
    {
     "name": "stdout",
     "output_type": "stream",
     "text": [
      "count     4.000000\n",
      "mean     24.750000\n",
      "std      13.841363\n",
      "min      11.000000\n",
      "25%      19.250000\n",
      "50%      22.000000\n",
      "75%      27.500000\n",
      "max      44.000000\n",
      "dtype: float64\n"
     ]
    }
   ],
   "source": [
    "# describe() 常见统计信息\n",
    "print(arrs.describe())"
   ],
   "metadata": {
    "collapsed": false
   }
  },
  {
   "cell_type": "code",
   "execution_count": 23,
   "outputs": [
    {
     "name": "stdout",
     "output_type": "stream",
     "text": [
      "22.0    2\n",
      "11.0    1\n",
      "44.0    1\n",
      "Name: count, dtype: int64\n"
     ]
    }
   ],
   "source": [
    "# value_counts() 每个元素的个数\n",
    "print(arrs.value_counts())"
   ],
   "metadata": {
    "collapsed": false
   }
  },
  {
   "cell_type": "code",
   "execution_count": 25,
   "outputs": [
    {
     "name": "stdout",
     "output_type": "stream",
     "text": [
      "4\n",
      "6\n"
     ]
    }
   ],
   "source": [
    "# count() 非缺失值元素的个数\n",
    "print(arrs.count())\n",
    "print(len(arrs))"
   ],
   "metadata": {
    "collapsed": false
   }
  },
  {
   "cell_type": "code",
   "execution_count": 26,
   "outputs": [
    {
     "name": "stdout",
     "output_type": "stream",
     "text": [
      "a    11.0\n",
      "b    22.0\n",
      "c     NaN\n",
      "e    44.0\n",
      "dtype: float64\n"
     ]
    }
   ],
   "source": [
    "# drop_duplicates() 去重这里可以看出，底层None也作为NaN处理\n",
    "print(arrs.drop_duplicates())"
   ],
   "metadata": {
    "collapsed": false
   }
  },
  {
   "cell_type": "code",
   "execution_count": 27,
   "outputs": [
    {
     "name": "stdout",
     "output_type": "stream",
     "text": [
      "[11. 22. nan 44.]\n"
     ]
    }
   ],
   "source": [
    "print(arrs.unique())"
   ],
   "metadata": {
    "collapsed": false
   }
  },
  {
   "cell_type": "code",
   "execution_count": 28,
   "outputs": [
    {
     "name": "stdout",
     "output_type": "stream",
     "text": [
      "3\n"
     ]
    }
   ],
   "source": [
    "print(arrs.nunique())"
   ],
   "metadata": {
    "collapsed": false
   }
  },
  {
   "cell_type": "code",
   "execution_count": 30,
   "outputs": [
    {
     "name": "stdout",
     "output_type": "stream",
     "text": [
      "e    44.0\n",
      "dtype: float64\n"
     ]
    }
   ],
   "source": [
    "# sample() 随机采样\n",
    "print(arrs.sample())"
   ],
   "metadata": {
    "collapsed": false
   }
  },
  {
   "cell_type": "code",
   "execution_count": 31,
   "outputs": [
    {
     "name": "stdout",
     "output_type": "stream",
     "text": [
      "a    11.0\n",
      "b    22.0\n",
      "c     NaN\n",
      "d     NaN\n",
      "e    44.0\n",
      "f    22.0\n",
      "dtype: float64\n"
     ]
    }
   ],
   "source": [
    "# sort_index() 按索引排序\n",
    "print(arrs.sort_index())"
   ],
   "metadata": {
    "collapsed": false
   }
  },
  {
   "cell_type": "code",
   "execution_count": 32,
   "outputs": [
    {
     "name": "stdout",
     "output_type": "stream",
     "text": [
      "a    11.0\n",
      "b    22.0\n",
      "f    22.0\n",
      "e    44.0\n",
      "c     NaN\n",
      "d     NaN\n",
      "dtype: float64\n"
     ]
    }
   ],
   "source": [
    "# sort_values() 按值排序\n",
    "print(arrs.sort_values())"
   ],
   "metadata": {
    "collapsed": false
   }
  },
  {
   "cell_type": "code",
   "execution_count": 33,
   "outputs": [
    {
     "name": "stdout",
     "output_type": "stream",
     "text": [
      "a    11.0\n",
      "b    haha\n",
      "c     NaN\n",
      "d     NaN\n",
      "e    44.0\n",
      "f    haha\n",
      "dtype: object\n"
     ]
    }
   ],
   "source": [
    "# replace() 用指定值代替原有值\n",
    "print(arrs.replace(22,\"haha\"))"
   ],
   "metadata": {
    "collapsed": false
   }
  },
  {
   "cell_type": "code",
   "execution_count": 34,
   "outputs": [
    {
     "name": "stdout",
     "output_type": "stream",
     "text": [
      "      0\n",
      "a  11.0\n",
      "b  22.0\n",
      "c   NaN\n",
      "d   NaN\n",
      "e  44.0\n",
      "f  22.0\n"
     ]
    }
   ],
   "source": [
    "# to_frame() 将Series转换为DataFrame\n",
    "print(arrs.to_frame())"
   ],
   "metadata": {
    "collapsed": false
   }
  },
  {
   "cell_type": "code",
   "execution_count": 35,
   "outputs": [
    {
     "name": "stdout",
     "output_type": "stream",
     "text": [
      "True\n"
     ]
    }
   ],
   "source": [
    "# equals()判断两个Series是否相同\n",
    "arr1 = pd.Series([1,2,3])\n",
    "arr2 = pd.Series([1,2,3])\n",
    "print(arr1.equals(arr2))"
   ],
   "metadata": {
    "collapsed": false
   }
  },
  {
   "cell_type": "code",
   "execution_count": 36,
   "outputs": [
    {
     "name": "stdout",
     "output_type": "stream",
     "text": [
      "Index(['a', 'b', 'c', 'd', 'e', 'f'], dtype='object')\n",
      "Index(['a', 'b', 'c', 'd', 'e', 'f'], dtype='object')\n"
     ]
    }
   ],
   "source": [
    "# keys() 返回Series的索引对象\n",
    "print(arrs.index)\n",
    "print(arrs.keys())"
   ],
   "metadata": {
    "collapsed": false
   }
  },
  {
   "cell_type": "code",
   "execution_count": 37,
   "outputs": [
    {
     "name": "stdout",
     "output_type": "stream",
     "text": [
      "1.0\n",
      "-1.0\n",
      "1.0\n",
      "0.0\n"
     ]
    }
   ],
   "source": [
    "arr3 = pd.Series([3,2,1])\n",
    "arr4 = pd.Series([6,7,8])\n",
    "arr5 = pd.Series([1, -1, 1, -1])\n",
    "arr6 = pd.Series([1, 1, -1, -1])\n",
    "print(arr1.corr(arr2))\n",
    "print(arr1.corr(arr3))\n",
    "print(arr1.corr(arr4))\n",
    "print(arr5.corr(arr6))"
   ],
   "metadata": {
    "collapsed": false
   }
  },
  {
   "cell_type": "code",
   "execution_count": 38,
   "outputs": [
    {
     "name": "stdout",
     "output_type": "stream",
     "text": [
      "-1.0\n"
     ]
    }
   ],
   "source": [
    "# cov() 计算与另一个Series的协方差\n",
    "print(arr1.corr(arr3))"
   ],
   "metadata": {
    "collapsed": false
   }
  },
  {
   "cell_type": "code",
   "execution_count": 40,
   "outputs": [
    {
     "data": {
      "text/plain": "<Axes: >"
     },
     "execution_count": 40,
     "metadata": {},
     "output_type": "execute_result"
    },
    {
     "data": {
      "text/plain": "<Figure size 640x480 with 1 Axes>",
      "image/png": "[encoded data removed]"
     },
     "metadata": {},
     "output_type": "display_data"
    }
   ],
   "source": [
    "# hist() 绘制直方图\n",
    "arr7 = pd.Series([3,2,1,1,1,2,2])\n",
    "# 绘制直方图\n",
    "arr7.hist(bins=5)"
   ],
   "metadata": {
    "collapsed": false
   }
  },
  {
   "cell_type": "code",
   "execution_count": 41,
   "outputs": [
    {
     "name": "stdout",
     "output_type": "stream",
     "text": [
      "0 3\n",
      "1 2\n",
      "2 1\n",
      "3 1\n",
      "4 1\n",
      "5 2\n",
      "6 2\n"
     ]
    }
   ],
   "source": [
    "# items()  获取索引名以及值\n",
    "for i,v in arr7.items():\n",
    "    print(i,v)"
   ],
   "metadata": {
    "collapsed": false
   }
  },
  {
   "cell_type": "code",
   "execution_count": null,
   "outputs": [],
   "source": [],
   "metadata": {
    "collapsed": false
   }
  }
 ],
 "metadata": {
  "kernelspec": {
   "display_name": "Python 3",
   "language": "python",
   "name": "python3"
  },
  "language_info": {
   "codemirror_mode": {
    "name": "ipython",
    "version": 2
   },
   "file_extension": ".py",
   "mimetype": "text/x-python",
   "name": "python",
   "nbconvert_exporter": "python",
   "pygments_lexer": "ipython2",
   "version": "2.7.6"
  }
 },
 "nbformat": 4,
 "nbformat_minor": 0
}
