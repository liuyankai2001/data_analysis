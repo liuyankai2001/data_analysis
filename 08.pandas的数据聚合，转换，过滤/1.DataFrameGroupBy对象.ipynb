{
 "cells": [
  {
   "cell_type": "code",
   "execution_count": 1,
   "metadata": {
    "collapsed": true,
    "ExecuteTime": {
     "end_time": "2025-07-27T13:58:44.125605400Z",
     "start_time": "2025-07-27T13:58:43.789755700Z"
    }
   },
   "outputs": [],
   "source": [
    "import numpy as np\n",
    "import pandas as pd"
   ]
  },
  {
   "cell_type": "code",
   "execution_count": 2,
   "outputs": [
    {
     "data": {
      "text/plain": "     employee_id first_name last_name     email  phone_number      job_id  \\\n0            100     Steven      King     SKING  515.123.4567     AD_PRES   \n1            101      N_ann   Kochhar  NKOCHHAR  515.123.4568       AD_VP   \n2            102        Lex   De Haan   LDEHAAN  515.123.4569       AD_VP   \n3            103  Alexander    Hunold   AHUNOLD  590.423.4567     IT_PROG   \n4            104      Bruce     Ernst    BERNST  590.423.4568     IT_PROG   \n..           ...        ...       ...       ...           ...         ...   \n102          202        Pat       Fay      PFAY  603.123.6666      MK_REP   \n103          203      Susan    Mavris   SMAVRIS  515.123.7777      HR_REP   \n104          204    Hermann      Baer     HBAER  515.123.8888      PR_REP   \n105          205    Shelley   Higgins  SHIGGINS  515.123.8080      AC_MGR   \n106          206    William     Gietz    WGIETZ  515.123.8181  AC_ACCOUNT   \n\n      salary  commission_pct  manager_id  department_id  \n0    24000.0             NaN         NaN           90.0  \n1    17000.0             NaN       100.0           90.0  \n2    17000.0             NaN       100.0           90.0  \n3     9000.0             NaN       102.0           60.0  \n4     6000.0             NaN       103.0           60.0  \n..       ...             ...         ...            ...  \n102   6000.0             NaN       201.0           20.0  \n103   6500.0             NaN       101.0           40.0  \n104  10000.0             NaN       101.0           70.0  \n105  12000.0             NaN       101.0          110.0  \n106   8300.0             NaN       205.0          110.0  \n\n[107 rows x 10 columns]",
      "text/html": "<div>\n<style scoped>\n    .dataframe tbody tr th:only-of-type {\n        vertical-align: middle;\n    }\n\n    .dataframe tbody tr th {\n        vertical-align: top;\n    }\n\n    .dataframe thead th {\n        text-align: right;\n    }\n</style>\n<table border=\"1\" class=\"dataframe\">\n  <thead>\n    <tr style=\"text-align: right;\">\n      <th></th>\n      <th>employee_id</th>\n      <th>first_name</th>\n      <th>last_name</th>\n      <th>email</th>\n      <th>phone_number</th>\n      <th>job_id</th>\n      <th>salary</th>\n      <th>commission_pct</th>\n      <th>manager_id</th>\n      <th>department_id</th>\n    </tr>\n  </thead>\n  <tbody>\n    <tr>\n      <th>0</th>\n      <td>100</td>\n      <td>Steven</td>\n      <td>King</td>\n      <td>SKING</td>\n      <td>515.123.4567</td>\n      <td>AD_PRES</td>\n      <td>24000.0</td>\n      <td>NaN</td>\n      <td>NaN</td>\n      <td>90.0</td>\n    </tr>\n    <tr>\n      <th>1</th>\n      <td>101</td>\n      <td>N_ann</td>\n      <td>Kochhar</td>\n      <td>NKOCHHAR</td>\n      <td>515.123.4568</td>\n      <td>AD_VP</td>\n      <td>17000.0</td>\n      <td>NaN</td>\n      <td>100.0</td>\n      <td>90.0</td>\n    </tr>\n    <tr>\n      <th>2</th>\n      <td>102</td>\n      <td>Lex</td>\n      <td>De Haan</td>\n      <td>LDEHAAN</td>\n      <td>515.123.4569</td>\n      <td>AD_VP</td>\n      <td>17000.0</td>\n      <td>NaN</td>\n      <td>100.0</td>\n      <td>90.0</td>\n    </tr>\n    <tr>\n      <th>3</th>\n      <td>103</td>\n      <td>Alexander</td>\n      <td>Hunold</td>\n      <td>AHUNOLD</td>\n      <td>590.423.4567</td>\n      <td>IT_PROG</td>\n      <td>9000.0</td>\n      <td>NaN</td>\n      <td>102.0</td>\n      <td>60.0</td>\n    </tr>\n    <tr>\n      <th>4</th>\n      <td>104</td>\n      <td>Bruce</td>\n      <td>Ernst</td>\n      <td>BERNST</td>\n      <td>590.423.4568</td>\n      <td>IT_PROG</td>\n      <td>6000.0</td>\n      <td>NaN</td>\n      <td>103.0</td>\n      <td>60.0</td>\n    </tr>\n    <tr>\n      <th>...</th>\n      <td>...</td>\n      <td>...</td>\n      <td>...</td>\n      <td>...</td>\n      <td>...</td>\n      <td>...</td>\n      <td>...</td>\n      <td>...</td>\n      <td>...</td>\n      <td>...</td>\n    </tr>\n    <tr>\n      <th>102</th>\n      <td>202</td>\n      <td>Pat</td>\n      <td>Fay</td>\n      <td>PFAY</td>\n      <td>603.123.6666</td>\n      <td>MK_REP</td>\n      <td>6000.0</td>\n      <td>NaN</td>\n      <td>201.0</td>\n      <td>20.0</td>\n    </tr>\n    <tr>\n      <th>103</th>\n      <td>203</td>\n      <td>Susan</td>\n      <td>Mavris</td>\n      <td>SMAVRIS</td>\n      <td>515.123.7777</td>\n      <td>HR_REP</td>\n      <td>6500.0</td>\n      <td>NaN</td>\n      <td>101.0</td>\n      <td>40.0</td>\n    </tr>\n    <tr>\n      <th>104</th>\n      <td>204</td>\n      <td>Hermann</td>\n      <td>Baer</td>\n      <td>HBAER</td>\n      <td>515.123.8888</td>\n      <td>PR_REP</td>\n      <td>10000.0</td>\n      <td>NaN</td>\n      <td>101.0</td>\n      <td>70.0</td>\n    </tr>\n    <tr>\n      <th>105</th>\n      <td>205</td>\n      <td>Shelley</td>\n      <td>Higgins</td>\n      <td>SHIGGINS</td>\n      <td>515.123.8080</td>\n      <td>AC_MGR</td>\n      <td>12000.0</td>\n      <td>NaN</td>\n      <td>101.0</td>\n      <td>110.0</td>\n    </tr>\n    <tr>\n      <th>106</th>\n      <td>206</td>\n      <td>William</td>\n      <td>Gietz</td>\n      <td>WGIETZ</td>\n      <td>515.123.8181</td>\n      <td>AC_ACCOUNT</td>\n      <td>8300.0</td>\n      <td>NaN</td>\n      <td>205.0</td>\n      <td>110.0</td>\n    </tr>\n  </tbody>\n</table>\n<p>107 rows × 10 columns</p>\n</div>"
     },
     "execution_count": 2,
     "metadata": {},
     "output_type": "execute_result"
    }
   ],
   "source": [
    "df = pd.read_csv(\"../data/employees.csv\")\n",
    "df"
   ],
   "metadata": {
    "collapsed": false,
    "ExecuteTime": {
     "end_time": "2025-07-27T14:16:58.209985500Z",
     "start_time": "2025-07-27T14:16:58.182882200Z"
    }
   }
  },
  {
   "cell_type": "markdown",
   "source": [
    "print(df.groupby(\"department_id\"))"
   ],
   "metadata": {
    "collapsed": false
   }
  },
  {
   "cell_type": "markdown",
   "source": [
    "1.查看分组"
   ],
   "metadata": {
    "collapsed": false
   }
  },
  {
   "cell_type": "code",
   "execution_count": 5,
   "outputs": [
    {
     "data": {
      "text/plain": "{10.0: [100], 20.0: [101, 102], 30.0: [14, 15, 16, 17, 18, 19], 40.0: [103], 50.0: [20, 21, 22, 23, 24, 25, 26, 27, 28, 29, 30, 31, 32, 33, 34, 35, 36, 37, 38, 39, 40, 41, 42, 43, 44, 80, 81, 82, 83, 84, 85, 86, 87, 88, 89, 90, 91, 92, 93, 94, 95, 96, 97, 98, 99], 60.0: [3, 4, 5, 6, 7], 70.0: [104], 80.0: [45, 46, 47, 48, 49, 50, 51, 52, 53, 54, 55, 56, 57, 58, 59, 60, 61, 62, 63, 64, 65, 66, 67, 68, 69, 70, 71, 72, 73, 74, 75, 76, 77, 79], 90.0: [0, 1, 2], 100.0: [8, 9, 10, 11, 12, 13], 110.0: [105, 106]}"
     },
     "execution_count": 5,
     "metadata": {},
     "output_type": "execute_result"
    }
   ],
   "source": [
    "df.groupby(\"department_id\").groups # 查看分组结果"
   ],
   "metadata": {
    "collapsed": false,
    "ExecuteTime": {
     "end_time": "2025-07-27T14:18:06.558553500Z",
     "start_time": "2025-07-27T14:18:06.543701600Z"
    }
   }
  },
  {
   "cell_type": "code",
   "execution_count": 8,
   "outputs": [
    {
     "data": {
      "text/plain": "    employee_id first_name    last_name     email  phone_number    job_id  \\\n20          120    Matthew        Weiss    MWEISS  650.123.1234    ST_MAN   \n21          121       Adam        Fripp    AFRIPP  650.123.2234    ST_MAN   \n22          122      Payam     Kaufling  PKAUFLIN  650.123.3234    ST_MAN   \n23          123     Shanta      Vollman  SVOLLMAN  650.123.4234    ST_MAN   \n24          124      Kevin      Mourgos  KMOURGOS  650.123.5234    ST_MAN   \n25          125      Julia        Nayer    JNAYER  650.124.1214  ST_CLERK   \n26          126      Irene  Mikkilineni  IMIKKILI  650.124.1224  ST_CLERK   \n27          127      James       Landry   JLANDRY  650.124.1334  ST_CLERK   \n28          128     Steven       Markle   SMARKLE  650.124.1434  ST_CLERK   \n29          129      Laura       Bissot   LBISSOT  650.124.5234  ST_CLERK   \n30          130      Mozhe     Atkinson  MATKINSO  650.124.6234  ST_CLERK   \n31          131      James       Marlow   JAMRLOW  650.124.7234  ST_CLERK   \n32          132         TJ        Olson   TJOLSON  650.124.8234  ST_CLERK   \n33          133      Jason       Mallin   JMALLIN  650.127.1934  ST_CLERK   \n34          134    Michael       Rogers   MROGERS  650.127.1834  ST_CLERK   \n35          135         Ki          Gee      KGEE  650.127.1734  ST_CLERK   \n36          136      Hazel   Philtanker  HPHILTAN  650.127.1634  ST_CLERK   \n37          137     Renske       Ladwig   RLADWIG  650.121.1234  ST_CLERK   \n38          138    Stephen       Stiles   SSTILES  650.121.2034  ST_CLERK   \n39          139       John          Seo      JSEO  650.121.2019  ST_CLERK   \n40          140     Joshua        Patel    JPATEL  650.121.1834  ST_CLERK   \n41          141     Trenna         Rajs     TRAJS  650.121.8009  ST_CLERK   \n42          142     Curtis       Davies   CDAVIES  650.121.2994  ST_CLERK   \n43          143    Randall        Matos    RMATOS  650.121.2874  ST_CLERK   \n44          144      Peter       Vargas   PVARGAS  650.121.2004  ST_CLERK   \n80          180    Winston       Taylor   WTAYLOR  650.507.9876  SH_CLERK   \n81          181       Jean       Fleaur   JFLEAUR  650.507.9877  SH_CLERK   \n82          182     Martha     Sullivan  MSULLIVA  650.507.9878  SH_CLERK   \n83          183     Girard        Geoni    GGEONI  650.507.9879  SH_CLERK   \n84          184    Nandita     Sarchand  NSARCHAN  650.509.1876  SH_CLERK   \n85          185     Alexis         Bull     ABULL  650.509.2876  SH_CLERK   \n86          186      Julia    Dellinger  JDELLING  650.509.3876  SH_CLERK   \n87          187    Anthony       Cabrio   ACABRIO  650.509.4876  SH_CLERK   \n88          188      Kelly        Chung    KCHUNG  650.505.1876  SH_CLERK   \n89          189   Jennifer        Dilly    JDILLY  650.505.2876  SH_CLERK   \n90          190    Timothy        Gates    TGATES  650.505.3876  SH_CLERK   \n91          191    Randall      Perkins  RPERKINS  650.505.4876  SH_CLERK   \n92          192      Sarah         Bell     SBELL  650.501.1876  SH_CLERK   \n93          193    Britney      Everett  BEVERETT  650.501.2876  SH_CLERK   \n94          194     Samuel       McCain   SMCCAIN  650.501.3876  SH_CLERK   \n95          195      Vance        Jones    VJONES  650.501.4876  SH_CLERK   \n96          196      Alana        Walsh    AWALSH  650.507.9811  SH_CLERK   \n97          197      Kevin       Feeney   KFEENEY  650.507.9822  SH_CLERK   \n98          198     Donald     OConnell  DOCONNEL  650.507.9833  SH_CLERK   \n99          199    Douglas        Grant    DGRANT  650.507.9844  SH_CLERK   \n\n    salary  commission_pct  manager_id  department_id  \n20  8000.0             NaN       100.0           50.0  \n21  8200.0             NaN       100.0           50.0  \n22  7900.0             NaN       100.0           50.0  \n23  6500.0             NaN       100.0           50.0  \n24  5800.0             NaN       100.0           50.0  \n25  3200.0             NaN       120.0           50.0  \n26  2700.0             NaN       120.0           50.0  \n27  2400.0             NaN       120.0           50.0  \n28  2200.0             NaN       120.0           50.0  \n29  3300.0             NaN       121.0           50.0  \n30  2800.0             NaN       121.0           50.0  \n31  2500.0             NaN       121.0           50.0  \n32  2100.0             NaN       121.0           50.0  \n33  3300.0             NaN       122.0           50.0  \n34  2900.0             NaN       122.0           50.0  \n35  2400.0             NaN       122.0           50.0  \n36  2200.0             NaN       122.0           50.0  \n37  3600.0             NaN       123.0           50.0  \n38  3200.0             NaN       123.0           50.0  \n39  2700.0             NaN       123.0           50.0  \n40  2500.0             NaN       123.0           50.0  \n41  3500.0             NaN       124.0           50.0  \n42  3100.0             NaN       124.0           50.0  \n43  2600.0             NaN       124.0           50.0  \n44  2500.0             NaN       124.0           50.0  \n80  3200.0             NaN       120.0           50.0  \n81  3100.0             NaN       120.0           50.0  \n82  2500.0             NaN       120.0           50.0  \n83  2800.0             NaN       120.0           50.0  \n84  4200.0             NaN       121.0           50.0  \n85  4100.0             NaN       121.0           50.0  \n86  3400.0             NaN       121.0           50.0  \n87  3000.0             NaN       121.0           50.0  \n88  3800.0             NaN       122.0           50.0  \n89  3600.0             NaN       122.0           50.0  \n90  2900.0             NaN       122.0           50.0  \n91  2500.0             NaN       122.0           50.0  \n92  4000.0             NaN       123.0           50.0  \n93  3900.0             NaN       123.0           50.0  \n94  3200.0             NaN       123.0           50.0  \n95  2800.0             NaN       123.0           50.0  \n96  3100.0             NaN       124.0           50.0  \n97  3000.0             NaN       124.0           50.0  \n98  2600.0             NaN       124.0           50.0  \n99  2600.0             NaN       124.0           50.0  ",
      "text/html": "<div>\n<style scoped>\n    .dataframe tbody tr th:only-of-type {\n        vertical-align: middle;\n    }\n\n    .dataframe tbody tr th {\n        vertical-align: top;\n    }\n\n    .dataframe thead th {\n        text-align: right;\n    }\n</style>\n<table border=\"1\" class=\"dataframe\">\n  <thead>\n    <tr style=\"text-align: right;\">\n      <th></th>\n      <th>employee_id</th>\n      <th>first_name</th>\n      <th>last_name</th>\n      <th>email</th>\n      <th>phone_number</th>\n      <th>job_id</th>\n      <th>salary</th>\n      <th>commission_pct</th>\n      <th>manager_id</th>\n      <th>department_id</th>\n    </tr>\n  </thead>\n  <tbody>\n    <tr>\n      <th>20</th>\n      <td>120</td>\n      <td>Matthew</td>\n      <td>Weiss</td>\n      <td>MWEISS</td>\n      <td>650.123.1234</td>\n      <td>ST_MAN</td>\n      <td>8000.0</td>\n      <td>NaN</td>\n      <td>100.0</td>\n      <td>50.0</td>\n    </tr>\n    <tr>\n      <th>21</th>\n      <td>121</td>\n      <td>Adam</td>\n      <td>Fripp</td>\n      <td>AFRIPP</td>\n      <td>650.123.2234</td>\n      <td>ST_MAN</td>\n      <td>8200.0</td>\n      <td>NaN</td>\n      <td>100.0</td>\n      <td>50.0</td>\n    </tr>\n    <tr>\n      <th>22</th>\n      <td>122</td>\n      <td>Payam</td>\n      <td>Kaufling</td>\n      <td>PKAUFLIN</td>\n      <td>650.123.3234</td>\n      <td>ST_MAN</td>\n      <td>7900.0</td>\n      <td>NaN</td>\n      <td>100.0</td>\n      <td>50.0</td>\n    </tr>\n    <tr>\n      <th>23</th>\n      <td>123</td>\n      <td>Shanta</td>\n      <td>Vollman</td>\n      <td>SVOLLMAN</td>\n      <td>650.123.4234</td>\n      <td>ST_MAN</td>\n      <td>6500.0</td>\n      <td>NaN</td>\n      <td>100.0</td>\n      <td>50.0</td>\n    </tr>\n    <tr>\n      <th>24</th>\n      <td>124</td>\n      <td>Kevin</td>\n      <td>Mourgos</td>\n      <td>KMOURGOS</td>\n      <td>650.123.5234</td>\n      <td>ST_MAN</td>\n      <td>5800.0</td>\n      <td>NaN</td>\n      <td>100.0</td>\n      <td>50.0</td>\n    </tr>\n    <tr>\n      <th>25</th>\n      <td>125</td>\n      <td>Julia</td>\n      <td>Nayer</td>\n      <td>JNAYER</td>\n      <td>650.124.1214</td>\n      <td>ST_CLERK</td>\n      <td>3200.0</td>\n      <td>NaN</td>\n      <td>120.0</td>\n      <td>50.0</td>\n    </tr>\n    <tr>\n      <th>26</th>\n      <td>126</td>\n      <td>Irene</td>\n      <td>Mikkilineni</td>\n      <td>IMIKKILI</td>\n      <td>650.124.1224</td>\n      <td>ST_CLERK</td>\n      <td>2700.0</td>\n      <td>NaN</td>\n      <td>120.0</td>\n      <td>50.0</td>\n    </tr>\n    <tr>\n      <th>27</th>\n      <td>127</td>\n      <td>James</td>\n      <td>Landry</td>\n      <td>JLANDRY</td>\n      <td>650.124.1334</td>\n      <td>ST_CLERK</td>\n      <td>2400.0</td>\n      <td>NaN</td>\n      <td>120.0</td>\n      <td>50.0</td>\n    </tr>\n    <tr>\n      <th>28</th>\n      <td>128</td>\n      <td>Steven</td>\n      <td>Markle</td>\n      <td>SMARKLE</td>\n      <td>650.124.1434</td>\n      <td>ST_CLERK</td>\n      <td>2200.0</td>\n      <td>NaN</td>\n      <td>120.0</td>\n      <td>50.0</td>\n    </tr>\n    <tr>\n      <th>29</th>\n      <td>129</td>\n      <td>Laura</td>\n      <td>Bissot</td>\n      <td>LBISSOT</td>\n      <td>650.124.5234</td>\n      <td>ST_CLERK</td>\n      <td>3300.0</td>\n      <td>NaN</td>\n      <td>121.0</td>\n      <td>50.0</td>\n    </tr>\n    <tr>\n      <th>30</th>\n      <td>130</td>\n      <td>Mozhe</td>\n      <td>Atkinson</td>\n      <td>MATKINSO</td>\n      <td>650.124.6234</td>\n      <td>ST_CLERK</td>\n      <td>2800.0</td>\n      <td>NaN</td>\n      <td>121.0</td>\n      <td>50.0</td>\n    </tr>\n    <tr>\n      <th>31</th>\n      <td>131</td>\n      <td>James</td>\n      <td>Marlow</td>\n      <td>JAMRLOW</td>\n      <td>650.124.7234</td>\n      <td>ST_CLERK</td>\n      <td>2500.0</td>\n      <td>NaN</td>\n      <td>121.0</td>\n      <td>50.0</td>\n    </tr>\n    <tr>\n      <th>32</th>\n      <td>132</td>\n      <td>TJ</td>\n      <td>Olson</td>\n      <td>TJOLSON</td>\n      <td>650.124.8234</td>\n      <td>ST_CLERK</td>\n      <td>2100.0</td>\n      <td>NaN</td>\n      <td>121.0</td>\n      <td>50.0</td>\n    </tr>\n    <tr>\n      <th>33</th>\n      <td>133</td>\n      <td>Jason</td>\n      <td>Mallin</td>\n      <td>JMALLIN</td>\n      <td>650.127.1934</td>\n      <td>ST_CLERK</td>\n      <td>3300.0</td>\n      <td>NaN</td>\n      <td>122.0</td>\n      <td>50.0</td>\n    </tr>\n    <tr>\n      <th>34</th>\n      <td>134</td>\n      <td>Michael</td>\n      <td>Rogers</td>\n      <td>MROGERS</td>\n      <td>650.127.1834</td>\n      <td>ST_CLERK</td>\n      <td>2900.0</td>\n      <td>NaN</td>\n      <td>122.0</td>\n      <td>50.0</td>\n    </tr>\n    <tr>\n      <th>35</th>\n      <td>135</td>\n      <td>Ki</td>\n      <td>Gee</td>\n      <td>KGEE</td>\n      <td>650.127.1734</td>\n      <td>ST_CLERK</td>\n      <td>2400.0</td>\n      <td>NaN</td>\n      <td>122.0</td>\n      <td>50.0</td>\n    </tr>\n    <tr>\n      <th>36</th>\n      <td>136</td>\n      <td>Hazel</td>\n      <td>Philtanker</td>\n      <td>HPHILTAN</td>\n      <td>650.127.1634</td>\n      <td>ST_CLERK</td>\n      <td>2200.0</td>\n      <td>NaN</td>\n      <td>122.0</td>\n      <td>50.0</td>\n    </tr>\n    <tr>\n      <th>37</th>\n      <td>137</td>\n      <td>Renske</td>\n      <td>Ladwig</td>\n      <td>RLADWIG</td>\n      <td>650.121.1234</td>\n      <td>ST_CLERK</td>\n      <td>3600.0</td>\n      <td>NaN</td>\n      <td>123.0</td>\n      <td>50.0</td>\n    </tr>\n    <tr>\n      <th>38</th>\n      <td>138</td>\n      <td>Stephen</td>\n      <td>Stiles</td>\n      <td>SSTILES</td>\n      <td>650.121.2034</td>\n      <td>ST_CLERK</td>\n      <td>3200.0</td>\n      <td>NaN</td>\n      <td>123.0</td>\n      <td>50.0</td>\n    </tr>\n    <tr>\n      <th>39</th>\n      <td>139</td>\n      <td>John</td>\n      <td>Seo</td>\n      <td>JSEO</td>\n      <td>650.121.2019</td>\n      <td>ST_CLERK</td>\n      <td>2700.0</td>\n      <td>NaN</td>\n      <td>123.0</td>\n      <td>50.0</td>\n    </tr>\n    <tr>\n      <th>40</th>\n      <td>140</td>\n      <td>Joshua</td>\n      <td>Patel</td>\n      <td>JPATEL</td>\n      <td>650.121.1834</td>\n      <td>ST_CLERK</td>\n      <td>2500.0</td>\n      <td>NaN</td>\n      <td>123.0</td>\n      <td>50.0</td>\n    </tr>\n    <tr>\n      <th>41</th>\n      <td>141</td>\n      <td>Trenna</td>\n      <td>Rajs</td>\n      <td>TRAJS</td>\n      <td>650.121.8009</td>\n      <td>ST_CLERK</td>\n      <td>3500.0</td>\n      <td>NaN</td>\n      <td>124.0</td>\n      <td>50.0</td>\n    </tr>\n    <tr>\n      <th>42</th>\n      <td>142</td>\n      <td>Curtis</td>\n      <td>Davies</td>\n      <td>CDAVIES</td>\n      <td>650.121.2994</td>\n      <td>ST_CLERK</td>\n      <td>3100.0</td>\n      <td>NaN</td>\n      <td>124.0</td>\n      <td>50.0</td>\n    </tr>\n    <tr>\n      <th>43</th>\n      <td>143</td>\n      <td>Randall</td>\n      <td>Matos</td>\n      <td>RMATOS</td>\n      <td>650.121.2874</td>\n      <td>ST_CLERK</td>\n      <td>2600.0</td>\n      <td>NaN</td>\n      <td>124.0</td>\n      <td>50.0</td>\n    </tr>\n    <tr>\n      <th>44</th>\n      <td>144</td>\n      <td>Peter</td>\n      <td>Vargas</td>\n      <td>PVARGAS</td>\n      <td>650.121.2004</td>\n      <td>ST_CLERK</td>\n      <td>2500.0</td>\n      <td>NaN</td>\n      <td>124.0</td>\n      <td>50.0</td>\n    </tr>\n    <tr>\n      <th>80</th>\n      <td>180</td>\n      <td>Winston</td>\n      <td>Taylor</td>\n      <td>WTAYLOR</td>\n      <td>650.507.9876</td>\n      <td>SH_CLERK</td>\n      <td>3200.0</td>\n      <td>NaN</td>\n      <td>120.0</td>\n      <td>50.0</td>\n    </tr>\n    <tr>\n      <th>81</th>\n      <td>181</td>\n      <td>Jean</td>\n      <td>Fleaur</td>\n      <td>JFLEAUR</td>\n      <td>650.507.9877</td>\n      <td>SH_CLERK</td>\n      <td>3100.0</td>\n      <td>NaN</td>\n      <td>120.0</td>\n      <td>50.0</td>\n    </tr>\n    <tr>\n      <th>82</th>\n      <td>182</td>\n      <td>Martha</td>\n      <td>Sullivan</td>\n      <td>MSULLIVA</td>\n      <td>650.507.9878</td>\n      <td>SH_CLERK</td>\n      <td>2500.0</td>\n      <td>NaN</td>\n      <td>120.0</td>\n      <td>50.0</td>\n    </tr>\n    <tr>\n      <th>83</th>\n      <td>183</td>\n      <td>Girard</td>\n      <td>Geoni</td>\n      <td>GGEONI</td>\n      <td>650.507.9879</td>\n      <td>SH_CLERK</td>\n      <td>2800.0</td>\n      <td>NaN</td>\n      <td>120.0</td>\n      <td>50.0</td>\n    </tr>\n    <tr>\n      <th>84</th>\n      <td>184</td>\n      <td>Nandita</td>\n      <td>Sarchand</td>\n      <td>NSARCHAN</td>\n      <td>650.509.1876</td>\n      <td>SH_CLERK</td>\n      <td>4200.0</td>\n      <td>NaN</td>\n      <td>121.0</td>\n      <td>50.0</td>\n    </tr>\n    <tr>\n      <th>85</th>\n      <td>185</td>\n      <td>Alexis</td>\n      <td>Bull</td>\n      <td>ABULL</td>\n      <td>650.509.2876</td>\n      <td>SH_CLERK</td>\n      <td>4100.0</td>\n      <td>NaN</td>\n      <td>121.0</td>\n      <td>50.0</td>\n    </tr>\n    <tr>\n      <th>86</th>\n      <td>186</td>\n      <td>Julia</td>\n      <td>Dellinger</td>\n      <td>JDELLING</td>\n      <td>650.509.3876</td>\n      <td>SH_CLERK</td>\n      <td>3400.0</td>\n      <td>NaN</td>\n      <td>121.0</td>\n      <td>50.0</td>\n    </tr>\n    <tr>\n      <th>87</th>\n      <td>187</td>\n      <td>Anthony</td>\n      <td>Cabrio</td>\n      <td>ACABRIO</td>\n      <td>650.509.4876</td>\n      <td>SH_CLERK</td>\n      <td>3000.0</td>\n      <td>NaN</td>\n      <td>121.0</td>\n      <td>50.0</td>\n    </tr>\n    <tr>\n      <th>88</th>\n      <td>188</td>\n      <td>Kelly</td>\n      <td>Chung</td>\n      <td>KCHUNG</td>\n      <td>650.505.1876</td>\n      <td>SH_CLERK</td>\n      <td>3800.0</td>\n      <td>NaN</td>\n      <td>122.0</td>\n      <td>50.0</td>\n    </tr>\n    <tr>\n      <th>89</th>\n      <td>189</td>\n      <td>Jennifer</td>\n      <td>Dilly</td>\n      <td>JDILLY</td>\n      <td>650.505.2876</td>\n      <td>SH_CLERK</td>\n      <td>3600.0</td>\n      <td>NaN</td>\n      <td>122.0</td>\n      <td>50.0</td>\n    </tr>\n    <tr>\n      <th>90</th>\n      <td>190</td>\n      <td>Timothy</td>\n      <td>Gates</td>\n      <td>TGATES</td>\n      <td>650.505.3876</td>\n      <td>SH_CLERK</td>\n      <td>2900.0</td>\n      <td>NaN</td>\n      <td>122.0</td>\n      <td>50.0</td>\n    </tr>\n    <tr>\n      <th>91</th>\n      <td>191</td>\n      <td>Randall</td>\n      <td>Perkins</td>\n      <td>RPERKINS</td>\n      <td>650.505.4876</td>\n      <td>SH_CLERK</td>\n      <td>2500.0</td>\n      <td>NaN</td>\n      <td>122.0</td>\n      <td>50.0</td>\n    </tr>\n    <tr>\n      <th>92</th>\n      <td>192</td>\n      <td>Sarah</td>\n      <td>Bell</td>\n      <td>SBELL</td>\n      <td>650.501.1876</td>\n      <td>SH_CLERK</td>\n      <td>4000.0</td>\n      <td>NaN</td>\n      <td>123.0</td>\n      <td>50.0</td>\n    </tr>\n    <tr>\n      <th>93</th>\n      <td>193</td>\n      <td>Britney</td>\n      <td>Everett</td>\n      <td>BEVERETT</td>\n      <td>650.501.2876</td>\n      <td>SH_CLERK</td>\n      <td>3900.0</td>\n      <td>NaN</td>\n      <td>123.0</td>\n      <td>50.0</td>\n    </tr>\n    <tr>\n      <th>94</th>\n      <td>194</td>\n      <td>Samuel</td>\n      <td>McCain</td>\n      <td>SMCCAIN</td>\n      <td>650.501.3876</td>\n      <td>SH_CLERK</td>\n      <td>3200.0</td>\n      <td>NaN</td>\n      <td>123.0</td>\n      <td>50.0</td>\n    </tr>\n    <tr>\n      <th>95</th>\n      <td>195</td>\n      <td>Vance</td>\n      <td>Jones</td>\n      <td>VJONES</td>\n      <td>650.501.4876</td>\n      <td>SH_CLERK</td>\n      <td>2800.0</td>\n      <td>NaN</td>\n      <td>123.0</td>\n      <td>50.0</td>\n    </tr>\n    <tr>\n      <th>96</th>\n      <td>196</td>\n      <td>Alana</td>\n      <td>Walsh</td>\n      <td>AWALSH</td>\n      <td>650.507.9811</td>\n      <td>SH_CLERK</td>\n      <td>3100.0</td>\n      <td>NaN</td>\n      <td>124.0</td>\n      <td>50.0</td>\n    </tr>\n    <tr>\n      <th>97</th>\n      <td>197</td>\n      <td>Kevin</td>\n      <td>Feeney</td>\n      <td>KFEENEY</td>\n      <td>650.507.9822</td>\n      <td>SH_CLERK</td>\n      <td>3000.0</td>\n      <td>NaN</td>\n      <td>124.0</td>\n      <td>50.0</td>\n    </tr>\n    <tr>\n      <th>98</th>\n      <td>198</td>\n      <td>Donald</td>\n      <td>OConnell</td>\n      <td>DOCONNEL</td>\n      <td>650.507.9833</td>\n      <td>SH_CLERK</td>\n      <td>2600.0</td>\n      <td>NaN</td>\n      <td>124.0</td>\n      <td>50.0</td>\n    </tr>\n    <tr>\n      <th>99</th>\n      <td>199</td>\n      <td>Douglas</td>\n      <td>Grant</td>\n      <td>DGRANT</td>\n      <td>650.507.9844</td>\n      <td>SH_CLERK</td>\n      <td>2600.0</td>\n      <td>NaN</td>\n      <td>124.0</td>\n      <td>50.0</td>\n    </tr>\n  </tbody>\n</table>\n</div>"
     },
     "execution_count": 8,
     "metadata": {},
     "output_type": "execute_result"
    }
   ],
   "source": [
    "df.groupby(\"department_id\").get_group(50) # # 获取分组为50的数据"
   ],
   "metadata": {
    "collapsed": false,
    "ExecuteTime": {
     "end_time": "2025-07-27T14:18:51.564890200Z",
     "start_time": "2025-07-27T14:18:51.535838700Z"
    }
   }
  },
  {
   "cell_type": "markdown",
   "source": [
    "2.按列取值"
   ],
   "metadata": {
    "collapsed": false
   }
  },
  {
   "cell_type": "code",
   "execution_count": 9,
   "outputs": [
    {
     "data": {
      "text/plain": "department_id\n10.0      4400.000000\n20.0      9500.000000\n30.0      4150.000000\n40.0      6500.000000\n50.0      3475.555556\n60.0      5760.000000\n70.0     10000.000000\n80.0      8955.882353\n90.0     19333.333333\n100.0     8600.000000\n110.0    10150.000000\nName: salary, dtype: float64"
     },
     "execution_count": 9,
     "metadata": {},
     "output_type": "execute_result"
    }
   ],
   "source": [
    "df.groupby(\"department_id\")[\"salary\"].mean()"
   ],
   "metadata": {
    "collapsed": false,
    "ExecuteTime": {
     "end_time": "2025-07-27T14:19:41.080079Z",
     "start_time": "2025-07-27T14:19:41.064282700Z"
    }
   }
  },
  {
   "cell_type": "markdown",
   "source": [
    "3.按组迭代"
   ],
   "metadata": {
    "collapsed": false
   }
  },
  {
   "cell_type": "code",
   "execution_count": 10,
   "outputs": [
    {
     "name": "stdout",
     "output_type": "stream",
     "text": [
      "当前组为10.0，组里的数据情况(1, 10):\n",
      "     employee_id first_name last_name\n",
      "100          200   Jennifer    Whalen\n",
      "-------------------\n",
      "当前组为20.0，组里的数据情况(2, 10):\n",
      "     employee_id first_name  last_name\n",
      "101          201    Michael  Hartstein\n",
      "102          202        Pat        Fay\n",
      "-------------------\n",
      "当前组为30.0，组里的数据情况(6, 10):\n",
      "    employee_id first_name   last_name\n",
      "14          114        Den    Raphaely\n",
      "15          115  Alexander        Khoo\n",
      "16          116     Shelli       Baida\n",
      "17          117      Sigal      Tobias\n",
      "18          118        Guy      Himuro\n",
      "19          119      Karen  Colmenares\n",
      "-------------------\n",
      "当前组为40.0，组里的数据情况(1, 10):\n",
      "     employee_id first_name last_name\n",
      "103          203      Susan    Mavris\n",
      "-------------------\n",
      "当前组为50.0，组里的数据情况(45, 10):\n",
      "    employee_id first_name    last_name\n",
      "20          120    Matthew        Weiss\n",
      "21          121       Adam        Fripp\n",
      "22          122      Payam     Kaufling\n",
      "23          123     Shanta      Vollman\n",
      "24          124      Kevin      Mourgos\n",
      "25          125      Julia        Nayer\n",
      "26          126      Irene  Mikkilineni\n",
      "27          127      James       Landry\n",
      "28          128     Steven       Markle\n",
      "29          129      Laura       Bissot\n",
      "30          130      Mozhe     Atkinson\n",
      "31          131      James       Marlow\n",
      "32          132         TJ        Olson\n",
      "33          133      Jason       Mallin\n",
      "34          134    Michael       Rogers\n",
      "35          135         Ki          Gee\n",
      "36          136      Hazel   Philtanker\n",
      "37          137     Renske       Ladwig\n",
      "38          138    Stephen       Stiles\n",
      "39          139       John          Seo\n",
      "40          140     Joshua        Patel\n",
      "41          141     Trenna         Rajs\n",
      "42          142     Curtis       Davies\n",
      "43          143    Randall        Matos\n",
      "44          144      Peter       Vargas\n",
      "80          180    Winston       Taylor\n",
      "81          181       Jean       Fleaur\n",
      "82          182     Martha     Sullivan\n",
      "83          183     Girard        Geoni\n",
      "84          184    Nandita     Sarchand\n",
      "85          185     Alexis         Bull\n",
      "86          186      Julia    Dellinger\n",
      "87          187    Anthony       Cabrio\n",
      "88          188      Kelly        Chung\n",
      "89          189   Jennifer        Dilly\n",
      "90          190    Timothy        Gates\n",
      "91          191    Randall      Perkins\n",
      "92          192      Sarah         Bell\n",
      "93          193    Britney      Everett\n",
      "94          194     Samuel       McCain\n",
      "95          195      Vance        Jones\n",
      "96          196      Alana        Walsh\n",
      "97          197      Kevin       Feeney\n",
      "98          198     Donald     OConnell\n",
      "99          199    Douglas        Grant\n",
      "-------------------\n",
      "当前组为60.0，组里的数据情况(5, 10):\n",
      "   employee_id first_name  last_name\n",
      "3          103  Alexander     Hunold\n",
      "4          104      Bruce      Ernst\n",
      "5          105      David     Austin\n",
      "6          106      Valli  Pataballa\n",
      "7          107      Diana    Lorentz\n",
      "-------------------\n",
      "当前组为70.0，组里的数据情况(1, 10):\n",
      "     employee_id first_name last_name\n",
      "104          204    Hermann      Baer\n",
      "-------------------\n",
      "当前组为80.0，组里的数据情况(34, 10):\n",
      "    employee_id   first_name   last_name\n",
      "45          145         John     Russell\n",
      "46          146        Karen    Partners\n",
      "47          147      Alberto   Errazuriz\n",
      "48          148       Gerald   Cambrault\n",
      "49          149        Eleni     Zlotkey\n",
      "50          150        Peter      Tucker\n",
      "51          151        David   Bernstein\n",
      "52          152        Peter        Hall\n",
      "53          153  Christopher       Olsen\n",
      "54          154      Nanette   Cambrault\n",
      "55          155       Oliver     Tuvault\n",
      "56          156      Janette        King\n",
      "57          157      Patrick       Sully\n",
      "58          158        Allan      McEwen\n",
      "59          159      Lindsey       Smith\n",
      "60          160       Louise       Doran\n",
      "61          161       Sarath      Sewall\n",
      "62          162        Clara     Vishney\n",
      "63          163     Danielle      Greene\n",
      "64          164       Mattea     Marvins\n",
      "65          165        David         Lee\n",
      "66          166       Sundar        Ande\n",
      "67          167         Amit       Banda\n",
      "68          168         Lisa        Ozer\n",
      "69          169     Harrison       Bloom\n",
      "70          170       Tayler         Fox\n",
      "71          171      William       Smith\n",
      "72          172    Elizabeth       Bates\n",
      "73          173      Sundita       Kumar\n",
      "74          174        Ellen        Abel\n",
      "75          175       Alyssa      Hutton\n",
      "76          176     Jonathon      Taylor\n",
      "77          177         Jack  Livingston\n",
      "79          179      Charles     Johnson\n",
      "-------------------\n",
      "当前组为90.0，组里的数据情况(3, 10):\n",
      "   employee_id first_name last_name\n",
      "0          100     Steven      King\n",
      "1          101      N_ann   Kochhar\n",
      "2          102        Lex   De Haan\n",
      "-------------------\n",
      "当前组为100.0，组里的数据情况(6, 10):\n",
      "    employee_id   first_name  last_name\n",
      "8           108        Nancy  Greenberg\n",
      "9           109       Daniel     Faviet\n",
      "10          110         John       Chen\n",
      "11          111       Ismael    Sciarra\n",
      "12          112  Jose Manuel      Urman\n",
      "13          113         Luis       Popp\n",
      "-------------------\n",
      "当前组为110.0，组里的数据情况(2, 10):\n",
      "     employee_id first_name last_name\n",
      "105          205    Shelley   Higgins\n",
      "106          206    William     Gietz\n",
      "-------------------\n"
     ]
    }
   ],
   "source": [
    "for dept_id,group in df.groupby(\"department_id\"):\n",
    "    print(f\"当前组为{dept_id}，组里的数据情况{group.shape}:\")\n",
    "    print(group.iloc[:,0:3])\n",
    "    print(\"-------------------\")"
   ],
   "metadata": {
    "collapsed": false,
    "ExecuteTime": {
     "end_time": "2025-07-27T14:21:02.227299400Z",
     "start_time": "2025-07-27T14:21:02.210708900Z"
    }
   }
  },
  {
   "cell_type": "markdown",
   "source": [
    "4.按多字段分组"
   ],
   "metadata": {
    "collapsed": false
   }
  },
  {
   "cell_type": "code",
   "execution_count": 13,
   "outputs": [
    {
     "data": {
      "text/plain": "    department_id      job_id        salary  commission_pct\n0            10.0     AD_ASST   4400.000000             NaN\n1            20.0      MK_MAN  13000.000000             NaN\n2            20.0      MK_REP   6000.000000             NaN\n3            30.0    PU_CLERK   2780.000000             NaN\n4            30.0      PU_MAN  11000.000000             NaN\n5            40.0      HR_REP   6500.000000             NaN\n6            50.0    SH_CLERK   3215.000000             NaN\n7            50.0    ST_CLERK   2785.000000             NaN\n8            50.0      ST_MAN   7280.000000             NaN\n9            60.0     IT_PROG   5760.000000             NaN\n10           70.0      PR_REP  10000.000000             NaN\n11           80.0      SA_MAN  12200.000000        0.300000\n12           80.0      SA_REP   8396.551724        0.212069\n13           90.0     AD_PRES  24000.000000             NaN\n14           90.0       AD_VP  17000.000000             NaN\n15          100.0  FI_ACCOUNT   7920.000000             NaN\n16          100.0      FI_MGR  12000.000000             NaN\n17          110.0  AC_ACCOUNT   8300.000000             NaN\n18          110.0      AC_MGR  12000.000000             NaN",
      "text/html": "<div>\n<style scoped>\n    .dataframe tbody tr th:only-of-type {\n        vertical-align: middle;\n    }\n\n    .dataframe tbody tr th {\n        vertical-align: top;\n    }\n\n    .dataframe thead th {\n        text-align: right;\n    }\n</style>\n<table border=\"1\" class=\"dataframe\">\n  <thead>\n    <tr style=\"text-align: right;\">\n      <th></th>\n      <th>department_id</th>\n      <th>job_id</th>\n      <th>salary</th>\n      <th>commission_pct</th>\n    </tr>\n  </thead>\n  <tbody>\n    <tr>\n      <th>0</th>\n      <td>10.0</td>\n      <td>AD_ASST</td>\n      <td>4400.000000</td>\n      <td>NaN</td>\n    </tr>\n    <tr>\n      <th>1</th>\n      <td>20.0</td>\n      <td>MK_MAN</td>\n      <td>13000.000000</td>\n      <td>NaN</td>\n    </tr>\n    <tr>\n      <th>2</th>\n      <td>20.0</td>\n      <td>MK_REP</td>\n      <td>6000.000000</td>\n      <td>NaN</td>\n    </tr>\n    <tr>\n      <th>3</th>\n      <td>30.0</td>\n      <td>PU_CLERK</td>\n      <td>2780.000000</td>\n      <td>NaN</td>\n    </tr>\n    <tr>\n      <th>4</th>\n      <td>30.0</td>\n      <td>PU_MAN</td>\n      <td>11000.000000</td>\n      <td>NaN</td>\n    </tr>\n    <tr>\n      <th>5</th>\n      <td>40.0</td>\n      <td>HR_REP</td>\n      <td>6500.000000</td>\n      <td>NaN</td>\n    </tr>\n    <tr>\n      <th>6</th>\n      <td>50.0</td>\n      <td>SH_CLERK</td>\n      <td>3215.000000</td>\n      <td>NaN</td>\n    </tr>\n    <tr>\n      <th>7</th>\n      <td>50.0</td>\n      <td>ST_CLERK</td>\n      <td>2785.000000</td>\n      <td>NaN</td>\n    </tr>\n    <tr>\n      <th>8</th>\n      <td>50.0</td>\n      <td>ST_MAN</td>\n      <td>7280.000000</td>\n      <td>NaN</td>\n    </tr>\n    <tr>\n      <th>9</th>\n      <td>60.0</td>\n      <td>IT_PROG</td>\n      <td>5760.000000</td>\n      <td>NaN</td>\n    </tr>\n    <tr>\n      <th>10</th>\n      <td>70.0</td>\n      <td>PR_REP</td>\n      <td>10000.000000</td>\n      <td>NaN</td>\n    </tr>\n    <tr>\n      <th>11</th>\n      <td>80.0</td>\n      <td>SA_MAN</td>\n      <td>12200.000000</td>\n      <td>0.300000</td>\n    </tr>\n    <tr>\n      <th>12</th>\n      <td>80.0</td>\n      <td>SA_REP</td>\n      <td>8396.551724</td>\n      <td>0.212069</td>\n    </tr>\n    <tr>\n      <th>13</th>\n      <td>90.0</td>\n      <td>AD_PRES</td>\n      <td>24000.000000</td>\n      <td>NaN</td>\n    </tr>\n    <tr>\n      <th>14</th>\n      <td>90.0</td>\n      <td>AD_VP</td>\n      <td>17000.000000</td>\n      <td>NaN</td>\n    </tr>\n    <tr>\n      <th>15</th>\n      <td>100.0</td>\n      <td>FI_ACCOUNT</td>\n      <td>7920.000000</td>\n      <td>NaN</td>\n    </tr>\n    <tr>\n      <th>16</th>\n      <td>100.0</td>\n      <td>FI_MGR</td>\n      <td>12000.000000</td>\n      <td>NaN</td>\n    </tr>\n    <tr>\n      <th>17</th>\n      <td>110.0</td>\n      <td>AC_ACCOUNT</td>\n      <td>8300.000000</td>\n      <td>NaN</td>\n    </tr>\n    <tr>\n      <th>18</th>\n      <td>110.0</td>\n      <td>AC_MGR</td>\n      <td>12000.000000</td>\n      <td>NaN</td>\n    </tr>\n  </tbody>\n</table>\n</div>"
     },
     "execution_count": 13,
     "metadata": {},
     "output_type": "execute_result"
    }
   ],
   "source": [
    "salary_mean = df.groupby([\"department_id\", \"job_id\"],as_index=False)[\n",
    "    [\"salary\", \"commission_pct\"]\n",
    "].mean()\n",
    "salary_mean"
   ],
   "metadata": {
    "collapsed": false,
    "ExecuteTime": {
     "end_time": "2025-07-27T14:24:55.167204700Z",
     "start_time": "2025-07-27T14:24:55.148489400Z"
    }
   }
  },
  {
   "cell_type": "code",
   "execution_count": null,
   "outputs": [],
   "source": [],
   "metadata": {
    "collapsed": false
   }
  }
 ],
 "metadata": {
  "kernelspec": {
   "display_name": "Python 3",
   "language": "python",
   "name": "python3"
  },
  "language_info": {
   "codemirror_mode": {
    "name": "ipython",
    "version": 2
   },
   "file_extension": ".py",
   "mimetype": "text/x-python",
   "name": "python",
   "nbconvert_exporter": "python",
   "pygments_lexer": "ipython2",
   "version": "2.7.6"
  }
 },
 "nbformat": 4,
 "nbformat_minor": 0
}
