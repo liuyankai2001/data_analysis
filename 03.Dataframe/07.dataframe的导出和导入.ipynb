{
 "cells": [
  {
   "cell_type": "code",
   "execution_count": 1,
   "metadata": {
    "collapsed": true,
    "ExecuteTime": {
     "end_time": "2025-07-27T06:41:42.759881Z",
     "start_time": "2025-07-27T06:41:42.452200Z"
    }
   },
   "outputs": [],
   "source": [
    "import numpy as np\n",
    "import pandas as pd"
   ]
  },
  {
   "cell_type": "code",
   "execution_count": 2,
   "outputs": [
    {
     "data": {
      "text/plain": "   age name   id\n0   20   张三  101\n1   30   李四  102\n2   40   王五  103\n3   10   赵六  104",
      "text/html": "<div>\n<style scoped>\n    .dataframe tbody tr th:only-of-type {\n        vertical-align: middle;\n    }\n\n    .dataframe tbody tr th {\n        vertical-align: top;\n    }\n\n    .dataframe thead th {\n        text-align: right;\n    }\n</style>\n<table border=\"1\" class=\"dataframe\">\n  <thead>\n    <tr style=\"text-align: right;\">\n      <th></th>\n      <th>age</th>\n      <th>name</th>\n      <th>id</th>\n    </tr>\n  </thead>\n  <tbody>\n    <tr>\n      <th>0</th>\n      <td>20</td>\n      <td>张三</td>\n      <td>101</td>\n    </tr>\n    <tr>\n      <th>1</th>\n      <td>30</td>\n      <td>李四</td>\n      <td>102</td>\n    </tr>\n    <tr>\n      <th>2</th>\n      <td>40</td>\n      <td>王五</td>\n      <td>103</td>\n    </tr>\n    <tr>\n      <th>3</th>\n      <td>10</td>\n      <td>赵六</td>\n      <td>104</td>\n    </tr>\n  </tbody>\n</table>\n</div>"
     },
     "execution_count": 2,
     "metadata": {},
     "output_type": "execute_result"
    }
   ],
   "source": [
    "df = pd.DataFrame({\"age\": [20, 30, 40, 10], \"name\": [\"张三\", \"李四\", \"王五\", \"赵六\"], \"id\": [101, 102, 103, 104]})\n",
    "# df.set_index(\"id\", inplace=True)\n",
    "df"
   ],
   "metadata": {
    "collapsed": false,
    "ExecuteTime": {
     "end_time": "2025-07-27T06:41:43.593194700Z",
     "start_time": "2025-07-27T06:41:43.573212200Z"
    }
   }
  },
  {
   "cell_type": "code",
   "execution_count": 3,
   "outputs": [],
   "source": [
    "df.to_csv('data.csv')"
   ],
   "metadata": {
    "collapsed": false,
    "ExecuteTime": {
     "end_time": "2025-07-27T06:41:49.991804400Z",
     "start_time": "2025-07-27T06:41:49.964593800Z"
    }
   }
  },
  {
   "cell_type": "code",
   "execution_count": 5,
   "outputs": [
    {
     "data": {
      "text/plain": "   age name   id\n0   20   张三  101\n1   30   李四  102\n2   40   王五  103\n3   10   赵六  104",
      "text/html": "<div>\n<style scoped>\n    .dataframe tbody tr th:only-of-type {\n        vertical-align: middle;\n    }\n\n    .dataframe tbody tr th {\n        vertical-align: top;\n    }\n\n    .dataframe thead th {\n        text-align: right;\n    }\n</style>\n<table border=\"1\" class=\"dataframe\">\n  <thead>\n    <tr style=\"text-align: right;\">\n      <th></th>\n      <th>age</th>\n      <th>name</th>\n      <th>id</th>\n    </tr>\n  </thead>\n  <tbody>\n    <tr>\n      <th>0</th>\n      <td>20</td>\n      <td>张三</td>\n      <td>101</td>\n    </tr>\n    <tr>\n      <th>1</th>\n      <td>30</td>\n      <td>李四</td>\n      <td>102</td>\n    </tr>\n    <tr>\n      <th>2</th>\n      <td>40</td>\n      <td>王五</td>\n      <td>103</td>\n    </tr>\n    <tr>\n      <th>3</th>\n      <td>10</td>\n      <td>赵六</td>\n      <td>104</td>\n    </tr>\n  </tbody>\n</table>\n</div>"
     },
     "execution_count": 5,
     "metadata": {},
     "output_type": "execute_result"
    }
   ],
   "source": [
    "df = pd.read_csv('data.csv',index_col=0)\n",
    "df"
   ],
   "metadata": {
    "collapsed": false,
    "ExecuteTime": {
     "end_time": "2025-07-27T06:42:19.256252700Z",
     "start_time": "2025-07-27T06:42:19.235541300Z"
    }
   }
  },
  {
   "cell_type": "code",
   "execution_count": 6,
   "outputs": [],
   "source": [
    "df.to_pickle('data.pkl')"
   ],
   "metadata": {
    "collapsed": false,
    "ExecuteTime": {
     "end_time": "2025-07-27T06:43:26.341777300Z",
     "start_time": "2025-07-27T06:43:26.318423300Z"
    }
   }
  },
  {
   "cell_type": "code",
   "execution_count": null,
   "outputs": [],
   "source": [],
   "metadata": {
    "collapsed": false
   }
  }
 ],
 "metadata": {
  "kernelspec": {
   "display_name": "Python 3",
   "language": "python",
   "name": "python3"
  },
  "language_info": {
   "codemirror_mode": {
    "name": "ipython",
    "version": 2
   },
   "file_extension": ".py",
   "mimetype": "text/x-python",
   "name": "python",
   "nbconvert_exporter": "python",
   "pygments_lexer": "ipython2",
   "version": "2.7.6"
  }
 },
 "nbformat": 4,
 "nbformat_minor": 0
}
