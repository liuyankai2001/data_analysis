{
 "cells": [
  {
   "cell_type": "code",
   "execution_count": 1,
   "metadata": {
    "collapsed": true,
    "ExecuteTime": {
     "end_time": "2025-07-27T05:47:36.715082400Z",
     "start_time": "2025-07-27T05:47:36.399599400Z"
    }
   },
   "outputs": [],
   "source": [
    "import pandas as pd"
   ]
  },
  {
   "cell_type": "code",
   "execution_count": 2,
   "outputs": [
    {
     "data": {
      "text/plain": "    name  age\n101   张三   10\n102   李四   20\n103   王五   30\n104   赵六   40",
      "text/html": "<div>\n<style scoped>\n    .dataframe tbody tr th:only-of-type {\n        vertical-align: middle;\n    }\n\n    .dataframe tbody tr th {\n        vertical-align: top;\n    }\n\n    .dataframe thead th {\n        text-align: right;\n    }\n</style>\n<table border=\"1\" class=\"dataframe\">\n  <thead>\n    <tr style=\"text-align: right;\">\n      <th></th>\n      <th>name</th>\n      <th>age</th>\n    </tr>\n  </thead>\n  <tbody>\n    <tr>\n      <th>101</th>\n      <td>张三</td>\n      <td>10</td>\n    </tr>\n    <tr>\n      <th>102</th>\n      <td>李四</td>\n      <td>20</td>\n    </tr>\n    <tr>\n      <th>103</th>\n      <td>王五</td>\n      <td>30</td>\n    </tr>\n    <tr>\n      <th>104</th>\n      <td>赵六</td>\n      <td>40</td>\n    </tr>\n  </tbody>\n</table>\n</div>"
     },
     "execution_count": 2,
     "metadata": {},
     "output_type": "execute_result"
    }
   ],
   "source": [
    "df1 = pd.DataFrame(\n",
    " data={\"age\": [10, 20, 30, 40], \"name\": [\"张三\", \"李四\", \"王五\", \"赵六\"]},\n",
    " columns=[\"name\", \"age\"],\n",
    " index=[101, 102, 103, 104],\n",
    ")\n",
    "df2 = pd.DataFrame(\n",
    " data={\"age\": [10, 20, 30, 40], \"name\": [\"张三\", \"李四\", \"王五\", \"田七\"]},\n",
    " columns=[\"name\", \"age\"],\n",
    " index=[102, 103, 104, 105],\n",
    ")\n",
    "df1"
   ],
   "metadata": {
    "collapsed": false,
    "ExecuteTime": {
     "end_time": "2025-07-27T05:48:00.179117300Z",
     "start_time": "2025-07-27T05:48:00.154159900Z"
    }
   }
  },
  {
   "cell_type": "code",
   "execution_count": 3,
   "outputs": [
    {
     "data": {
      "text/plain": "    name  age\n102   张三   10\n103   李四   20\n104   王五   30\n105   田七   40",
      "text/html": "<div>\n<style scoped>\n    .dataframe tbody tr th:only-of-type {\n        vertical-align: middle;\n    }\n\n    .dataframe tbody tr th {\n        vertical-align: top;\n    }\n\n    .dataframe thead th {\n        text-align: right;\n    }\n</style>\n<table border=\"1\" class=\"dataframe\">\n  <thead>\n    <tr style=\"text-align: right;\">\n      <th></th>\n      <th>name</th>\n      <th>age</th>\n    </tr>\n  </thead>\n  <tbody>\n    <tr>\n      <th>102</th>\n      <td>张三</td>\n      <td>10</td>\n    </tr>\n    <tr>\n      <th>103</th>\n      <td>李四</td>\n      <td>20</td>\n    </tr>\n    <tr>\n      <th>104</th>\n      <td>王五</td>\n      <td>30</td>\n    </tr>\n    <tr>\n      <th>105</th>\n      <td>田七</td>\n      <td>40</td>\n    </tr>\n  </tbody>\n</table>\n</div>"
     },
     "execution_count": 3,
     "metadata": {},
     "output_type": "execute_result"
    }
   ],
   "source": [
    "df2"
   ],
   "metadata": {
    "collapsed": false,
    "ExecuteTime": {
     "end_time": "2025-07-27T05:48:02.713889600Z",
     "start_time": "2025-07-27T05:48:02.697020Z"
    }
   }
  },
  {
   "cell_type": "code",
   "execution_count": 4,
   "outputs": [
    {
     "name": "stdout",
     "output_type": "stream",
     "text": [
      "     name   age\n",
      "101   NaN   NaN\n",
      "102  李四张三  30.0\n",
      "103  王五李四  50.0\n",
      "104  赵六王五  70.0\n",
      "105   NaN   NaN\n"
     ]
    }
   ],
   "source": [
    "print(df1 + df2)"
   ],
   "metadata": {
    "collapsed": false,
    "ExecuteTime": {
     "end_time": "2025-07-27T05:48:13.413788700Z",
     "start_time": "2025-07-27T05:48:13.408775500Z"
    }
   }
  },
  {
   "cell_type": "code",
   "execution_count": null,
   "outputs": [],
   "source": [],
   "metadata": {
    "collapsed": false
   }
  }
 ],
 "metadata": {
  "kernelspec": {
   "display_name": "Python 3",
   "language": "python",
   "name": "python3"
  },
  "language_info": {
   "codemirror_mode": {
    "name": "ipython",
    "version": 2
   },
   "file_extension": ".py",
   "mimetype": "text/x-python",
   "name": "python",
   "nbconvert_exporter": "python",
   "pygments_lexer": "ipython2",
   "version": "2.7.6"
  }
 },
 "nbformat": 4,
 "nbformat_minor": 0
}
