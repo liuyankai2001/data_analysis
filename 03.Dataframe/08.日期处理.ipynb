{
 "cells": [
  {
   "cell_type": "code",
   "execution_count": 1,
   "metadata": {
    "collapsed": true,
    "ExecuteTime": {
     "end_time": "2025-07-27T06:48:20.175324900Z",
     "start_time": "2025-07-27T06:48:19.865382300Z"
    }
   },
   "outputs": [],
   "source": [
    "import pandas as pd"
   ]
  },
  {
   "cell_type": "markdown",
   "source": [
    "1.to_datetime()进行日期格式转换"
   ],
   "metadata": {
    "collapsed": false
   }
  },
  {
   "cell_type": "code",
   "execution_count": 2,
   "outputs": [
    {
     "data": {
      "text/plain": "   gmv  trade_date\n0  100  2025-01-06\n1  200  2023-10-31\n2  300  2023-12-31\n3  400  2023-01-05",
      "text/html": "<div>\n<style scoped>\n    .dataframe tbody tr th:only-of-type {\n        vertical-align: middle;\n    }\n\n    .dataframe tbody tr th {\n        vertical-align: top;\n    }\n\n    .dataframe thead th {\n        text-align: right;\n    }\n</style>\n<table border=\"1\" class=\"dataframe\">\n  <thead>\n    <tr style=\"text-align: right;\">\n      <th></th>\n      <th>gmv</th>\n      <th>trade_date</th>\n    </tr>\n  </thead>\n  <tbody>\n    <tr>\n      <th>0</th>\n      <td>100</td>\n      <td>2025-01-06</td>\n    </tr>\n    <tr>\n      <th>1</th>\n      <td>200</td>\n      <td>2023-10-31</td>\n    </tr>\n    <tr>\n      <th>2</th>\n      <td>300</td>\n      <td>2023-12-31</td>\n    </tr>\n    <tr>\n      <th>3</th>\n      <td>400</td>\n      <td>2023-01-05</td>\n    </tr>\n  </tbody>\n</table>\n</div>"
     },
     "execution_count": 2,
     "metadata": {},
     "output_type": "execute_result"
    }
   ],
   "source": [
    "df = pd.DataFrame({\"gmv\":[100,200,300,400],\"trade_date\":[\"2025-01-06\",\"2023-10-31\",\"2023-12-31\",\"2023-01-05\"]})\n",
    "df"
   ],
   "metadata": {
    "collapsed": false,
    "ExecuteTime": {
     "end_time": "2025-07-27T06:48:45.990683900Z",
     "start_time": "2025-07-27T06:48:45.963628700Z"
    }
   }
  },
  {
   "cell_type": "code",
   "execution_count": 3,
   "outputs": [
    {
     "data": {
      "text/plain": "   gmv  trade_date        ymd\n0  100  2025-01-06 2025-01-06\n1  200  2023-10-31 2023-10-31\n2  300  2023-12-31 2023-12-31\n3  400  2023-01-05 2023-01-05",
      "text/html": "<div>\n<style scoped>\n    .dataframe tbody tr th:only-of-type {\n        vertical-align: middle;\n    }\n\n    .dataframe tbody tr th {\n        vertical-align: top;\n    }\n\n    .dataframe thead th {\n        text-align: right;\n    }\n</style>\n<table border=\"1\" class=\"dataframe\">\n  <thead>\n    <tr style=\"text-align: right;\">\n      <th></th>\n      <th>gmv</th>\n      <th>trade_date</th>\n      <th>ymd</th>\n    </tr>\n  </thead>\n  <tbody>\n    <tr>\n      <th>0</th>\n      <td>100</td>\n      <td>2025-01-06</td>\n      <td>2025-01-06</td>\n    </tr>\n    <tr>\n      <th>1</th>\n      <td>200</td>\n      <td>2023-10-31</td>\n      <td>2023-10-31</td>\n    </tr>\n    <tr>\n      <th>2</th>\n      <td>300</td>\n      <td>2023-12-31</td>\n      <td>2023-12-31</td>\n    </tr>\n    <tr>\n      <th>3</th>\n      <td>400</td>\n      <td>2023-01-05</td>\n      <td>2023-01-05</td>\n    </tr>\n  </tbody>\n</table>\n</div>"
     },
     "execution_count": 3,
     "metadata": {},
     "output_type": "execute_result"
    }
   ],
   "source": [
    "df['ymd'] = pd.to_datetime(df['trade_date'])\n",
    "df"
   ],
   "metadata": {
    "collapsed": false,
    "ExecuteTime": {
     "end_time": "2025-07-27T06:49:03.439513800Z",
     "start_time": "2025-07-27T06:49:03.425973300Z"
    }
   }
  },
  {
   "cell_type": "markdown",
   "source": [
    "2.时间属性访问器对象Series.dt,获取日期数据的年月日星期"
   ],
   "metadata": {
    "collapsed": false
   }
  },
  {
   "cell_type": "code",
   "execution_count": 6,
   "outputs": [
    {
     "data": {
      "text/plain": "   gmv  trade_date        ymd    yy  mm  dd\n0  100  2025-01-06 2025-01-06  2025   1   6\n1  200  2023-10-31 2023-10-31  2023  10  31\n2  300  2023-12-31 2023-12-31  2023  12  31\n3  400  2023-01-05 2023-01-05  2023   1   5",
      "text/html": "<div>\n<style scoped>\n    .dataframe tbody tr th:only-of-type {\n        vertical-align: middle;\n    }\n\n    .dataframe tbody tr th {\n        vertical-align: top;\n    }\n\n    .dataframe thead th {\n        text-align: right;\n    }\n</style>\n<table border=\"1\" class=\"dataframe\">\n  <thead>\n    <tr style=\"text-align: right;\">\n      <th></th>\n      <th>gmv</th>\n      <th>trade_date</th>\n      <th>ymd</th>\n      <th>yy</th>\n      <th>mm</th>\n      <th>dd</th>\n    </tr>\n  </thead>\n  <tbody>\n    <tr>\n      <th>0</th>\n      <td>100</td>\n      <td>2025-01-06</td>\n      <td>2025-01-06</td>\n      <td>2025</td>\n      <td>1</td>\n      <td>6</td>\n    </tr>\n    <tr>\n      <th>1</th>\n      <td>200</td>\n      <td>2023-10-31</td>\n      <td>2023-10-31</td>\n      <td>2023</td>\n      <td>10</td>\n      <td>31</td>\n    </tr>\n    <tr>\n      <th>2</th>\n      <td>300</td>\n      <td>2023-12-31</td>\n      <td>2023-12-31</td>\n      <td>2023</td>\n      <td>12</td>\n      <td>31</td>\n    </tr>\n    <tr>\n      <th>3</th>\n      <td>400</td>\n      <td>2023-01-05</td>\n      <td>2023-01-05</td>\n      <td>2023</td>\n      <td>1</td>\n      <td>5</td>\n    </tr>\n  </tbody>\n</table>\n</div>"
     },
     "execution_count": 6,
     "metadata": {},
     "output_type": "execute_result"
    }
   ],
   "source": [
    "# 获取年月日\n",
    "df['yy'] = df['ymd'].dt.year\n",
    "df['mm'] = df['ymd'].dt.month\n",
    "df['dd'] = df['ymd'].dt.day\n",
    "df"
   ],
   "metadata": {
    "collapsed": false,
    "ExecuteTime": {
     "end_time": "2025-07-27T06:50:47.463434800Z",
     "start_time": "2025-07-27T06:50:47.449394700Z"
    }
   }
  },
  {
   "cell_type": "code",
   "execution_count": 7,
   "outputs": [
    {
     "data": {
      "text/plain": "   gmv  trade_date        ymd    yy  mm  dd      week\n0  100  2025-01-06 2025-01-06  2025   1   6    Monday\n1  200  2023-10-31 2023-10-31  2023  10  31   Tuesday\n2  300  2023-12-31 2023-12-31  2023  12  31    Sunday\n3  400  2023-01-05 2023-01-05  2023   1   5  Thursday",
      "text/html": "<div>\n<style scoped>\n    .dataframe tbody tr th:only-of-type {\n        vertical-align: middle;\n    }\n\n    .dataframe tbody tr th {\n        vertical-align: top;\n    }\n\n    .dataframe thead th {\n        text-align: right;\n    }\n</style>\n<table border=\"1\" class=\"dataframe\">\n  <thead>\n    <tr style=\"text-align: right;\">\n      <th></th>\n      <th>gmv</th>\n      <th>trade_date</th>\n      <th>ymd</th>\n      <th>yy</th>\n      <th>mm</th>\n      <th>dd</th>\n      <th>week</th>\n    </tr>\n  </thead>\n  <tbody>\n    <tr>\n      <th>0</th>\n      <td>100</td>\n      <td>2025-01-06</td>\n      <td>2025-01-06</td>\n      <td>2025</td>\n      <td>1</td>\n      <td>6</td>\n      <td>Monday</td>\n    </tr>\n    <tr>\n      <th>1</th>\n      <td>200</td>\n      <td>2023-10-31</td>\n      <td>2023-10-31</td>\n      <td>2023</td>\n      <td>10</td>\n      <td>31</td>\n      <td>Tuesday</td>\n    </tr>\n    <tr>\n      <th>2</th>\n      <td>300</td>\n      <td>2023-12-31</td>\n      <td>2023-12-31</td>\n      <td>2023</td>\n      <td>12</td>\n      <td>31</td>\n      <td>Sunday</td>\n    </tr>\n    <tr>\n      <th>3</th>\n      <td>400</td>\n      <td>2023-01-05</td>\n      <td>2023-01-05</td>\n      <td>2023</td>\n      <td>1</td>\n      <td>5</td>\n      <td>Thursday</td>\n    </tr>\n  </tbody>\n</table>\n</div>"
     },
     "execution_count": 7,
     "metadata": {},
     "output_type": "execute_result"
    }
   ],
   "source": [
    "# 获取星期\n",
    "df['week'] = df['ymd'].dt.day_name()\n",
    "df"
   ],
   "metadata": {
    "collapsed": false,
    "ExecuteTime": {
     "end_time": "2025-07-27T06:51:41.314669400Z",
     "start_time": "2025-07-27T06:51:41.297737700Z"
    }
   }
  },
  {
   "cell_type": "code",
   "execution_count": 9,
   "outputs": [
    {
     "data": {
      "text/plain": "   gmv  trade_date        ymd    yy  mm  dd      week  quarter\n0  100  2025-01-06 2025-01-06  2025   1   6    Monday        1\n1  200  2023-10-31 2023-10-31  2023  10  31   Tuesday        4\n2  300  2023-12-31 2023-12-31  2023  12  31    Sunday        4\n3  400  2023-01-05 2023-01-05  2023   1   5  Thursday        1",
      "text/html": "<div>\n<style scoped>\n    .dataframe tbody tr th:only-of-type {\n        vertical-align: middle;\n    }\n\n    .dataframe tbody tr th {\n        vertical-align: top;\n    }\n\n    .dataframe thead th {\n        text-align: right;\n    }\n</style>\n<table border=\"1\" class=\"dataframe\">\n  <thead>\n    <tr style=\"text-align: right;\">\n      <th></th>\n      <th>gmv</th>\n      <th>trade_date</th>\n      <th>ymd</th>\n      <th>yy</th>\n      <th>mm</th>\n      <th>dd</th>\n      <th>week</th>\n      <th>quarter</th>\n    </tr>\n  </thead>\n  <tbody>\n    <tr>\n      <th>0</th>\n      <td>100</td>\n      <td>2025-01-06</td>\n      <td>2025-01-06</td>\n      <td>2025</td>\n      <td>1</td>\n      <td>6</td>\n      <td>Monday</td>\n      <td>1</td>\n    </tr>\n    <tr>\n      <th>1</th>\n      <td>200</td>\n      <td>2023-10-31</td>\n      <td>2023-10-31</td>\n      <td>2023</td>\n      <td>10</td>\n      <td>31</td>\n      <td>Tuesday</td>\n      <td>4</td>\n    </tr>\n    <tr>\n      <th>2</th>\n      <td>300</td>\n      <td>2023-12-31</td>\n      <td>2023-12-31</td>\n      <td>2023</td>\n      <td>12</td>\n      <td>31</td>\n      <td>Sunday</td>\n      <td>4</td>\n    </tr>\n    <tr>\n      <th>3</th>\n      <td>400</td>\n      <td>2023-01-05</td>\n      <td>2023-01-05</td>\n      <td>2023</td>\n      <td>1</td>\n      <td>5</td>\n      <td>Thursday</td>\n      <td>1</td>\n    </tr>\n  </tbody>\n</table>\n</div>"
     },
     "execution_count": 9,
     "metadata": {},
     "output_type": "execute_result"
    }
   ],
   "source": [
    "# 获取日期所在季度\n",
    "df['quarter'] = df['ymd'].dt.quarter\n",
    "df"
   ],
   "metadata": {
    "collapsed": false,
    "ExecuteTime": {
     "end_time": "2025-07-27T06:52:26.204727200Z",
     "start_time": "2025-07-27T06:52:26.187655200Z"
    }
   }
  },
  {
   "cell_type": "code",
   "execution_count": 10,
   "outputs": [
    {
     "data": {
      "text/plain": "   gmv  trade_date        ymd    yy  mm  dd      week  quarter   mend   yend\n0  100  2025-01-06 2025-01-06  2025   1   6    Monday        1  False  False\n1  200  2023-10-31 2023-10-31  2023  10  31   Tuesday        4   True  False\n2  300  2023-12-31 2023-12-31  2023  12  31    Sunday        4   True   True\n3  400  2023-01-05 2023-01-05  2023   1   5  Thursday        1  False  False",
      "text/html": "<div>\n<style scoped>\n    .dataframe tbody tr th:only-of-type {\n        vertical-align: middle;\n    }\n\n    .dataframe tbody tr th {\n        vertical-align: top;\n    }\n\n    .dataframe thead th {\n        text-align: right;\n    }\n</style>\n<table border=\"1\" class=\"dataframe\">\n  <thead>\n    <tr style=\"text-align: right;\">\n      <th></th>\n      <th>gmv</th>\n      <th>trade_date</th>\n      <th>ymd</th>\n      <th>yy</th>\n      <th>mm</th>\n      <th>dd</th>\n      <th>week</th>\n      <th>quarter</th>\n      <th>mend</th>\n      <th>yend</th>\n    </tr>\n  </thead>\n  <tbody>\n    <tr>\n      <th>0</th>\n      <td>100</td>\n      <td>2025-01-06</td>\n      <td>2025-01-06</td>\n      <td>2025</td>\n      <td>1</td>\n      <td>6</td>\n      <td>Monday</td>\n      <td>1</td>\n      <td>False</td>\n      <td>False</td>\n    </tr>\n    <tr>\n      <th>1</th>\n      <td>200</td>\n      <td>2023-10-31</td>\n      <td>2023-10-31</td>\n      <td>2023</td>\n      <td>10</td>\n      <td>31</td>\n      <td>Tuesday</td>\n      <td>4</td>\n      <td>True</td>\n      <td>False</td>\n    </tr>\n    <tr>\n      <th>2</th>\n      <td>300</td>\n      <td>2023-12-31</td>\n      <td>2023-12-31</td>\n      <td>2023</td>\n      <td>12</td>\n      <td>31</td>\n      <td>Sunday</td>\n      <td>4</td>\n      <td>True</td>\n      <td>True</td>\n    </tr>\n    <tr>\n      <th>3</th>\n      <td>400</td>\n      <td>2023-01-05</td>\n      <td>2023-01-05</td>\n      <td>2023</td>\n      <td>1</td>\n      <td>5</td>\n      <td>Thursday</td>\n      <td>1</td>\n      <td>False</td>\n      <td>False</td>\n    </tr>\n  </tbody>\n</table>\n</div>"
     },
     "execution_count": 10,
     "metadata": {},
     "output_type": "execute_result"
    }
   ],
   "source": [
    "# 判断日期是否月底年底\n",
    "df['mend'] = df['ymd'].dt.is_month_end\n",
    "df['yend'] = df['ymd'].dt.is_year_end\n",
    "df"
   ],
   "metadata": {
    "collapsed": false,
    "ExecuteTime": {
     "end_time": "2025-07-27T06:53:45.318974300Z",
     "start_time": "2025-07-27T06:53:45.307007Z"
    }
   }
  },
  {
   "cell_type": "markdown",
   "source": [
    "3.to_period()获取统计周期"
   ],
   "metadata": {
    "collapsed": false
   }
  },
  {
   "cell_type": "code",
   "execution_count": 14,
   "outputs": [
    {
     "data": {
      "text/plain": "   gmv  trade_date        ymd    yy  mm  dd      week  quarter   mend   yend  \\\n0  100  2025-01-06 2025-01-06  2025   1   6    Monday        1  False  False   \n1  200  2023-10-31 2023-10-31  2023  10  31   Tuesday        4   True  False   \n2  300  2023-12-31 2023-12-31  2023  12  31    Sunday        4   True   True   \n3  400  2023-01-05 2023-01-05  2023   1   5  Thursday        1  False  False   \n\n  ystat    mstat       dstat   qstat  \n0  2025  2025-01  2025-01-06  2025Q1  \n1  2023  2023-10  2023-10-31  2023Q4  \n2  2023  2023-12  2023-12-31  2023Q4  \n3  2023  2023-01  2023-01-05  2023Q1  ",
      "text/html": "<div>\n<style scoped>\n    .dataframe tbody tr th:only-of-type {\n        vertical-align: middle;\n    }\n\n    .dataframe tbody tr th {\n        vertical-align: top;\n    }\n\n    .dataframe thead th {\n        text-align: right;\n    }\n</style>\n<table border=\"1\" class=\"dataframe\">\n  <thead>\n    <tr style=\"text-align: right;\">\n      <th></th>\n      <th>gmv</th>\n      <th>trade_date</th>\n      <th>ymd</th>\n      <th>yy</th>\n      <th>mm</th>\n      <th>dd</th>\n      <th>week</th>\n      <th>quarter</th>\n      <th>mend</th>\n      <th>yend</th>\n      <th>ystat</th>\n      <th>mstat</th>\n      <th>dstat</th>\n      <th>qstat</th>\n    </tr>\n  </thead>\n  <tbody>\n    <tr>\n      <th>0</th>\n      <td>100</td>\n      <td>2025-01-06</td>\n      <td>2025-01-06</td>\n      <td>2025</td>\n      <td>1</td>\n      <td>6</td>\n      <td>Monday</td>\n      <td>1</td>\n      <td>False</td>\n      <td>False</td>\n      <td>2025</td>\n      <td>2025-01</td>\n      <td>2025-01-06</td>\n      <td>2025Q1</td>\n    </tr>\n    <tr>\n      <th>1</th>\n      <td>200</td>\n      <td>2023-10-31</td>\n      <td>2023-10-31</td>\n      <td>2023</td>\n      <td>10</td>\n      <td>31</td>\n      <td>Tuesday</td>\n      <td>4</td>\n      <td>True</td>\n      <td>False</td>\n      <td>2023</td>\n      <td>2023-10</td>\n      <td>2023-10-31</td>\n      <td>2023Q4</td>\n    </tr>\n    <tr>\n      <th>2</th>\n      <td>300</td>\n      <td>2023-12-31</td>\n      <td>2023-12-31</td>\n      <td>2023</td>\n      <td>12</td>\n      <td>31</td>\n      <td>Sunday</td>\n      <td>4</td>\n      <td>True</td>\n      <td>True</td>\n      <td>2023</td>\n      <td>2023-12</td>\n      <td>2023-12-31</td>\n      <td>2023Q4</td>\n    </tr>\n    <tr>\n      <th>3</th>\n      <td>400</td>\n      <td>2023-01-05</td>\n      <td>2023-01-05</td>\n      <td>2023</td>\n      <td>1</td>\n      <td>5</td>\n      <td>Thursday</td>\n      <td>1</td>\n      <td>False</td>\n      <td>False</td>\n      <td>2023</td>\n      <td>2023-01</td>\n      <td>2023-01-05</td>\n      <td>2023Q1</td>\n    </tr>\n  </tbody>\n</table>\n</div>"
     },
     "execution_count": 14,
     "metadata": {},
     "output_type": "execute_result"
    }
   ],
   "source": [
    "df['ystat'] = df['ymd'].dt.to_period('Y')\n",
    "df['mstat'] = df['ymd'].dt.to_period('M')\n",
    "df['qstat'] = df['ymd'].dt.to_period('Q')\n",
    "df['dstat'] = df['ymd'].dt.to_period('D')\n",
    "df"
   ],
   "metadata": {
    "collapsed": false,
    "ExecuteTime": {
     "end_time": "2025-07-27T06:58:37.268242600Z",
     "start_time": "2025-07-27T06:58:37.242030600Z"
    }
   }
  },
  {
   "cell_type": "code",
   "execution_count": null,
   "outputs": [],
   "source": [],
   "metadata": {
    "collapsed": false
   }
  }
 ],
 "metadata": {
  "kernelspec": {
   "display_name": "Python 3",
   "language": "python",
   "name": "python3"
  },
  "language_info": {
   "codemirror_mode": {
    "name": "ipython",
    "version": 2
   },
   "file_extension": ".py",
   "mimetype": "text/x-python",
   "name": "python",
   "nbconvert_exporter": "python",
   "pygments_lexer": "ipython2",
   "version": "2.7.6"
  }
 },
 "nbformat": 4,
 "nbformat_minor": 0
}
