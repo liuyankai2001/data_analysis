{
 "cells": [
  {
   "cell_type": "code",
   "execution_count": 1,
   "metadata": {
    "collapsed": true,
    "ExecuteTime": {
     "end_time": "2025-07-27T05:49:49.600854100Z",
     "start_time": "2025-07-27T05:49:49.285026200Z"
    }
   },
   "outputs": [],
   "source": [
    "import pandas as pd"
   ]
  },
  {
   "cell_type": "markdown",
   "source": [
    "1.设置行索引"
   ],
   "metadata": {
    "collapsed": false
   }
  },
  {
   "cell_type": "code",
   "execution_count": 7,
   "outputs": [
    {
     "data": {
      "text/plain": "   age name   id\n0   20   张三  101\n1   30   李四  102\n2   40   王五  103\n3   10   赵六  104",
      "text/html": "<div>\n<style scoped>\n    .dataframe tbody tr th:only-of-type {\n        vertical-align: middle;\n    }\n\n    .dataframe tbody tr th {\n        vertical-align: top;\n    }\n\n    .dataframe thead th {\n        text-align: right;\n    }\n</style>\n<table border=\"1\" class=\"dataframe\">\n  <thead>\n    <tr style=\"text-align: right;\">\n      <th></th>\n      <th>age</th>\n      <th>name</th>\n      <th>id</th>\n    </tr>\n  </thead>\n  <tbody>\n    <tr>\n      <th>0</th>\n      <td>20</td>\n      <td>张三</td>\n      <td>101</td>\n    </tr>\n    <tr>\n      <th>1</th>\n      <td>30</td>\n      <td>李四</td>\n      <td>102</td>\n    </tr>\n    <tr>\n      <th>2</th>\n      <td>40</td>\n      <td>王五</td>\n      <td>103</td>\n    </tr>\n    <tr>\n      <th>3</th>\n      <td>10</td>\n      <td>赵六</td>\n      <td>104</td>\n    </tr>\n  </tbody>\n</table>\n</div>"
     },
     "execution_count": 7,
     "metadata": {},
     "output_type": "execute_result"
    }
   ],
   "source": [
    "df = pd.DataFrame({\"age\": [20, 30, 40, 10], \"name\": [\"张三\", \"李四\", \"王五\", \"赵六\"], \"id\": [101, 102, 103, 104]})\n",
    "df"
   ],
   "metadata": {
    "collapsed": false,
    "ExecuteTime": {
     "end_time": "2025-07-27T05:56:37.566600800Z",
     "start_time": "2025-07-27T05:56:37.543403400Z"
    }
   }
  },
  {
   "cell_type": "code",
   "execution_count": 8,
   "outputs": [
    {
     "data": {
      "text/plain": "     age name\nid           \n101   20   张三\n102   30   李四\n103   40   王五\n104   10   赵六",
      "text/html": "<div>\n<style scoped>\n    .dataframe tbody tr th:only-of-type {\n        vertical-align: middle;\n    }\n\n    .dataframe tbody tr th {\n        vertical-align: top;\n    }\n\n    .dataframe thead th {\n        text-align: right;\n    }\n</style>\n<table border=\"1\" class=\"dataframe\">\n  <thead>\n    <tr style=\"text-align: right;\">\n      <th></th>\n      <th>age</th>\n      <th>name</th>\n    </tr>\n    <tr>\n      <th>id</th>\n      <th></th>\n      <th></th>\n    </tr>\n  </thead>\n  <tbody>\n    <tr>\n      <th>101</th>\n      <td>20</td>\n      <td>张三</td>\n    </tr>\n    <tr>\n      <th>102</th>\n      <td>30</td>\n      <td>李四</td>\n    </tr>\n    <tr>\n      <th>103</th>\n      <td>40</td>\n      <td>王五</td>\n    </tr>\n    <tr>\n      <th>104</th>\n      <td>10</td>\n      <td>赵六</td>\n    </tr>\n  </tbody>\n</table>\n</div>"
     },
     "execution_count": 8,
     "metadata": {},
     "output_type": "execute_result"
    }
   ],
   "source": [
    "df.set_index('id',inplace=True)\n",
    "df"
   ],
   "metadata": {
    "collapsed": false,
    "ExecuteTime": {
     "end_time": "2025-07-27T05:56:38.016897Z",
     "start_time": "2025-07-27T05:56:38.006198700Z"
    }
   }
  },
  {
   "cell_type": "code",
   "execution_count": 9,
   "outputs": [
    {
     "data": {
      "text/plain": "    id  age name\n0  101   20   张三\n1  102   30   李四\n2  103   40   王五\n3  104   10   赵六",
      "text/html": "<div>\n<style scoped>\n    .dataframe tbody tr th:only-of-type {\n        vertical-align: middle;\n    }\n\n    .dataframe tbody tr th {\n        vertical-align: top;\n    }\n\n    .dataframe thead th {\n        text-align: right;\n    }\n</style>\n<table border=\"1\" class=\"dataframe\">\n  <thead>\n    <tr style=\"text-align: right;\">\n      <th></th>\n      <th>id</th>\n      <th>age</th>\n      <th>name</th>\n    </tr>\n  </thead>\n  <tbody>\n    <tr>\n      <th>0</th>\n      <td>101</td>\n      <td>20</td>\n      <td>张三</td>\n    </tr>\n    <tr>\n      <th>1</th>\n      <td>102</td>\n      <td>30</td>\n      <td>李四</td>\n    </tr>\n    <tr>\n      <th>2</th>\n      <td>103</td>\n      <td>40</td>\n      <td>王五</td>\n    </tr>\n    <tr>\n      <th>3</th>\n      <td>104</td>\n      <td>10</td>\n      <td>赵六</td>\n    </tr>\n  </tbody>\n</table>\n</div>"
     },
     "execution_count": 9,
     "metadata": {},
     "output_type": "execute_result"
    }
   ],
   "source": [
    "df.reset_index(inplace=True)\n",
    "df"
   ],
   "metadata": {
    "collapsed": false,
    "ExecuteTime": {
     "end_time": "2025-07-27T05:56:47.645159500Z",
     "start_time": "2025-07-27T05:56:47.629754100Z"
    }
   }
  },
  {
   "cell_type": "markdown",
   "source": [
    "2.修改行索引名和列名"
   ],
   "metadata": {
    "collapsed": false
   }
  },
  {
   "cell_type": "code",
   "execution_count": 10,
   "outputs": [
    {
     "data": {
      "text/plain": "     age name\nid           \n101   20   张三\n102   30   李四\n103   40   王五\n104   10   赵六",
      "text/html": "<div>\n<style scoped>\n    .dataframe tbody tr th:only-of-type {\n        vertical-align: middle;\n    }\n\n    .dataframe tbody tr th {\n        vertical-align: top;\n    }\n\n    .dataframe thead th {\n        text-align: right;\n    }\n</style>\n<table border=\"1\" class=\"dataframe\">\n  <thead>\n    <tr style=\"text-align: right;\">\n      <th></th>\n      <th>age</th>\n      <th>name</th>\n    </tr>\n    <tr>\n      <th>id</th>\n      <th></th>\n      <th></th>\n    </tr>\n  </thead>\n  <tbody>\n    <tr>\n      <th>101</th>\n      <td>20</td>\n      <td>张三</td>\n    </tr>\n    <tr>\n      <th>102</th>\n      <td>30</td>\n      <td>李四</td>\n    </tr>\n    <tr>\n      <th>103</th>\n      <td>40</td>\n      <td>王五</td>\n    </tr>\n    <tr>\n      <th>104</th>\n      <td>10</td>\n      <td>赵六</td>\n    </tr>\n  </tbody>\n</table>\n</div>"
     },
     "execution_count": 10,
     "metadata": {},
     "output_type": "execute_result"
    }
   ],
   "source": [
    "df = pd.DataFrame({\"age\": [20, 30, 40, 10], \"name\": [\"张三\", \"李四\", \"王五\", \"赵六\"], \"id\": [101, 102, 103, 104]})\n",
    "df.set_index(\"id\", inplace=True)\n",
    "df"
   ],
   "metadata": {
    "collapsed": false,
    "ExecuteTime": {
     "end_time": "2025-07-27T05:58:05.264149400Z",
     "start_time": "2025-07-27T05:58:05.242578100Z"
    }
   }
  },
  {
   "cell_type": "code",
   "execution_count": 12,
   "outputs": [
    {
     "data": {
      "text/plain": "     年龄 name\nid          \n一    20   张三\n102  30   李四\n103  40   王五\n104  10   赵六",
      "text/html": "<div>\n<style scoped>\n    .dataframe tbody tr th:only-of-type {\n        vertical-align: middle;\n    }\n\n    .dataframe tbody tr th {\n        vertical-align: top;\n    }\n\n    .dataframe thead th {\n        text-align: right;\n    }\n</style>\n<table border=\"1\" class=\"dataframe\">\n  <thead>\n    <tr style=\"text-align: right;\">\n      <th></th>\n      <th>年龄</th>\n      <th>name</th>\n    </tr>\n    <tr>\n      <th>id</th>\n      <th></th>\n      <th></th>\n    </tr>\n  </thead>\n  <tbody>\n    <tr>\n      <th>一</th>\n      <td>20</td>\n      <td>张三</td>\n    </tr>\n    <tr>\n      <th>102</th>\n      <td>30</td>\n      <td>李四</td>\n    </tr>\n    <tr>\n      <th>103</th>\n      <td>40</td>\n      <td>王五</td>\n    </tr>\n    <tr>\n      <th>104</th>\n      <td>10</td>\n      <td>赵六</td>\n    </tr>\n  </tbody>\n</table>\n</div>"
     },
     "execution_count": 12,
     "metadata": {},
     "output_type": "execute_result"
    }
   ],
   "source": [
    "df.rename(index={101:'一'},columns={'age':'年龄'})"
   ],
   "metadata": {
    "collapsed": false,
    "ExecuteTime": {
     "end_time": "2025-07-27T05:58:51.690107800Z",
     "start_time": "2025-07-27T05:58:51.668669300Z"
    }
   }
  },
  {
   "cell_type": "code",
   "execution_count": 14,
   "outputs": [
    {
     "data": {
      "text/plain": "   age name\n1   20   张三\n2   30   李四\n3   40   王五\n4   10   赵六",
      "text/html": "<div>\n<style scoped>\n    .dataframe tbody tr th:only-of-type {\n        vertical-align: middle;\n    }\n\n    .dataframe tbody tr th {\n        vertical-align: top;\n    }\n\n    .dataframe thead th {\n        text-align: right;\n    }\n</style>\n<table border=\"1\" class=\"dataframe\">\n  <thead>\n    <tr style=\"text-align: right;\">\n      <th></th>\n      <th>age</th>\n      <th>name</th>\n    </tr>\n  </thead>\n  <tbody>\n    <tr>\n      <th>1</th>\n      <td>20</td>\n      <td>张三</td>\n    </tr>\n    <tr>\n      <th>2</th>\n      <td>30</td>\n      <td>李四</td>\n    </tr>\n    <tr>\n      <th>3</th>\n      <td>40</td>\n      <td>王五</td>\n    </tr>\n    <tr>\n      <th>4</th>\n      <td>10</td>\n      <td>赵六</td>\n    </tr>\n  </tbody>\n</table>\n</div>"
     },
     "execution_count": 14,
     "metadata": {},
     "output_type": "execute_result"
    }
   ],
   "source": [
    "df.index=['1','2','3','4']\n",
    "df"
   ],
   "metadata": {
    "collapsed": false,
    "ExecuteTime": {
     "end_time": "2025-07-27T05:59:30.109328800Z",
     "start_time": "2025-07-27T05:59:30.096041600Z"
    }
   }
  },
  {
   "cell_type": "code",
   "execution_count": 15,
   "outputs": [
    {
     "data": {
      "text/plain": "   年龄  姓名\n1  20  张三\n2  30  李四\n3  40  王五\n4  10  赵六",
      "text/html": "<div>\n<style scoped>\n    .dataframe tbody tr th:only-of-type {\n        vertical-align: middle;\n    }\n\n    .dataframe tbody tr th {\n        vertical-align: top;\n    }\n\n    .dataframe thead th {\n        text-align: right;\n    }\n</style>\n<table border=\"1\" class=\"dataframe\">\n  <thead>\n    <tr style=\"text-align: right;\">\n      <th></th>\n      <th>年龄</th>\n      <th>姓名</th>\n    </tr>\n  </thead>\n  <tbody>\n    <tr>\n      <th>1</th>\n      <td>20</td>\n      <td>张三</td>\n    </tr>\n    <tr>\n      <th>2</th>\n      <td>30</td>\n      <td>李四</td>\n    </tr>\n    <tr>\n      <th>3</th>\n      <td>40</td>\n      <td>王五</td>\n    </tr>\n    <tr>\n      <th>4</th>\n      <td>10</td>\n      <td>赵六</td>\n    </tr>\n  </tbody>\n</table>\n</div>"
     },
     "execution_count": 15,
     "metadata": {},
     "output_type": "execute_result"
    }
   ],
   "source": [
    "df.columns=['年龄','姓名']\n",
    "df"
   ],
   "metadata": {
    "collapsed": false,
    "ExecuteTime": {
     "end_time": "2025-07-27T06:00:36.092515500Z",
     "start_time": "2025-07-27T06:00:36.079282200Z"
    }
   }
  },
  {
   "cell_type": "markdown",
   "source": [
    "3.添加列"
   ],
   "metadata": {
    "collapsed": false
   }
  },
  {
   "cell_type": "code",
   "execution_count": 17,
   "outputs": [
    {
     "data": {
      "text/plain": "   年龄  姓名 phone\n1  20  张三   122\n2  30  李四   133\n3  40  王五   144\n4  10  赵六   166",
      "text/html": "<div>\n<style scoped>\n    .dataframe tbody tr th:only-of-type {\n        vertical-align: middle;\n    }\n\n    .dataframe tbody tr th {\n        vertical-align: top;\n    }\n\n    .dataframe thead th {\n        text-align: right;\n    }\n</style>\n<table border=\"1\" class=\"dataframe\">\n  <thead>\n    <tr style=\"text-align: right;\">\n      <th></th>\n      <th>年龄</th>\n      <th>姓名</th>\n      <th>phone</th>\n    </tr>\n  </thead>\n  <tbody>\n    <tr>\n      <th>1</th>\n      <td>20</td>\n      <td>张三</td>\n      <td>122</td>\n    </tr>\n    <tr>\n      <th>2</th>\n      <td>30</td>\n      <td>李四</td>\n      <td>133</td>\n    </tr>\n    <tr>\n      <th>3</th>\n      <td>40</td>\n      <td>王五</td>\n      <td>144</td>\n    </tr>\n    <tr>\n      <th>4</th>\n      <td>10</td>\n      <td>赵六</td>\n      <td>166</td>\n    </tr>\n  </tbody>\n</table>\n</div>"
     },
     "execution_count": 17,
     "metadata": {},
     "output_type": "execute_result"
    }
   ],
   "source": [
    "df['phone']=['122','133','144','166']\n",
    "df"
   ],
   "metadata": {
    "collapsed": false,
    "ExecuteTime": {
     "end_time": "2025-07-27T06:01:44.117684Z",
     "start_time": "2025-07-27T06:01:44.107603600Z"
    }
   }
  },
  {
   "cell_type": "markdown",
   "source": [
    "4.删除列"
   ],
   "metadata": {
    "collapsed": false
   }
  },
  {
   "cell_type": "code",
   "execution_count": 18,
   "outputs": [
    {
     "data": {
      "text/plain": "   年龄  姓名\n1  20  张三\n2  30  李四\n3  40  王五\n4  10  赵六",
      "text/html": "<div>\n<style scoped>\n    .dataframe tbody tr th:only-of-type {\n        vertical-align: middle;\n    }\n\n    .dataframe tbody tr th {\n        vertical-align: top;\n    }\n\n    .dataframe thead th {\n        text-align: right;\n    }\n</style>\n<table border=\"1\" class=\"dataframe\">\n  <thead>\n    <tr style=\"text-align: right;\">\n      <th></th>\n      <th>年龄</th>\n      <th>姓名</th>\n    </tr>\n  </thead>\n  <tbody>\n    <tr>\n      <th>1</th>\n      <td>20</td>\n      <td>张三</td>\n    </tr>\n    <tr>\n      <th>2</th>\n      <td>30</td>\n      <td>李四</td>\n    </tr>\n    <tr>\n      <th>3</th>\n      <td>40</td>\n      <td>王五</td>\n    </tr>\n    <tr>\n      <th>4</th>\n      <td>10</td>\n      <td>赵六</td>\n    </tr>\n  </tbody>\n</table>\n</div>"
     },
     "execution_count": 18,
     "metadata": {},
     "output_type": "execute_result"
    }
   ],
   "source": [
    "df.drop('phone',axis=1)"
   ],
   "metadata": {
    "collapsed": false,
    "ExecuteTime": {
     "end_time": "2025-07-27T06:03:48.198684200Z",
     "start_time": "2025-07-27T06:03:48.198684200Z"
    }
   }
  },
  {
   "cell_type": "code",
   "execution_count": 20,
   "outputs": [
    {
     "data": {
      "text/plain": "   年龄  姓名\n1  20  张三\n2  30  李四\n3  40  王五\n4  10  赵六",
      "text/html": "<div>\n<style scoped>\n    .dataframe tbody tr th:only-of-type {\n        vertical-align: middle;\n    }\n\n    .dataframe tbody tr th {\n        vertical-align: top;\n    }\n\n    .dataframe thead th {\n        text-align: right;\n    }\n</style>\n<table border=\"1\" class=\"dataframe\">\n  <thead>\n    <tr style=\"text-align: right;\">\n      <th></th>\n      <th>年龄</th>\n      <th>姓名</th>\n    </tr>\n  </thead>\n  <tbody>\n    <tr>\n      <th>1</th>\n      <td>20</td>\n      <td>张三</td>\n    </tr>\n    <tr>\n      <th>2</th>\n      <td>30</td>\n      <td>李四</td>\n    </tr>\n    <tr>\n      <th>3</th>\n      <td>40</td>\n      <td>王五</td>\n    </tr>\n    <tr>\n      <th>4</th>\n      <td>10</td>\n      <td>赵六</td>\n    </tr>\n  </tbody>\n</table>\n</div>"
     },
     "execution_count": 20,
     "metadata": {},
     "output_type": "execute_result"
    }
   ],
   "source": [
    "del df['phone']\n",
    "df"
   ],
   "metadata": {
    "collapsed": false,
    "ExecuteTime": {
     "end_time": "2025-07-27T06:04:10.874457500Z",
     "start_time": "2025-07-27T06:04:10.864560800Z"
    }
   }
  },
  {
   "cell_type": "markdown",
   "source": [
    "5.插入列"
   ],
   "metadata": {
    "collapsed": false
   }
  },
  {
   "cell_type": "code",
   "execution_count": 21,
   "outputs": [
    {
     "data": {
      "text/plain": "   phone  年龄  姓名\n1     20  20  张三\n2     30  30  李四\n3     40  40  王五\n4     10  10  赵六",
      "text/html": "<div>\n<style scoped>\n    .dataframe tbody tr th:only-of-type {\n        vertical-align: middle;\n    }\n\n    .dataframe tbody tr th {\n        vertical-align: top;\n    }\n\n    .dataframe thead th {\n        text-align: right;\n    }\n</style>\n<table border=\"1\" class=\"dataframe\">\n  <thead>\n    <tr style=\"text-align: right;\">\n      <th></th>\n      <th>phone</th>\n      <th>年龄</th>\n      <th>姓名</th>\n    </tr>\n  </thead>\n  <tbody>\n    <tr>\n      <th>1</th>\n      <td>20</td>\n      <td>20</td>\n      <td>张三</td>\n    </tr>\n    <tr>\n      <th>2</th>\n      <td>30</td>\n      <td>30</td>\n      <td>李四</td>\n    </tr>\n    <tr>\n      <th>3</th>\n      <td>40</td>\n      <td>40</td>\n      <td>王五</td>\n    </tr>\n    <tr>\n      <th>4</th>\n      <td>10</td>\n      <td>10</td>\n      <td>赵六</td>\n    </tr>\n  </tbody>\n</table>\n</div>"
     },
     "execution_count": 21,
     "metadata": {},
     "output_type": "execute_result"
    }
   ],
   "source": [
    "df.insert(0,'phone',df['年龄'])\n",
    "df"
   ],
   "metadata": {
    "collapsed": false,
    "ExecuteTime": {
     "end_time": "2025-07-27T06:12:44.947959400Z",
     "start_time": "2025-07-27T06:12:44.924907300Z"
    }
   }
  },
  {
   "cell_type": "code",
   "execution_count": 22,
   "outputs": [
    {
     "data": {
      "text/plain": "  index  phone  年龄  姓名\n0     1     20  20  张三\n1     2     30  30  李四\n2     3     40  40  王五\n3     4     10  10  赵六",
      "text/html": "<div>\n<style scoped>\n    .dataframe tbody tr th:only-of-type {\n        vertical-align: middle;\n    }\n\n    .dataframe tbody tr th {\n        vertical-align: top;\n    }\n\n    .dataframe thead th {\n        text-align: right;\n    }\n</style>\n<table border=\"1\" class=\"dataframe\">\n  <thead>\n    <tr style=\"text-align: right;\">\n      <th></th>\n      <th>index</th>\n      <th>phone</th>\n      <th>年龄</th>\n      <th>姓名</th>\n    </tr>\n  </thead>\n  <tbody>\n    <tr>\n      <th>0</th>\n      <td>1</td>\n      <td>20</td>\n      <td>20</td>\n      <td>张三</td>\n    </tr>\n    <tr>\n      <th>1</th>\n      <td>2</td>\n      <td>30</td>\n      <td>30</td>\n      <td>李四</td>\n    </tr>\n    <tr>\n      <th>2</th>\n      <td>3</td>\n      <td>40</td>\n      <td>40</td>\n      <td>王五</td>\n    </tr>\n    <tr>\n      <th>3</th>\n      <td>4</td>\n      <td>10</td>\n      <td>10</td>\n      <td>赵六</td>\n    </tr>\n  </tbody>\n</table>\n</div>"
     },
     "execution_count": 22,
     "metadata": {},
     "output_type": "execute_result"
    }
   ],
   "source": [
    "df.reset_index()"
   ],
   "metadata": {
    "collapsed": false,
    "ExecuteTime": {
     "end_time": "2025-07-27T06:13:54.377336500Z",
     "start_time": "2025-07-27T06:13:54.349202500Z"
    }
   }
  },
  {
   "cell_type": "code",
   "execution_count": null,
   "outputs": [],
   "source": [],
   "metadata": {
    "collapsed": false
   }
  }
 ],
 "metadata": {
  "kernelspec": {
   "display_name": "Python 3",
   "language": "python",
   "name": "python3"
  },
  "language_info": {
   "codemirror_mode": {
    "name": "ipython",
    "version": 2
   },
   "file_extension": ".py",
   "mimetype": "text/x-python",
   "name": "python",
   "nbconvert_exporter": "python",
   "pygments_lexer": "ipython2",
   "version": "2.7.6"
  }
 },
 "nbformat": 4,
 "nbformat_minor": 0
}
