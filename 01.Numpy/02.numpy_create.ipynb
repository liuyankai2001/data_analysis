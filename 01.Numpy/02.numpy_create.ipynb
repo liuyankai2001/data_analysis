{
 "cells": [
  {
   "cell_type": "code",
   "execution_count": 1,
   "metadata": {
    "collapsed": true,
    "ExecuteTime": {
     "end_time": "2025-06-04T14:21:39.431785600Z",
     "start_time": "2025-06-04T14:21:39.304418Z"
    }
   },
   "outputs": [],
   "source": [
    "import numpy as np"
   ]
  },
  {
   "cell_type": "markdown",
   "source": [
    "# 1.array()与asarray()\n",
    "* array:将输入的数据转换为ndarray，会进行copy\n",
    "* asarray：将输入的数据转换为ndarray，如果输入本身是ndarray，则不会进行copy"
   ],
   "metadata": {
    "collapsed": false
   }
  },
  {
   "cell_type": "code",
   "execution_count": 3,
   "outputs": [
    {
     "name": "stdout",
     "output_type": "stream",
     "text": [
      "元数据地址为:2711921399040\n",
      "arr1地址为:2711922969840\n",
      "数组数据为:[1 2 3]\n"
     ]
    }
   ],
   "source": [
    "data = [1,2,3]\n",
    "print(f\"元数据地址为:{id(data)}\")\n",
    "arr = np.array(data)\n",
    "print(f\"arr1地址为:{id(arr)}\")\n",
    "print(f\"数组数据为:{arr}\")"
   ],
   "metadata": {
    "collapsed": false,
    "ExecuteTime": {
     "end_time": "2025-06-04T14:22:59.516264900Z",
     "start_time": "2025-06-04T14:22:59.484671700Z"
    }
   }
  },
  {
   "cell_type": "code",
   "execution_count": 4,
   "outputs": [
    {
     "name": "stdout",
     "output_type": "stream",
     "text": [
      "arr2地址为:2711922970416\n",
      "arr2数组数据为:[1 2 3]\n"
     ]
    }
   ],
   "source": [
    "arr2 = np.array(arr)\n",
    "print(f\"arr2地址为:{id(arr2)}\")\n",
    "print(f\"arr2数组数据为:{arr2}\")"
   ],
   "metadata": {
    "collapsed": false,
    "ExecuteTime": {
     "end_time": "2025-06-04T14:23:24.856318800Z",
     "start_time": "2025-06-04T14:23:24.836501200Z"
    }
   }
  },
  {
   "cell_type": "code",
   "execution_count": 5,
   "outputs": [
    {
     "name": "stdout",
     "output_type": "stream",
     "text": [
      "arr3地址为:2711922969840\n",
      "arr3数组数据为:[1 2 3]\n"
     ]
    }
   ],
   "source": [
    "arr3 = np.asarray(arr)\n",
    "print(f\"arr3地址为:{id(arr3)}\")\n",
    "print(f\"arr3数组数据为:{arr3}\")"
   ],
   "metadata": {
    "collapsed": false,
    "ExecuteTime": {
     "end_time": "2025-06-04T14:23:36.731724100Z",
     "start_time": "2025-06-04T14:23:36.716089600Z"
    }
   }
  },
  {
   "cell_type": "code",
   "execution_count": 6,
   "outputs": [
    {
     "name": "stdout",
     "output_type": "stream",
     "text": [
      "arr4地址为:2711922969840\n",
      "arr4数组数据为:[1 2 3]\n"
     ]
    }
   ],
   "source": [
    "arr4 = np.asarray(arr3)\n",
    "print(f\"arr4地址为:{id(arr4)}\")\n",
    "print(f\"arr4数组数据为:{arr4}\")"
   ],
   "metadata": {
    "collapsed": false,
    "ExecuteTime": {
     "end_time": "2025-06-04T14:24:04.772760500Z",
     "start_time": "2025-06-04T14:24:04.761732800Z"
    }
   }
  },
  {
   "cell_type": "markdown",
   "source": [
    "# 2.zeros()、ones()、empty()与zeros_like()、ones_like()、empty_like()"
   ],
   "metadata": {
    "collapsed": false
   }
  },
  {
   "cell_type": "code",
   "execution_count": 7,
   "outputs": [],
   "source": [
    "arr1 = np.zeros((2, 5))\n",
    "arr2 = np.ones((2, 5))\n",
    "arr3 = np.empty((2, 3))\n",
    "\n",
    "arr4 = np.ones_like(arr1)\n",
    "arr5 = np.ones_like(arr1)\n",
    "arr6 = np.empty_like(arr3)"
   ],
   "metadata": {
    "collapsed": false,
    "ExecuteTime": {
     "end_time": "2025-06-04T14:26:45.268668600Z",
     "start_time": "2025-06-04T14:26:45.258083200Z"
    }
   }
  },
  {
   "cell_type": "markdown",
   "source": [
    "# 3.full()与full_like()"
   ],
   "metadata": {
    "collapsed": false
   }
  },
  {
   "cell_type": "code",
   "execution_count": 8,
   "outputs": [
    {
     "data": {
      "text/plain": "array([[6, 6, 6],\n       [6, 6, 6]])"
     },
     "execution_count": 8,
     "metadata": {},
     "output_type": "execute_result"
    }
   ],
   "source": [
    "arr1 = np.full((2, 3), 6)\n",
    "arr1"
   ],
   "metadata": {
    "collapsed": false,
    "ExecuteTime": {
     "end_time": "2025-06-04T14:27:04.235096300Z",
     "start_time": "2025-06-04T14:27:04.222164100Z"
    }
   }
  },
  {
   "cell_type": "code",
   "execution_count": 10,
   "outputs": [
    {
     "data": {
      "text/plain": "array([[5, 5, 5],\n       [5, 5, 5]])"
     },
     "execution_count": 10,
     "metadata": {},
     "output_type": "execute_result"
    }
   ],
   "source": [
    "arr2 = np.full_like(arr1, 5)\n",
    "arr2"
   ],
   "metadata": {
    "collapsed": false,
    "ExecuteTime": {
     "end_time": "2025-06-04T14:27:15.565553600Z",
     "start_time": "2025-06-04T14:27:15.546473500Z"
    }
   }
  },
  {
   "cell_type": "markdown",
   "source": [
    "# 4.arange()"
   ],
   "metadata": {
    "collapsed": false
   }
  },
  {
   "cell_type": "code",
   "execution_count": 11,
   "outputs": [
    {
     "data": {
      "text/plain": "array([0, 2, 4, 6, 8])"
     },
     "execution_count": 11,
     "metadata": {},
     "output_type": "execute_result"
    }
   ],
   "source": [
    "arr1 = np.arange(0, 10, 2)\n",
    "arr1"
   ],
   "metadata": {
    "collapsed": false,
    "ExecuteTime": {
     "end_time": "2025-06-04T14:28:23.120965Z",
     "start_time": "2025-06-04T14:28:23.098221900Z"
    }
   }
  },
  {
   "cell_type": "markdown",
   "source": [
    "# 5.linspace()与logspace()"
   ],
   "metadata": {
    "collapsed": false
   }
  },
  {
   "cell_type": "code",
   "execution_count": 12,
   "outputs": [
    {
     "data": {
      "text/plain": "array([0., 2., 4., 6., 8.])"
     },
     "execution_count": 12,
     "metadata": {},
     "output_type": "execute_result"
    }
   ],
   "source": [
    "arr1 = np.linspace(start=0, stop=10, num=5,endpoint=False)\n",
    "arr1"
   ],
   "metadata": {
    "collapsed": false,
    "ExecuteTime": {
     "end_time": "2025-06-04T14:29:33.408995200Z",
     "start_time": "2025-06-04T14:29:33.383807400Z"
    }
   }
  },
  {
   "cell_type": "code",
   "execution_count": 14,
   "outputs": [
    {
     "data": {
      "text/plain": "array([ 4.        ,  6.72717132, 11.3137085 , 19.02731384, 32.        ])"
     },
     "execution_count": 14,
     "metadata": {},
     "output_type": "execute_result"
    }
   ],
   "source": [
    "arr2 = np.logspace(start=2, stop=5, num=5, base=2,endpoint=True)\n",
    "arr2"
   ],
   "metadata": {
    "collapsed": false,
    "ExecuteTime": {
     "end_time": "2025-06-04T14:29:58.818086400Z",
     "start_time": "2025-06-04T14:29:58.809694300Z"
    }
   }
  },
  {
   "cell_type": "markdown",
   "source": [
    "# 6.随机数组\n",
    "* random.rand()\n",
    "* random.randn()\n",
    "* random.randint()\n",
    "* random.uniform()"
   ],
   "metadata": {
    "collapsed": false
   }
  },
  {
   "cell_type": "code",
   "execution_count": 15,
   "outputs": [
    {
     "data": {
      "text/plain": "array([[0.94512016, 0.22984642, 0.79840542],\n       [0.24297539, 0.90516163, 0.93935802]])"
     },
     "execution_count": 15,
     "metadata": {},
     "output_type": "execute_result"
    }
   ],
   "source": [
    "arr1 = np.random.rand(2, 3)\n",
    "arr1"
   ],
   "metadata": {
    "collapsed": false,
    "ExecuteTime": {
     "end_time": "2025-06-04T14:31:02.644941100Z",
     "start_time": "2025-06-04T14:31:02.625662300Z"
    }
   }
  },
  {
   "cell_type": "code",
   "execution_count": 16,
   "outputs": [
    {
     "data": {
      "text/plain": "array([[-0.95432122,  0.66492208,  2.70758542],\n       [ 0.46236947, -1.39981801,  1.14905041]])"
     },
     "execution_count": 16,
     "metadata": {},
     "output_type": "execute_result"
    }
   ],
   "source": [
    "arr2 = np.random.randn(2, 3)\n",
    "arr2"
   ],
   "metadata": {
    "collapsed": false,
    "ExecuteTime": {
     "end_time": "2025-06-04T14:31:19.263847200Z",
     "start_time": "2025-06-04T14:31:19.263847200Z"
    }
   }
  },
  {
   "cell_type": "code",
   "execution_count": 17,
   "outputs": [
    {
     "data": {
      "text/plain": "array([[2, 0, 8],\n       [6, 5, 5]], dtype=int32)"
     },
     "execution_count": 17,
     "metadata": {},
     "output_type": "execute_result"
    }
   ],
   "source": [
    "arr3 = np.random.randint(0, 10, (2, 3))\n",
    "arr3"
   ],
   "metadata": {
    "collapsed": false,
    "ExecuteTime": {
     "end_time": "2025-06-04T14:31:33.225167500Z",
     "start_time": "2025-06-04T14:31:33.209483200Z"
    }
   }
  },
  {
   "cell_type": "code",
   "execution_count": 18,
   "outputs": [
    {
     "data": {
      "text/plain": "array([[5.77697674, 4.26409147, 7.90721353],\n       [8.80268134, 7.20440295, 4.02671373]])"
     },
     "execution_count": 18,
     "metadata": {},
     "output_type": "execute_result"
    }
   ],
   "source": [
    "arr4 = np.random.uniform(0, 10, (2, 3))\n",
    "arr4"
   ],
   "metadata": {
    "collapsed": false,
    "ExecuteTime": {
     "end_time": "2025-06-04T14:31:54.322826500Z",
     "start_time": "2025-06-04T14:31:54.302019900Z"
    }
   }
  },
  {
   "cell_type": "markdown",
   "source": [
    "# 7.matrix()"
   ],
   "metadata": {
    "collapsed": false
   }
  },
  {
   "cell_type": "code",
   "execution_count": 19,
   "outputs": [
    {
     "data": {
      "text/plain": "matrix([[1, 2],\n        [3, 4]])"
     },
     "execution_count": 19,
     "metadata": {},
     "output_type": "execute_result"
    }
   ],
   "source": [
    "arr1 = np.matrix(\"1 2; 3 4\")\n",
    "arr1"
   ],
   "metadata": {
    "collapsed": false,
    "ExecuteTime": {
     "end_time": "2025-06-04T14:32:37.840648400Z",
     "start_time": "2025-06-04T14:32:37.824881400Z"
    }
   }
  },
  {
   "cell_type": "code",
   "execution_count": 20,
   "outputs": [
    {
     "data": {
      "text/plain": "matrix([[1, 2],\n        [3, 4]])"
     },
     "execution_count": 20,
     "metadata": {},
     "output_type": "execute_result"
    }
   ],
   "source": [
    "arr2 = np.matrix([[1, 2], [3, 4]])\n",
    "arr2"
   ],
   "metadata": {
    "collapsed": false,
    "ExecuteTime": {
     "end_time": "2025-06-04T14:32:45.144111300Z",
     "start_time": "2025-06-04T14:32:45.128438100Z"
    }
   }
  },
  {
   "cell_type": "code",
   "execution_count": null,
   "outputs": [],
   "source": [],
   "metadata": {
    "collapsed": false
   }
  }
 ],
 "metadata": {
  "kernelspec": {
   "display_name": "Python 3",
   "language": "python",
   "name": "python3"
  },
  "language_info": {
   "codemirror_mode": {
    "name": "ipython",
    "version": 2
   },
   "file_extension": ".py",
   "mimetype": "text/x-python",
   "name": "python",
   "nbconvert_exporter": "python",
   "pygments_lexer": "ipython2",
   "version": "2.7.6"
  }
 },
 "nbformat": 4,
 "nbformat_minor": 0
}
