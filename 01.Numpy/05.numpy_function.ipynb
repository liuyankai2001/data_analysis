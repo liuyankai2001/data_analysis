{
 "cells": [
  {
   "cell_type": "code",
   "execution_count": 1,
   "metadata": {
    "collapsed": true,
    "ExecuteTime": {
     "end_time": "2025-06-04T14:45:28.535057600Z",
     "start_time": "2025-06-04T14:45:28.465033900Z"
    }
   },
   "outputs": [],
   "source": [
    "import numpy as np"
   ]
  },
  {
   "cell_type": "markdown",
   "source": [
    "# 1.基本函数\n",
    "* np.abs()\n",
    "* np.ceil()\n",
    "* np.floor()\n",
    "* np.rint()\n",
    "* np.isnan()\n",
    "* np.multiply()\n",
    "* np.divide()\n",
    "* np.where(condition, x, y)"
   ],
   "metadata": {
    "collapsed": false
   }
  },
  {
   "cell_type": "code",
   "execution_count": 2,
   "outputs": [],
   "source": [
    "pass"
   ],
   "metadata": {
    "collapsed": false,
    "ExecuteTime": {
     "end_time": "2025-06-04T14:46:43.840905100Z",
     "start_time": "2025-06-04T14:46:43.828259Z"
    }
   }
  },
  {
   "cell_type": "markdown",
   "source": [
    "# 2.统计函数\n",
    "* np.mean()\n",
    "* np.sum()\n",
    "* np.max()\n",
    "* np.min()\n",
    "* np.std()\n",
    "* np.var()\n",
    "* np.argmax()\n",
    "* np.argmin()\n",
    "* np.cumsum()\n",
    "* np.cumprod()"
   ],
   "metadata": {
    "collapsed": false
   }
  },
  {
   "cell_type": "code",
   "execution_count": 3,
   "outputs": [],
   "source": [
    "pass"
   ],
   "metadata": {
    "collapsed": false,
    "ExecuteTime": {
     "end_time": "2025-06-04T14:48:02.470617500Z",
     "start_time": "2025-06-04T14:48:02.461093600Z"
    }
   }
  },
  {
   "cell_type": "markdown",
   "source": [
    "# 3.比较函数\n",
    "* np.all()\n",
    "* np.any()"
   ],
   "metadata": {
    "collapsed": false
   }
  },
  {
   "cell_type": "code",
   "execution_count": 4,
   "outputs": [],
   "source": [
    "pass"
   ],
   "metadata": {
    "collapsed": false,
    "ExecuteTime": {
     "end_time": "2025-06-04T14:48:35.391476500Z",
     "start_time": "2025-06-04T14:48:35.383196400Z"
    }
   }
  },
  {
   "cell_type": "markdown",
   "source": [
    "# 4.排序函数\n",
    "* ndarray.sort()\n",
    "* np.sort()"
   ],
   "metadata": {
    "collapsed": false
   }
  },
  {
   "cell_type": "code",
   "execution_count": 5,
   "outputs": [],
   "source": [
    "pass"
   ],
   "metadata": {
    "collapsed": false,
    "ExecuteTime": {
     "end_time": "2025-06-04T14:49:31.211435700Z",
     "start_time": "2025-06-04T14:49:31.180778Z"
    }
   }
  },
  {
   "cell_type": "markdown",
   "source": [
    "# 5.去重函数\n",
    "* np.unique()"
   ],
   "metadata": {
    "collapsed": false
   }
  },
  {
   "cell_type": "code",
   "execution_count": 6,
   "outputs": [
    {
     "data": {
      "text/plain": "array([[8, 2, 3, 2],\n       [0, 4, 3, 0],\n       [2, 5, 9, 7]], dtype=int32)"
     },
     "execution_count": 6,
     "metadata": {},
     "output_type": "execute_result"
    }
   ],
   "source": [
    "arr = np.random.randint(0,10,(3,4))\n",
    "arr"
   ],
   "metadata": {
    "collapsed": false,
    "ExecuteTime": {
     "end_time": "2025-06-04T14:50:33.610016600Z",
     "start_time": "2025-06-04T14:50:33.600494300Z"
    }
   }
  },
  {
   "cell_type": "code",
   "execution_count": 7,
   "outputs": [
    {
     "data": {
      "text/plain": "array([0, 2, 3, 4, 5, 7, 8, 9], dtype=int32)"
     },
     "execution_count": 7,
     "metadata": {},
     "output_type": "execute_result"
    }
   ],
   "source": [
    "np.unique(arr)"
   ],
   "metadata": {
    "collapsed": false,
    "ExecuteTime": {
     "end_time": "2025-06-04T14:50:44.315226800Z",
     "start_time": "2025-06-04T14:50:44.301034500Z"
    }
   }
  },
  {
   "cell_type": "code",
   "execution_count": null,
   "outputs": [],
   "source": [],
   "metadata": {
    "collapsed": false
   }
  }
 ],
 "metadata": {
  "kernelspec": {
   "display_name": "Python 3",
   "language": "python",
   "name": "python3"
  },
  "language_info": {
   "codemirror_mode": {
    "name": "ipython",
    "version": 2
   },
   "file_extension": ".py",
   "mimetype": "text/x-python",
   "name": "python",
   "nbconvert_exporter": "python",
   "pygments_lexer": "ipython2",
   "version": "2.7.6"
  }
 },
 "nbformat": 4,
 "nbformat_minor": 0
}
