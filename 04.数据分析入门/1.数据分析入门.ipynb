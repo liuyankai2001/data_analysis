{
 "cells": [
  {
   "cell_type": "code",
   "execution_count": 1,
   "metadata": {
    "collapsed": true,
    "ExecuteTime": {
     "end_time": "2025-07-27T07:20:36.679678400Z",
     "start_time": "2025-07-27T07:20:36.387985300Z"
    }
   },
   "outputs": [],
   "source": [
    "import numpy as np\n",
    "import pandas as pd"
   ]
  },
  {
   "cell_type": "code",
   "execution_count": 2,
   "outputs": [
    {
     "data": {
      "text/plain": "            date  precipitation  temp_max  temp_min  wind  weather\n0     2012-01-01            0.0      12.8       5.0   4.7  drizzle\n1     2012-01-02           10.9      10.6       2.8   4.5     rain\n2     2012-01-03            0.8      11.7       7.2   2.3     rain\n3     2012-01-04           20.3      12.2       5.6   4.7     rain\n4     2012-01-05            1.3       8.9       2.8   6.1     rain\n...          ...            ...       ...       ...   ...      ...\n1456  2015-12-27            8.6       4.4       1.7   2.9     rain\n1457  2015-12-28            1.5       5.0       1.7   1.3     rain\n1458  2015-12-29            0.0       7.2       0.6   2.6      fog\n1459  2015-12-30            0.0       5.6      -1.0   3.4      sun\n1460  2015-12-31            0.0       5.6      -2.1   3.5      sun\n\n[1461 rows x 6 columns]",
      "text/html": "<div>\n<style scoped>\n    .dataframe tbody tr th:only-of-type {\n        vertical-align: middle;\n    }\n\n    .dataframe tbody tr th {\n        vertical-align: top;\n    }\n\n    .dataframe thead th {\n        text-align: right;\n    }\n</style>\n<table border=\"1\" class=\"dataframe\">\n  <thead>\n    <tr style=\"text-align: right;\">\n      <th></th>\n      <th>date</th>\n      <th>precipitation</th>\n      <th>temp_max</th>\n      <th>temp_min</th>\n      <th>wind</th>\n      <th>weather</th>\n    </tr>\n  </thead>\n  <tbody>\n    <tr>\n      <th>0</th>\n      <td>2012-01-01</td>\n      <td>0.0</td>\n      <td>12.8</td>\n      <td>5.0</td>\n      <td>4.7</td>\n      <td>drizzle</td>\n    </tr>\n    <tr>\n      <th>1</th>\n      <td>2012-01-02</td>\n      <td>10.9</td>\n      <td>10.6</td>\n      <td>2.8</td>\n      <td>4.5</td>\n      <td>rain</td>\n    </tr>\n    <tr>\n      <th>2</th>\n      <td>2012-01-03</td>\n      <td>0.8</td>\n      <td>11.7</td>\n      <td>7.2</td>\n      <td>2.3</td>\n      <td>rain</td>\n    </tr>\n    <tr>\n      <th>3</th>\n      <td>2012-01-04</td>\n      <td>20.3</td>\n      <td>12.2</td>\n      <td>5.6</td>\n      <td>4.7</td>\n      <td>rain</td>\n    </tr>\n    <tr>\n      <th>4</th>\n      <td>2012-01-05</td>\n      <td>1.3</td>\n      <td>8.9</td>\n      <td>2.8</td>\n      <td>6.1</td>\n      <td>rain</td>\n    </tr>\n    <tr>\n      <th>...</th>\n      <td>...</td>\n      <td>...</td>\n      <td>...</td>\n      <td>...</td>\n      <td>...</td>\n      <td>...</td>\n    </tr>\n    <tr>\n      <th>1456</th>\n      <td>2015-12-27</td>\n      <td>8.6</td>\n      <td>4.4</td>\n      <td>1.7</td>\n      <td>2.9</td>\n      <td>rain</td>\n    </tr>\n    <tr>\n      <th>1457</th>\n      <td>2015-12-28</td>\n      <td>1.5</td>\n      <td>5.0</td>\n      <td>1.7</td>\n      <td>1.3</td>\n      <td>rain</td>\n    </tr>\n    <tr>\n      <th>1458</th>\n      <td>2015-12-29</td>\n      <td>0.0</td>\n      <td>7.2</td>\n      <td>0.6</td>\n      <td>2.6</td>\n      <td>fog</td>\n    </tr>\n    <tr>\n      <th>1459</th>\n      <td>2015-12-30</td>\n      <td>0.0</td>\n      <td>5.6</td>\n      <td>-1.0</td>\n      <td>3.4</td>\n      <td>sun</td>\n    </tr>\n    <tr>\n      <th>1460</th>\n      <td>2015-12-31</td>\n      <td>0.0</td>\n      <td>5.6</td>\n      <td>-2.1</td>\n      <td>3.5</td>\n      <td>sun</td>\n    </tr>\n  </tbody>\n</table>\n<p>1461 rows × 6 columns</p>\n</div>"
     },
     "execution_count": 2,
     "metadata": {},
     "output_type": "execute_result"
    }
   ],
   "source": [
    "df = pd.read_csv(\"../data/weather.csv\")\n",
    "df"
   ],
   "metadata": {
    "collapsed": false,
    "ExecuteTime": {
     "end_time": "2025-07-27T07:22:30.197655700Z",
     "start_time": "2025-07-27T07:22:30.168143400Z"
    }
   }
  },
  {
   "cell_type": "code",
   "execution_count": 8,
   "outputs": [
    {
     "data": {
      "text/plain": "(1461, 6)"
     },
     "execution_count": 8,
     "metadata": {},
     "output_type": "execute_result"
    }
   ],
   "source": [
    "# 查看df形状\n",
    "df.shape"
   ],
   "metadata": {
    "collapsed": false,
    "ExecuteTime": {
     "end_time": "2025-07-27T07:23:44.636346300Z",
     "start_time": "2025-07-27T07:23:44.626344600Z"
    }
   }
  },
  {
   "cell_type": "code",
   "execution_count": 9,
   "outputs": [
    {
     "data": {
      "text/plain": "Index(['date', 'precipitation', 'temp_max', 'temp_min', 'wind', 'weather'], dtype='object')"
     },
     "execution_count": 9,
     "metadata": {},
     "output_type": "execute_result"
    }
   ],
   "source": [
    "# 查看df的列名\n",
    "df.columns"
   ],
   "metadata": {
    "collapsed": false,
    "ExecuteTime": {
     "end_time": "2025-07-27T07:23:52.851193400Z",
     "start_time": "2025-07-27T07:23:52.834430700Z"
    }
   }
  },
  {
   "cell_type": "code",
   "execution_count": 10,
   "outputs": [
    {
     "data": {
      "text/plain": "date              object\nprecipitation    float64\ntemp_max         float64\ntemp_min         float64\nwind             float64\nweather           object\ndtype: object"
     },
     "execution_count": 10,
     "metadata": {},
     "output_type": "execute_result"
    }
   ],
   "source": [
    "# 查看df各列数据类型\n",
    "df.dtypes"
   ],
   "metadata": {
    "collapsed": false,
    "ExecuteTime": {
     "end_time": "2025-07-27T07:24:01.029326200Z",
     "start_time": "2025-07-27T07:24:01.016701Z"
    }
   }
  },
  {
   "cell_type": "code",
   "execution_count": 13,
   "outputs": [
    {
     "name": "stdout",
     "output_type": "stream",
     "text": [
      "<class 'pandas.core.frame.DataFrame'>\n",
      "RangeIndex: 1461 entries, 0 to 1460\n",
      "Data columns (total 6 columns):\n",
      " #   Column         Non-Null Count  Dtype  \n",
      "---  ------         --------------  -----  \n",
      " 0   date           1461 non-null   object \n",
      " 1   precipitation  1461 non-null   float64\n",
      " 2   temp_max       1461 non-null   float64\n",
      " 3   temp_min       1461 non-null   float64\n",
      " 4   wind           1461 non-null   float64\n",
      " 5   weather        1461 non-null   object \n",
      "dtypes: float64(4), object(2)\n",
      "memory usage: 68.6+ KB\n"
     ]
    }
   ],
   "source": [
    "# 查看df基本信息\n",
    "df.info()"
   ],
   "metadata": {
    "collapsed": false,
    "ExecuteTime": {
     "end_time": "2025-07-27T07:24:23.115702600Z",
     "start_time": "2025-07-27T07:24:23.091812300Z"
    }
   }
  },
  {
   "cell_type": "markdown",
   "source": [
    "# 1.查看部分数据"
   ],
   "metadata": {
    "collapsed": false
   }
  },
  {
   "cell_type": "markdown",
   "source": [
    "## 1.1 通过head()、tail()获取前n行或后n行"
   ],
   "metadata": {
    "collapsed": false
   }
  },
  {
   "cell_type": "code",
   "execution_count": 23,
   "outputs": [
    {
     "data": {
      "text/plain": "         date  precipitation  temp_max  temp_min  wind  weather\n0  2012-01-01            0.0      12.8       5.0   4.7  drizzle\n1  2012-01-02           10.9      10.6       2.8   4.5     rain\n2  2012-01-03            0.8      11.7       7.2   2.3     rain\n3  2012-01-04           20.3      12.2       5.6   4.7     rain\n4  2012-01-05            1.3       8.9       2.8   6.1     rain",
      "text/html": "<div>\n<style scoped>\n    .dataframe tbody tr th:only-of-type {\n        vertical-align: middle;\n    }\n\n    .dataframe tbody tr th {\n        vertical-align: top;\n    }\n\n    .dataframe thead th {\n        text-align: right;\n    }\n</style>\n<table border=\"1\" class=\"dataframe\">\n  <thead>\n    <tr style=\"text-align: right;\">\n      <th></th>\n      <th>date</th>\n      <th>precipitation</th>\n      <th>temp_max</th>\n      <th>temp_min</th>\n      <th>wind</th>\n      <th>weather</th>\n    </tr>\n  </thead>\n  <tbody>\n    <tr>\n      <th>0</th>\n      <td>2012-01-01</td>\n      <td>0.0</td>\n      <td>12.8</td>\n      <td>5.0</td>\n      <td>4.7</td>\n      <td>drizzle</td>\n    </tr>\n    <tr>\n      <th>1</th>\n      <td>2012-01-02</td>\n      <td>10.9</td>\n      <td>10.6</td>\n      <td>2.8</td>\n      <td>4.5</td>\n      <td>rain</td>\n    </tr>\n    <tr>\n      <th>2</th>\n      <td>2012-01-03</td>\n      <td>0.8</td>\n      <td>11.7</td>\n      <td>7.2</td>\n      <td>2.3</td>\n      <td>rain</td>\n    </tr>\n    <tr>\n      <th>3</th>\n      <td>2012-01-04</td>\n      <td>20.3</td>\n      <td>12.2</td>\n      <td>5.6</td>\n      <td>4.7</td>\n      <td>rain</td>\n    </tr>\n    <tr>\n      <th>4</th>\n      <td>2012-01-05</td>\n      <td>1.3</td>\n      <td>8.9</td>\n      <td>2.8</td>\n      <td>6.1</td>\n      <td>rain</td>\n    </tr>\n  </tbody>\n</table>\n</div>"
     },
     "execution_count": 23,
     "metadata": {},
     "output_type": "execute_result"
    }
   ],
   "source": [
    "df.head(5)"
   ],
   "metadata": {
    "collapsed": false,
    "ExecuteTime": {
     "end_time": "2025-07-27T07:29:04.129271800Z",
     "start_time": "2025-07-27T07:29:04.095271500Z"
    }
   }
  },
  {
   "cell_type": "code",
   "execution_count": 24,
   "outputs": [
    {
     "data": {
      "text/plain": "            date  precipitation  temp_max  temp_min  wind weather\n1456  2015-12-27            8.6       4.4       1.7   2.9    rain\n1457  2015-12-28            1.5       5.0       1.7   1.3    rain\n1458  2015-12-29            0.0       7.2       0.6   2.6     fog\n1459  2015-12-30            0.0       5.6      -1.0   3.4     sun\n1460  2015-12-31            0.0       5.6      -2.1   3.5     sun",
      "text/html": "<div>\n<style scoped>\n    .dataframe tbody tr th:only-of-type {\n        vertical-align: middle;\n    }\n\n    .dataframe tbody tr th {\n        vertical-align: top;\n    }\n\n    .dataframe thead th {\n        text-align: right;\n    }\n</style>\n<table border=\"1\" class=\"dataframe\">\n  <thead>\n    <tr style=\"text-align: right;\">\n      <th></th>\n      <th>date</th>\n      <th>precipitation</th>\n      <th>temp_max</th>\n      <th>temp_min</th>\n      <th>wind</th>\n      <th>weather</th>\n    </tr>\n  </thead>\n  <tbody>\n    <tr>\n      <th>1456</th>\n      <td>2015-12-27</td>\n      <td>8.6</td>\n      <td>4.4</td>\n      <td>1.7</td>\n      <td>2.9</td>\n      <td>rain</td>\n    </tr>\n    <tr>\n      <th>1457</th>\n      <td>2015-12-28</td>\n      <td>1.5</td>\n      <td>5.0</td>\n      <td>1.7</td>\n      <td>1.3</td>\n      <td>rain</td>\n    </tr>\n    <tr>\n      <th>1458</th>\n      <td>2015-12-29</td>\n      <td>0.0</td>\n      <td>7.2</td>\n      <td>0.6</td>\n      <td>2.6</td>\n      <td>fog</td>\n    </tr>\n    <tr>\n      <th>1459</th>\n      <td>2015-12-30</td>\n      <td>0.0</td>\n      <td>5.6</td>\n      <td>-1.0</td>\n      <td>3.4</td>\n      <td>sun</td>\n    </tr>\n    <tr>\n      <th>1460</th>\n      <td>2015-12-31</td>\n      <td>0.0</td>\n      <td>5.6</td>\n      <td>-2.1</td>\n      <td>3.5</td>\n      <td>sun</td>\n    </tr>\n  </tbody>\n</table>\n</div>"
     },
     "execution_count": 24,
     "metadata": {},
     "output_type": "execute_result"
    }
   ],
   "source": [
    "df.tail(5)"
   ],
   "metadata": {
    "collapsed": false,
    "ExecuteTime": {
     "end_time": "2025-07-27T07:29:21.709282500Z",
     "start_time": "2025-07-27T07:29:21.685784300Z"
    }
   }
  },
  {
   "cell_type": "markdown",
   "source": [
    "## 1.2 获取一列或多列数据"
   ],
   "metadata": {
    "collapsed": false
   }
  },
  {
   "cell_type": "code",
   "execution_count": 25,
   "outputs": [
    {
     "data": {
      "text/plain": "0       2012-01-01\n1       2012-01-02\n2       2012-01-03\n3       2012-01-04\n4       2012-01-05\n           ...    \n1456    2015-12-27\n1457    2015-12-28\n1458    2015-12-29\n1459    2015-12-30\n1460    2015-12-31\nName: date, Length: 1461, dtype: object"
     },
     "execution_count": 25,
     "metadata": {},
     "output_type": "execute_result"
    }
   ],
   "source": [
    "df['date']"
   ],
   "metadata": {
    "collapsed": false,
    "ExecuteTime": {
     "end_time": "2025-07-27T07:29:31.372146700Z",
     "start_time": "2025-07-27T07:29:31.354628400Z"
    }
   }
  },
  {
   "cell_type": "code",
   "execution_count": 26,
   "outputs": [
    {
     "data": {
      "text/plain": "            date  wind\n0     2012-01-01   4.7\n1     2012-01-02   4.5\n2     2012-01-03   2.3\n3     2012-01-04   4.7\n4     2012-01-05   6.1\n...          ...   ...\n1456  2015-12-27   2.9\n1457  2015-12-28   1.3\n1458  2015-12-29   2.6\n1459  2015-12-30   3.4\n1460  2015-12-31   3.5\n\n[1461 rows x 2 columns]",
      "text/html": "<div>\n<style scoped>\n    .dataframe tbody tr th:only-of-type {\n        vertical-align: middle;\n    }\n\n    .dataframe tbody tr th {\n        vertical-align: top;\n    }\n\n    .dataframe thead th {\n        text-align: right;\n    }\n</style>\n<table border=\"1\" class=\"dataframe\">\n  <thead>\n    <tr style=\"text-align: right;\">\n      <th></th>\n      <th>date</th>\n      <th>wind</th>\n    </tr>\n  </thead>\n  <tbody>\n    <tr>\n      <th>0</th>\n      <td>2012-01-01</td>\n      <td>4.7</td>\n    </tr>\n    <tr>\n      <th>1</th>\n      <td>2012-01-02</td>\n      <td>4.5</td>\n    </tr>\n    <tr>\n      <th>2</th>\n      <td>2012-01-03</td>\n      <td>2.3</td>\n    </tr>\n    <tr>\n      <th>3</th>\n      <td>2012-01-04</td>\n      <td>4.7</td>\n    </tr>\n    <tr>\n      <th>4</th>\n      <td>2012-01-05</td>\n      <td>6.1</td>\n    </tr>\n    <tr>\n      <th>...</th>\n      <td>...</td>\n      <td>...</td>\n    </tr>\n    <tr>\n      <th>1456</th>\n      <td>2015-12-27</td>\n      <td>2.9</td>\n    </tr>\n    <tr>\n      <th>1457</th>\n      <td>2015-12-28</td>\n      <td>1.3</td>\n    </tr>\n    <tr>\n      <th>1458</th>\n      <td>2015-12-29</td>\n      <td>2.6</td>\n    </tr>\n    <tr>\n      <th>1459</th>\n      <td>2015-12-30</td>\n      <td>3.4</td>\n    </tr>\n    <tr>\n      <th>1460</th>\n      <td>2015-12-31</td>\n      <td>3.5</td>\n    </tr>\n  </tbody>\n</table>\n<p>1461 rows × 2 columns</p>\n</div>"
     },
     "execution_count": 26,
     "metadata": {},
     "output_type": "execute_result"
    }
   ],
   "source": [
    "df[['date','wind']]"
   ],
   "metadata": {
    "collapsed": false,
    "ExecuteTime": {
     "end_time": "2025-07-27T07:30:15.755390200Z",
     "start_time": "2025-07-27T07:30:15.741389100Z"
    }
   }
  },
  {
   "cell_type": "markdown",
   "source": [
    "## 1.3 按行获取数据"
   ],
   "metadata": {
    "collapsed": false
   }
  },
  {
   "cell_type": "code",
   "execution_count": 27,
   "outputs": [
    {
     "data": {
      "text/plain": "date             2012-01-02\nprecipitation          10.9\ntemp_max               10.6\ntemp_min                2.8\nwind                    4.5\nweather                rain\nName: 1, dtype: object"
     },
     "execution_count": 27,
     "metadata": {},
     "output_type": "execute_result"
    }
   ],
   "source": [
    "# 获取行标签为1的数据\n",
    "df.loc[1]"
   ],
   "metadata": {
    "collapsed": false,
    "ExecuteTime": {
     "end_time": "2025-07-27T07:30:51.130095900Z",
     "start_time": "2025-07-27T07:30:51.117095300Z"
    }
   }
  },
  {
   "cell_type": "code",
   "execution_count": 28,
   "outputs": [
    {
     "data": {
      "text/plain": "           date  precipitation  temp_max  temp_min  wind weather\n1    2012-01-02           10.9      10.6       2.8   4.5    rain\n10   2012-01-11            0.0       6.1      -1.1   5.1     sun\n100  2012-04-10            0.0      17.8       8.9   3.2    rain",
      "text/html": "<div>\n<style scoped>\n    .dataframe tbody tr th:only-of-type {\n        vertical-align: middle;\n    }\n\n    .dataframe tbody tr th {\n        vertical-align: top;\n    }\n\n    .dataframe thead th {\n        text-align: right;\n    }\n</style>\n<table border=\"1\" class=\"dataframe\">\n  <thead>\n    <tr style=\"text-align: right;\">\n      <th></th>\n      <th>date</th>\n      <th>precipitation</th>\n      <th>temp_max</th>\n      <th>temp_min</th>\n      <th>wind</th>\n      <th>weather</th>\n    </tr>\n  </thead>\n  <tbody>\n    <tr>\n      <th>1</th>\n      <td>2012-01-02</td>\n      <td>10.9</td>\n      <td>10.6</td>\n      <td>2.8</td>\n      <td>4.5</td>\n      <td>rain</td>\n    </tr>\n    <tr>\n      <th>10</th>\n      <td>2012-01-11</td>\n      <td>0.0</td>\n      <td>6.1</td>\n      <td>-1.1</td>\n      <td>5.1</td>\n      <td>sun</td>\n    </tr>\n    <tr>\n      <th>100</th>\n      <td>2012-04-10</td>\n      <td>0.0</td>\n      <td>17.8</td>\n      <td>8.9</td>\n      <td>3.2</td>\n      <td>rain</td>\n    </tr>\n  </tbody>\n</table>\n</div>"
     },
     "execution_count": 28,
     "metadata": {},
     "output_type": "execute_result"
    }
   ],
   "source": [
    "# 获取行标签分别为1、10、100的数据\n",
    "df.loc[[1,10,100]]"
   ],
   "metadata": {
    "collapsed": false,
    "ExecuteTime": {
     "end_time": "2025-07-27T07:31:08.309992500Z",
     "start_time": "2025-07-27T07:31:08.285066900Z"
    }
   }
  },
  {
   "cell_type": "code",
   "execution_count": 29,
   "outputs": [
    {
     "data": {
      "text/plain": "date             2012-01-01\nprecipitation           0.0\ntemp_max               12.8\ntemp_min                5.0\nwind                    4.7\nweather             drizzle\nName: 0, dtype: object"
     },
     "execution_count": 29,
     "metadata": {},
     "output_type": "execute_result"
    }
   ],
   "source": [
    "# 获取行位置为0的数据\n",
    "df.iloc[0]"
   ],
   "metadata": {
    "collapsed": false,
    "ExecuteTime": {
     "end_time": "2025-07-27T07:31:25.168036900Z",
     "start_time": "2025-07-27T07:31:25.146429700Z"
    }
   }
  },
  {
   "cell_type": "code",
   "execution_count": 30,
   "outputs": [
    {
     "data": {
      "text/plain": "date             2015-12-31\nprecipitation           0.0\ntemp_max                5.6\ntemp_min               -2.1\nwind                    3.5\nweather                 sun\nName: 1460, dtype: object"
     },
     "execution_count": 30,
     "metadata": {},
     "output_type": "execute_result"
    }
   ],
   "source": [
    "# 获取行位置为最后一位的数据\n",
    "df.iloc[-1]"
   ],
   "metadata": {
    "collapsed": false,
    "ExecuteTime": {
     "end_time": "2025-07-27T07:31:45.860444700Z",
     "start_time": "2025-07-27T07:31:45.837639600Z"
    }
   }
  },
  {
   "cell_type": "markdown",
   "source": [
    "## 1.4 获取指定行与列的数据"
   ],
   "metadata": {
    "collapsed": false
   }
  },
  {
   "cell_type": "code",
   "execution_count": 31,
   "outputs": [
    {
     "data": {
      "text/plain": "np.float64(10.9)"
     },
     "execution_count": 31,
     "metadata": {},
     "output_type": "execute_result"
    }
   ],
   "source": [
    "# 获取行标签为1，列标签为precipitation的数据\n",
    "df.loc[1,'precipitation']"
   ],
   "metadata": {
    "collapsed": false,
    "ExecuteTime": {
     "end_time": "2025-07-27T07:32:53.082977800Z",
     "start_time": "2025-07-27T07:32:53.076728900Z"
    }
   }
  },
  {
   "cell_type": "code",
   "execution_count": 32,
   "outputs": [
    {
     "data": {
      "text/plain": "0        0.0\n1       10.9\n2        0.8\n3       20.3\n4        1.3\n        ... \n1456     8.6\n1457     1.5\n1458     0.0\n1459     0.0\n1460     0.0\nName: precipitation, Length: 1461, dtype: float64"
     },
     "execution_count": 32,
     "metadata": {},
     "output_type": "execute_result"
    }
   ],
   "source": [
    "# 获取所有行，列标签为precipitation的数据\n",
    "df.loc[:,'precipitation']"
   ],
   "metadata": {
    "collapsed": false,
    "ExecuteTime": {
     "end_time": "2025-07-27T07:33:07.886465600Z",
     "start_time": "2025-07-27T07:33:07.863355500Z"
    }
   }
  },
  {
   "cell_type": "code",
   "execution_count": 33,
   "outputs": [
    {
     "data": {
      "text/plain": "      temp_min  weather  weather\n0          5.0  drizzle  drizzle\n1          2.8     rain     rain\n2          7.2     rain     rain\n3          5.6     rain     rain\n4          2.8     rain     rain\n...        ...      ...      ...\n1456       1.7     rain     rain\n1457       1.7     rain     rain\n1458       0.6      fog      fog\n1459      -1.0      sun      sun\n1460      -2.1      sun      sun\n\n[1461 rows x 3 columns]",
      "text/html": "<div>\n<style scoped>\n    .dataframe tbody tr th:only-of-type {\n        vertical-align: middle;\n    }\n\n    .dataframe tbody tr th {\n        vertical-align: top;\n    }\n\n    .dataframe thead th {\n        text-align: right;\n    }\n</style>\n<table border=\"1\" class=\"dataframe\">\n  <thead>\n    <tr style=\"text-align: right;\">\n      <th></th>\n      <th>temp_min</th>\n      <th>weather</th>\n      <th>weather</th>\n    </tr>\n  </thead>\n  <tbody>\n    <tr>\n      <th>0</th>\n      <td>5.0</td>\n      <td>drizzle</td>\n      <td>drizzle</td>\n    </tr>\n    <tr>\n      <th>1</th>\n      <td>2.8</td>\n      <td>rain</td>\n      <td>rain</td>\n    </tr>\n    <tr>\n      <th>2</th>\n      <td>7.2</td>\n      <td>rain</td>\n      <td>rain</td>\n    </tr>\n    <tr>\n      <th>3</th>\n      <td>5.6</td>\n      <td>rain</td>\n      <td>rain</td>\n    </tr>\n    <tr>\n      <th>4</th>\n      <td>2.8</td>\n      <td>rain</td>\n      <td>rain</td>\n    </tr>\n    <tr>\n      <th>...</th>\n      <td>...</td>\n      <td>...</td>\n      <td>...</td>\n    </tr>\n    <tr>\n      <th>1456</th>\n      <td>1.7</td>\n      <td>rain</td>\n      <td>rain</td>\n    </tr>\n    <tr>\n      <th>1457</th>\n      <td>1.7</td>\n      <td>rain</td>\n      <td>rain</td>\n    </tr>\n    <tr>\n      <th>1458</th>\n      <td>0.6</td>\n      <td>fog</td>\n      <td>fog</td>\n    </tr>\n    <tr>\n      <th>1459</th>\n      <td>-1.0</td>\n      <td>sun</td>\n      <td>sun</td>\n    </tr>\n    <tr>\n      <th>1460</th>\n      <td>-2.1</td>\n      <td>sun</td>\n      <td>sun</td>\n    </tr>\n  </tbody>\n</table>\n<p>1461 rows × 3 columns</p>\n</div>"
     },
     "execution_count": 33,
     "metadata": {},
     "output_type": "execute_result"
    }
   ],
   "source": [
    "# 获取所有行，列位置为3，5，最后一位的数据\n",
    "df.iloc[:,[3,5,-1]]"
   ],
   "metadata": {
    "collapsed": false,
    "ExecuteTime": {
     "end_time": "2025-07-27T07:33:58.065040700Z",
     "start_time": "2025-07-27T07:33:58.051723600Z"
    }
   }
  },
  {
   "cell_type": "code",
   "execution_count": 34,
   "outputs": [
    {
     "data": {
      "text/plain": "   temp_max  temp_min  wind  weather\n0      12.8       5.0   4.7  drizzle\n1      10.6       2.8   4.5     rain\n2      11.7       7.2   2.3     rain\n3      12.2       5.6   4.7     rain\n4       8.9       2.8   6.1     rain\n5       4.4       2.2   2.2     rain\n6       7.2       2.8   2.3     rain\n7      10.0       2.8   2.0      sun\n8       9.4       5.0   3.4     rain\n9       6.1       0.6   3.4     rain",
      "text/html": "<div>\n<style scoped>\n    .dataframe tbody tr th:only-of-type {\n        vertical-align: middle;\n    }\n\n    .dataframe tbody tr th {\n        vertical-align: top;\n    }\n\n    .dataframe thead th {\n        text-align: right;\n    }\n</style>\n<table border=\"1\" class=\"dataframe\">\n  <thead>\n    <tr style=\"text-align: right;\">\n      <th></th>\n      <th>temp_max</th>\n      <th>temp_min</th>\n      <th>wind</th>\n      <th>weather</th>\n    </tr>\n  </thead>\n  <tbody>\n    <tr>\n      <th>0</th>\n      <td>12.8</td>\n      <td>5.0</td>\n      <td>4.7</td>\n      <td>drizzle</td>\n    </tr>\n    <tr>\n      <th>1</th>\n      <td>10.6</td>\n      <td>2.8</td>\n      <td>4.5</td>\n      <td>rain</td>\n    </tr>\n    <tr>\n      <th>2</th>\n      <td>11.7</td>\n      <td>7.2</td>\n      <td>2.3</td>\n      <td>rain</td>\n    </tr>\n    <tr>\n      <th>3</th>\n      <td>12.2</td>\n      <td>5.6</td>\n      <td>4.7</td>\n      <td>rain</td>\n    </tr>\n    <tr>\n      <th>4</th>\n      <td>8.9</td>\n      <td>2.8</td>\n      <td>6.1</td>\n      <td>rain</td>\n    </tr>\n    <tr>\n      <th>5</th>\n      <td>4.4</td>\n      <td>2.2</td>\n      <td>2.2</td>\n      <td>rain</td>\n    </tr>\n    <tr>\n      <th>6</th>\n      <td>7.2</td>\n      <td>2.8</td>\n      <td>2.3</td>\n      <td>rain</td>\n    </tr>\n    <tr>\n      <th>7</th>\n      <td>10.0</td>\n      <td>2.8</td>\n      <td>2.0</td>\n      <td>sun</td>\n    </tr>\n    <tr>\n      <th>8</th>\n      <td>9.4</td>\n      <td>5.0</td>\n      <td>3.4</td>\n      <td>rain</td>\n    </tr>\n    <tr>\n      <th>9</th>\n      <td>6.1</td>\n      <td>0.6</td>\n      <td>3.4</td>\n      <td>rain</td>\n    </tr>\n  </tbody>\n</table>\n</div>"
     },
     "execution_count": 34,
     "metadata": {},
     "output_type": "execute_result"
    }
   ],
   "source": [
    "# 获取前10行，列位置为2、3、4、5的数据\n",
    "df.iloc[:10, 2:6]"
   ],
   "metadata": {
    "collapsed": false,
    "ExecuteTime": {
     "end_time": "2025-07-27T07:34:12.962166500Z",
     "start_time": "2025-07-27T07:34:12.939153600Z"
    }
   }
  },
  {
   "cell_type": "code",
   "execution_count": 35,
   "outputs": [
    {
     "data": {
      "text/plain": "          date  precipitation  temp_max  temp_min\n0   2012-01-01            0.0      12.8       5.0\n1   2012-01-02           10.9      10.6       2.8\n2   2012-01-03            0.8      11.7       7.2\n3   2012-01-04           20.3      12.2       5.6\n4   2012-01-05            1.3       8.9       2.8\n5   2012-01-06            2.5       4.4       2.2\n6   2012-01-07            0.0       7.2       2.8\n7   2012-01-08            0.0      10.0       2.8\n8   2012-01-09            4.3       9.4       5.0\n9   2012-01-10            1.0       6.1       0.6\n10  2012-01-11            0.0       6.1      -1.1",
      "text/html": "<div>\n<style scoped>\n    .dataframe tbody tr th:only-of-type {\n        vertical-align: middle;\n    }\n\n    .dataframe tbody tr th {\n        vertical-align: top;\n    }\n\n    .dataframe thead th {\n        text-align: right;\n    }\n</style>\n<table border=\"1\" class=\"dataframe\">\n  <thead>\n    <tr style=\"text-align: right;\">\n      <th></th>\n      <th>date</th>\n      <th>precipitation</th>\n      <th>temp_max</th>\n      <th>temp_min</th>\n    </tr>\n  </thead>\n  <tbody>\n    <tr>\n      <th>0</th>\n      <td>2012-01-01</td>\n      <td>0.0</td>\n      <td>12.8</td>\n      <td>5.0</td>\n    </tr>\n    <tr>\n      <th>1</th>\n      <td>2012-01-02</td>\n      <td>10.9</td>\n      <td>10.6</td>\n      <td>2.8</td>\n    </tr>\n    <tr>\n      <th>2</th>\n      <td>2012-01-03</td>\n      <td>0.8</td>\n      <td>11.7</td>\n      <td>7.2</td>\n    </tr>\n    <tr>\n      <th>3</th>\n      <td>2012-01-04</td>\n      <td>20.3</td>\n      <td>12.2</td>\n      <td>5.6</td>\n    </tr>\n    <tr>\n      <th>4</th>\n      <td>2012-01-05</td>\n      <td>1.3</td>\n      <td>8.9</td>\n      <td>2.8</td>\n    </tr>\n    <tr>\n      <th>5</th>\n      <td>2012-01-06</td>\n      <td>2.5</td>\n      <td>4.4</td>\n      <td>2.2</td>\n    </tr>\n    <tr>\n      <th>6</th>\n      <td>2012-01-07</td>\n      <td>0.0</td>\n      <td>7.2</td>\n      <td>2.8</td>\n    </tr>\n    <tr>\n      <th>7</th>\n      <td>2012-01-08</td>\n      <td>0.0</td>\n      <td>10.0</td>\n      <td>2.8</td>\n    </tr>\n    <tr>\n      <th>8</th>\n      <td>2012-01-09</td>\n      <td>4.3</td>\n      <td>9.4</td>\n      <td>5.0</td>\n    </tr>\n    <tr>\n      <th>9</th>\n      <td>2012-01-10</td>\n      <td>1.0</td>\n      <td>6.1</td>\n      <td>0.6</td>\n    </tr>\n    <tr>\n      <th>10</th>\n      <td>2012-01-11</td>\n      <td>0.0</td>\n      <td>6.1</td>\n      <td>-1.1</td>\n    </tr>\n  </tbody>\n</table>\n</div>"
     },
     "execution_count": 35,
     "metadata": {},
     "output_type": "execute_result"
    }
   ],
   "source": [
    "# 通过行列标签获取数据\n",
    "df.loc[:10, [\"date\", \"precipitation\", \"temp_max\", \"temp_min\"]]"
   ],
   "metadata": {
    "collapsed": false,
    "ExecuteTime": {
     "end_time": "2025-07-27T07:34:23.842458100Z",
     "start_time": "2025-07-27T07:34:23.827454700Z"
    }
   }
  },
  {
   "cell_type": "markdown",
   "source": [
    "# 2.分组聚合计算"
   ],
   "metadata": {
    "collapsed": false
   }
  },
  {
   "cell_type": "code",
   "execution_count": 36,
   "outputs": [
    {
     "data": {
      "text/plain": "            date  precipitation  temp_max  temp_min  wind  weather\n0     2012-01-01            0.0      12.8       5.0   4.7  drizzle\n1     2012-01-02           10.9      10.6       2.8   4.5     rain\n2     2012-01-03            0.8      11.7       7.2   2.3     rain\n3     2012-01-04           20.3      12.2       5.6   4.7     rain\n4     2012-01-05            1.3       8.9       2.8   6.1     rain\n...          ...            ...       ...       ...   ...      ...\n1456  2015-12-27            8.6       4.4       1.7   2.9     rain\n1457  2015-12-28            1.5       5.0       1.7   1.3     rain\n1458  2015-12-29            0.0       7.2       0.6   2.6      fog\n1459  2015-12-30            0.0       5.6      -1.0   3.4      sun\n1460  2015-12-31            0.0       5.6      -2.1   3.5      sun\n\n[1461 rows x 6 columns]",
      "text/html": "<div>\n<style scoped>\n    .dataframe tbody tr th:only-of-type {\n        vertical-align: middle;\n    }\n\n    .dataframe tbody tr th {\n        vertical-align: top;\n    }\n\n    .dataframe thead th {\n        text-align: right;\n    }\n</style>\n<table border=\"1\" class=\"dataframe\">\n  <thead>\n    <tr style=\"text-align: right;\">\n      <th></th>\n      <th>date</th>\n      <th>precipitation</th>\n      <th>temp_max</th>\n      <th>temp_min</th>\n      <th>wind</th>\n      <th>weather</th>\n    </tr>\n  </thead>\n  <tbody>\n    <tr>\n      <th>0</th>\n      <td>2012-01-01</td>\n      <td>0.0</td>\n      <td>12.8</td>\n      <td>5.0</td>\n      <td>4.7</td>\n      <td>drizzle</td>\n    </tr>\n    <tr>\n      <th>1</th>\n      <td>2012-01-02</td>\n      <td>10.9</td>\n      <td>10.6</td>\n      <td>2.8</td>\n      <td>4.5</td>\n      <td>rain</td>\n    </tr>\n    <tr>\n      <th>2</th>\n      <td>2012-01-03</td>\n      <td>0.8</td>\n      <td>11.7</td>\n      <td>7.2</td>\n      <td>2.3</td>\n      <td>rain</td>\n    </tr>\n    <tr>\n      <th>3</th>\n      <td>2012-01-04</td>\n      <td>20.3</td>\n      <td>12.2</td>\n      <td>5.6</td>\n      <td>4.7</td>\n      <td>rain</td>\n    </tr>\n    <tr>\n      <th>4</th>\n      <td>2012-01-05</td>\n      <td>1.3</td>\n      <td>8.9</td>\n      <td>2.8</td>\n      <td>6.1</td>\n      <td>rain</td>\n    </tr>\n    <tr>\n      <th>...</th>\n      <td>...</td>\n      <td>...</td>\n      <td>...</td>\n      <td>...</td>\n      <td>...</td>\n      <td>...</td>\n    </tr>\n    <tr>\n      <th>1456</th>\n      <td>2015-12-27</td>\n      <td>8.6</td>\n      <td>4.4</td>\n      <td>1.7</td>\n      <td>2.9</td>\n      <td>rain</td>\n    </tr>\n    <tr>\n      <th>1457</th>\n      <td>2015-12-28</td>\n      <td>1.5</td>\n      <td>5.0</td>\n      <td>1.7</td>\n      <td>1.3</td>\n      <td>rain</td>\n    </tr>\n    <tr>\n      <th>1458</th>\n      <td>2015-12-29</td>\n      <td>0.0</td>\n      <td>7.2</td>\n      <td>0.6</td>\n      <td>2.6</td>\n      <td>fog</td>\n    </tr>\n    <tr>\n      <th>1459</th>\n      <td>2015-12-30</td>\n      <td>0.0</td>\n      <td>5.6</td>\n      <td>-1.0</td>\n      <td>3.4</td>\n      <td>sun</td>\n    </tr>\n    <tr>\n      <th>1460</th>\n      <td>2015-12-31</td>\n      <td>0.0</td>\n      <td>5.6</td>\n      <td>-2.1</td>\n      <td>3.5</td>\n      <td>sun</td>\n    </tr>\n  </tbody>\n</table>\n<p>1461 rows × 6 columns</p>\n</div>"
     },
     "execution_count": 36,
     "metadata": {},
     "output_type": "execute_result"
    }
   ],
   "source": [
    "df = pd.read_csv(\"../data/weather.csv\")\n",
    "df"
   ],
   "metadata": {
    "collapsed": false,
    "ExecuteTime": {
     "end_time": "2025-07-27T07:48:31.603599700Z",
     "start_time": "2025-07-27T07:48:31.590653800Z"
    }
   }
  },
  {
   "cell_type": "markdown",
   "source": [
    "将数据按月分组，并统计最大温度和最小温度的平均值"
   ],
   "metadata": {
    "collapsed": false
   }
  },
  {
   "cell_type": "code",
   "execution_count": 37,
   "outputs": [
    {
     "data": {
      "text/plain": "            date  precipitation  temp_max  temp_min  wind  weather        ymd  \\\n0     2012-01-01            0.0      12.8       5.0   4.7  drizzle 2012-01-01   \n1     2012-01-02           10.9      10.6       2.8   4.5     rain 2012-01-02   \n2     2012-01-03            0.8      11.7       7.2   2.3     rain 2012-01-03   \n3     2012-01-04           20.3      12.2       5.6   4.7     rain 2012-01-04   \n4     2012-01-05            1.3       8.9       2.8   6.1     rain 2012-01-05   \n...          ...            ...       ...       ...   ...      ...        ...   \n1456  2015-12-27            8.6       4.4       1.7   2.9     rain 2015-12-27   \n1457  2015-12-28            1.5       5.0       1.7   1.3     rain 2015-12-28   \n1458  2015-12-29            0.0       7.2       0.6   2.6      fog 2015-12-29   \n1459  2015-12-30            0.0       5.6      -1.0   3.4      sun 2015-12-30   \n1460  2015-12-31            0.0       5.6      -2.1   3.5      sun 2015-12-31   \n\n      month  \n0         1  \n1         1  \n2         1  \n3         1  \n4         1  \n...     ...  \n1456     12  \n1457     12  \n1458     12  \n1459     12  \n1460     12  \n\n[1461 rows x 8 columns]",
      "text/html": "<div>\n<style scoped>\n    .dataframe tbody tr th:only-of-type {\n        vertical-align: middle;\n    }\n\n    .dataframe tbody tr th {\n        vertical-align: top;\n    }\n\n    .dataframe thead th {\n        text-align: right;\n    }\n</style>\n<table border=\"1\" class=\"dataframe\">\n  <thead>\n    <tr style=\"text-align: right;\">\n      <th></th>\n      <th>date</th>\n      <th>precipitation</th>\n      <th>temp_max</th>\n      <th>temp_min</th>\n      <th>wind</th>\n      <th>weather</th>\n      <th>ymd</th>\n      <th>month</th>\n    </tr>\n  </thead>\n  <tbody>\n    <tr>\n      <th>0</th>\n      <td>2012-01-01</td>\n      <td>0.0</td>\n      <td>12.8</td>\n      <td>5.0</td>\n      <td>4.7</td>\n      <td>drizzle</td>\n      <td>2012-01-01</td>\n      <td>1</td>\n    </tr>\n    <tr>\n      <th>1</th>\n      <td>2012-01-02</td>\n      <td>10.9</td>\n      <td>10.6</td>\n      <td>2.8</td>\n      <td>4.5</td>\n      <td>rain</td>\n      <td>2012-01-02</td>\n      <td>1</td>\n    </tr>\n    <tr>\n      <th>2</th>\n      <td>2012-01-03</td>\n      <td>0.8</td>\n      <td>11.7</td>\n      <td>7.2</td>\n      <td>2.3</td>\n      <td>rain</td>\n      <td>2012-01-03</td>\n      <td>1</td>\n    </tr>\n    <tr>\n      <th>3</th>\n      <td>2012-01-04</td>\n      <td>20.3</td>\n      <td>12.2</td>\n      <td>5.6</td>\n      <td>4.7</td>\n      <td>rain</td>\n      <td>2012-01-04</td>\n      <td>1</td>\n    </tr>\n    <tr>\n      <th>4</th>\n      <td>2012-01-05</td>\n      <td>1.3</td>\n      <td>8.9</td>\n      <td>2.8</td>\n      <td>6.1</td>\n      <td>rain</td>\n      <td>2012-01-05</td>\n      <td>1</td>\n    </tr>\n    <tr>\n      <th>...</th>\n      <td>...</td>\n      <td>...</td>\n      <td>...</td>\n      <td>...</td>\n      <td>...</td>\n      <td>...</td>\n      <td>...</td>\n      <td>...</td>\n    </tr>\n    <tr>\n      <th>1456</th>\n      <td>2015-12-27</td>\n      <td>8.6</td>\n      <td>4.4</td>\n      <td>1.7</td>\n      <td>2.9</td>\n      <td>rain</td>\n      <td>2015-12-27</td>\n      <td>12</td>\n    </tr>\n    <tr>\n      <th>1457</th>\n      <td>2015-12-28</td>\n      <td>1.5</td>\n      <td>5.0</td>\n      <td>1.7</td>\n      <td>1.3</td>\n      <td>rain</td>\n      <td>2015-12-28</td>\n      <td>12</td>\n    </tr>\n    <tr>\n      <th>1458</th>\n      <td>2015-12-29</td>\n      <td>0.0</td>\n      <td>7.2</td>\n      <td>0.6</td>\n      <td>2.6</td>\n      <td>fog</td>\n      <td>2015-12-29</td>\n      <td>12</td>\n    </tr>\n    <tr>\n      <th>1459</th>\n      <td>2015-12-30</td>\n      <td>0.0</td>\n      <td>5.6</td>\n      <td>-1.0</td>\n      <td>3.4</td>\n      <td>sun</td>\n      <td>2015-12-30</td>\n      <td>12</td>\n    </tr>\n    <tr>\n      <th>1460</th>\n      <td>2015-12-31</td>\n      <td>0.0</td>\n      <td>5.6</td>\n      <td>-2.1</td>\n      <td>3.5</td>\n      <td>sun</td>\n      <td>2015-12-31</td>\n      <td>12</td>\n    </tr>\n  </tbody>\n</table>\n<p>1461 rows × 8 columns</p>\n</div>"
     },
     "execution_count": 37,
     "metadata": {},
     "output_type": "execute_result"
    }
   ],
   "source": [
    "df['ymd'] = pd.to_datetime(df['date'])\n",
    "df['month'] = df['ymd'].dt.month\n",
    "df"
   ],
   "metadata": {
    "collapsed": false,
    "ExecuteTime": {
     "end_time": "2025-07-27T07:48:49.524989300Z",
     "start_time": "2025-07-27T07:48:49.504983500Z"
    }
   }
  },
  {
   "cell_type": "code",
   "execution_count": 38,
   "outputs": [
    {
     "data": {
      "text/plain": "month\n1      8.229032\n2      9.860177\n3     12.387097\n4     15.020000\n5     19.295968\n6     22.400000\n7     25.998387\n8     26.112097\n9     21.924167\n10    16.389516\n11    11.023333\n12     8.194355\nName: temp_max, dtype: float64"
     },
     "execution_count": 38,
     "metadata": {},
     "output_type": "execute_result"
    }
   ],
   "source": [
    "df.groupby('month')['temp_max'].mean()"
   ],
   "metadata": {
    "collapsed": false,
    "ExecuteTime": {
     "end_time": "2025-07-27T07:48:57.548012900Z",
     "start_time": "2025-07-27T07:48:57.542059700Z"
    }
   }
  },
  {
   "cell_type": "code",
   "execution_count": 39,
   "outputs": [
    {
     "data": {
      "text/plain": "month\n1      2.696774\n2      4.054867\n3      4.858871\n4      6.362500\n5      9.614516\n6     12.244167\n7     14.197581\n8     14.769355\n9     12.358333\n10     9.350806\n11     4.701667\n12     3.325000\nName: temp_min, dtype: float64"
     },
     "execution_count": 39,
     "metadata": {},
     "output_type": "execute_result"
    }
   ],
   "source": [
    "df.groupby('month')['temp_min'].mean()"
   ],
   "metadata": {
    "collapsed": false,
    "ExecuteTime": {
     "end_time": "2025-07-27T07:49:07.625953100Z",
     "start_time": "2025-07-27T07:49:07.610960700Z"
    }
   }
  },
  {
   "cell_type": "code",
   "execution_count": 40,
   "outputs": [
    {
     "data": {
      "text/plain": "            date  precipitation  temp_max  temp_min  wind  weather        ymd  \\\n0     2012-01-01            0.0      12.8       5.0   4.7  drizzle 2012-01-01   \n1     2012-01-02           10.9      10.6       2.8   4.5     rain 2012-01-02   \n2     2012-01-03            0.8      11.7       7.2   2.3     rain 2012-01-03   \n3     2012-01-04           20.3      12.2       5.6   4.7     rain 2012-01-04   \n4     2012-01-05            1.3       8.9       2.8   6.1     rain 2012-01-05   \n...          ...            ...       ...       ...   ...      ...        ...   \n1456  2015-12-27            8.6       4.4       1.7   2.9     rain 2015-12-27   \n1457  2015-12-28            1.5       5.0       1.7   1.3     rain 2015-12-28   \n1458  2015-12-29            0.0       7.2       0.6   2.6      fog 2015-12-29   \n1459  2015-12-30            0.0       5.6      -1.0   3.4      sun 2015-12-30   \n1460  2015-12-31            0.0       5.6      -2.1   3.5      sun 2015-12-31   \n\n      month        M  \n0         1  2012-01  \n1         1  2012-01  \n2         1  2012-01  \n3         1  2012-01  \n4         1  2012-01  \n...     ...      ...  \n1456     12  2015-12  \n1457     12  2015-12  \n1458     12  2015-12  \n1459     12  2015-12  \n1460     12  2015-12  \n\n[1461 rows x 9 columns]",
      "text/html": "<div>\n<style scoped>\n    .dataframe tbody tr th:only-of-type {\n        vertical-align: middle;\n    }\n\n    .dataframe tbody tr th {\n        vertical-align: top;\n    }\n\n    .dataframe thead th {\n        text-align: right;\n    }\n</style>\n<table border=\"1\" class=\"dataframe\">\n  <thead>\n    <tr style=\"text-align: right;\">\n      <th></th>\n      <th>date</th>\n      <th>precipitation</th>\n      <th>temp_max</th>\n      <th>temp_min</th>\n      <th>wind</th>\n      <th>weather</th>\n      <th>ymd</th>\n      <th>month</th>\n      <th>M</th>\n    </tr>\n  </thead>\n  <tbody>\n    <tr>\n      <th>0</th>\n      <td>2012-01-01</td>\n      <td>0.0</td>\n      <td>12.8</td>\n      <td>5.0</td>\n      <td>4.7</td>\n      <td>drizzle</td>\n      <td>2012-01-01</td>\n      <td>1</td>\n      <td>2012-01</td>\n    </tr>\n    <tr>\n      <th>1</th>\n      <td>2012-01-02</td>\n      <td>10.9</td>\n      <td>10.6</td>\n      <td>2.8</td>\n      <td>4.5</td>\n      <td>rain</td>\n      <td>2012-01-02</td>\n      <td>1</td>\n      <td>2012-01</td>\n    </tr>\n    <tr>\n      <th>2</th>\n      <td>2012-01-03</td>\n      <td>0.8</td>\n      <td>11.7</td>\n      <td>7.2</td>\n      <td>2.3</td>\n      <td>rain</td>\n      <td>2012-01-03</td>\n      <td>1</td>\n      <td>2012-01</td>\n    </tr>\n    <tr>\n      <th>3</th>\n      <td>2012-01-04</td>\n      <td>20.3</td>\n      <td>12.2</td>\n      <td>5.6</td>\n      <td>4.7</td>\n      <td>rain</td>\n      <td>2012-01-04</td>\n      <td>1</td>\n      <td>2012-01</td>\n    </tr>\n    <tr>\n      <th>4</th>\n      <td>2012-01-05</td>\n      <td>1.3</td>\n      <td>8.9</td>\n      <td>2.8</td>\n      <td>6.1</td>\n      <td>rain</td>\n      <td>2012-01-05</td>\n      <td>1</td>\n      <td>2012-01</td>\n    </tr>\n    <tr>\n      <th>...</th>\n      <td>...</td>\n      <td>...</td>\n      <td>...</td>\n      <td>...</td>\n      <td>...</td>\n      <td>...</td>\n      <td>...</td>\n      <td>...</td>\n      <td>...</td>\n    </tr>\n    <tr>\n      <th>1456</th>\n      <td>2015-12-27</td>\n      <td>8.6</td>\n      <td>4.4</td>\n      <td>1.7</td>\n      <td>2.9</td>\n      <td>rain</td>\n      <td>2015-12-27</td>\n      <td>12</td>\n      <td>2015-12</td>\n    </tr>\n    <tr>\n      <th>1457</th>\n      <td>2015-12-28</td>\n      <td>1.5</td>\n      <td>5.0</td>\n      <td>1.7</td>\n      <td>1.3</td>\n      <td>rain</td>\n      <td>2015-12-28</td>\n      <td>12</td>\n      <td>2015-12</td>\n    </tr>\n    <tr>\n      <th>1458</th>\n      <td>2015-12-29</td>\n      <td>0.0</td>\n      <td>7.2</td>\n      <td>0.6</td>\n      <td>2.6</td>\n      <td>fog</td>\n      <td>2015-12-29</td>\n      <td>12</td>\n      <td>2015-12</td>\n    </tr>\n    <tr>\n      <th>1459</th>\n      <td>2015-12-30</td>\n      <td>0.0</td>\n      <td>5.6</td>\n      <td>-1.0</td>\n      <td>3.4</td>\n      <td>sun</td>\n      <td>2015-12-30</td>\n      <td>12</td>\n      <td>2015-12</td>\n    </tr>\n    <tr>\n      <th>1460</th>\n      <td>2015-12-31</td>\n      <td>0.0</td>\n      <td>5.6</td>\n      <td>-2.1</td>\n      <td>3.5</td>\n      <td>sun</td>\n      <td>2015-12-31</td>\n      <td>12</td>\n      <td>2015-12</td>\n    </tr>\n  </tbody>\n</table>\n<p>1461 rows × 9 columns</p>\n</div>"
     },
     "execution_count": 40,
     "metadata": {},
     "output_type": "execute_result"
    }
   ],
   "source": [
    "df['M'] = df['ymd'].dt.to_period('M')\n",
    "df"
   ],
   "metadata": {
    "collapsed": false,
    "ExecuteTime": {
     "end_time": "2025-07-27T07:49:13.202764400Z",
     "start_time": "2025-07-27T07:49:13.171926100Z"
    }
   }
  },
  {
   "cell_type": "code",
   "execution_count": 41,
   "outputs": [
    {
     "data": {
      "text/plain": "M\n2012-01     1.541935\n2012-02     3.203448\n2012-03     2.838710\n2012-04     5.993333\n2012-05     8.190323\n2012-06    10.480000\n2012-07    12.932258\n2012-08    14.009677\n2012-09    11.243333\n2012-10     8.380645\n2012-11     5.226667\n2012-12     3.293548\n2013-01     0.796774\n2013-02     4.325000\n2013-03     4.977419\n2013-04     6.696667\n2013-05     9.922581\n2013-06    13.163333\n2013-07    13.932258\n2013-08    15.480645\n2013-09    13.590000\n2013-10     7.638710\n2013-11     5.590000\n2013-12     1.570968\n2014-01     4.096774\n2014-02     2.635714\n2014-03     5.425806\n2014-04     6.730000\n2014-05    10.216129\n2014-06    11.756667\n2014-07    14.425806\n2014-08    14.893548\n2014-09    13.233333\n2014-10    10.883871\n2014-11     4.510000\n2014-12     4.609677\n2015-01     4.351613\n2015-02     6.085714\n2015-03     6.193548\n2015-04     6.030000\n2015-05    10.129032\n2015-06    13.576667\n2015-07    15.500000\n2015-08    14.693548\n2015-09    11.366667\n2015-10    10.500000\n2015-11     3.480000\n2015-12     3.825806\nFreq: M, Name: temp_min, dtype: float64"
     },
     "execution_count": 41,
     "metadata": {},
     "output_type": "execute_result"
    }
   ],
   "source": [
    "df.groupby('M')['temp_min'].mean()"
   ],
   "metadata": {
    "collapsed": false,
    "ExecuteTime": {
     "end_time": "2025-07-27T07:49:22.695837500Z",
     "start_time": "2025-07-27T07:49:22.689837800Z"
    }
   }
  },
  {
   "cell_type": "markdown",
   "source": [
    "# 3.基本绘图"
   ],
   "metadata": {
    "collapsed": false
   }
  },
  {
   "cell_type": "code",
   "execution_count": 42,
   "outputs": [
    {
     "data": {
      "text/plain": "<Axes: xlabel='month'>"
     },
     "execution_count": 42,
     "metadata": {},
     "output_type": "execute_result"
    },
    {
     "data": {
      "text/plain": "<Figure size 640x480 with 1 Axes>",
      "image/png": "[encoded data removed]"
     },
     "metadata": {},
     "output_type": "display_data"
    }
   ],
   "source": [
    "df.groupby(\"month\")[[\"temp_max\", \"temp_min\"]].mean().plot()"
   ],
   "metadata": {
    "collapsed": false,
    "ExecuteTime": {
     "end_time": "2025-07-27T07:50:10.468767600Z",
     "start_time": "2025-07-27T07:50:09.907204300Z"
    }
   }
  },
  {
   "cell_type": "markdown",
   "source": [
    "# 4.常用统计方法"
   ],
   "metadata": {
    "collapsed": false
   }
  },
  {
   "cell_type": "code",
   "execution_count": 43,
   "outputs": [
    {
     "data": {
      "text/plain": "       precipitation     temp_max     temp_min         wind  \\\ncount    1461.000000  1461.000000  1461.000000  1461.000000   \nmean        3.029432    16.439083     8.234771     3.241136   \nmin         0.000000    -1.600000    -7.100000     0.400000   \n25%         0.000000    10.600000     4.400000     2.200000   \n50%         0.000000    15.600000     8.300000     3.000000   \n75%         2.800000    22.200000    12.200000     4.000000   \nmax        55.900000    35.600000    18.300000     9.500000   \nstd         6.680194     7.349758     5.023004     1.437825   \n\n                       ymd        month  \ncount                 1461  1461.000000  \nmean   2013-12-31 00:00:00     6.522930  \nmin    2012-01-01 00:00:00     1.000000  \n25%    2012-12-31 00:00:00     4.000000  \n50%    2013-12-31 00:00:00     7.000000  \n75%    2014-12-31 00:00:00    10.000000  \nmax    2015-12-31 00:00:00    12.000000  \nstd                    NaN     3.449884  ",
      "text/html": "<div>\n<style scoped>\n    .dataframe tbody tr th:only-of-type {\n        vertical-align: middle;\n    }\n\n    .dataframe tbody tr th {\n        vertical-align: top;\n    }\n\n    .dataframe thead th {\n        text-align: right;\n    }\n</style>\n<table border=\"1\" class=\"dataframe\">\n  <thead>\n    <tr style=\"text-align: right;\">\n      <th></th>\n      <th>precipitation</th>\n      <th>temp_max</th>\n      <th>temp_min</th>\n      <th>wind</th>\n      <th>ymd</th>\n      <th>month</th>\n    </tr>\n  </thead>\n  <tbody>\n    <tr>\n      <th>count</th>\n      <td>1461.000000</td>\n      <td>1461.000000</td>\n      <td>1461.000000</td>\n      <td>1461.000000</td>\n      <td>1461</td>\n      <td>1461.000000</td>\n    </tr>\n    <tr>\n      <th>mean</th>\n      <td>3.029432</td>\n      <td>16.439083</td>\n      <td>8.234771</td>\n      <td>3.241136</td>\n      <td>2013-12-31 00:00:00</td>\n      <td>6.522930</td>\n    </tr>\n    <tr>\n      <th>min</th>\n      <td>0.000000</td>\n      <td>-1.600000</td>\n      <td>-7.100000</td>\n      <td>0.400000</td>\n      <td>2012-01-01 00:00:00</td>\n      <td>1.000000</td>\n    </tr>\n    <tr>\n      <th>25%</th>\n      <td>0.000000</td>\n      <td>10.600000</td>\n      <td>4.400000</td>\n      <td>2.200000</td>\n      <td>2012-12-31 00:00:00</td>\n      <td>4.000000</td>\n    </tr>\n    <tr>\n      <th>50%</th>\n      <td>0.000000</td>\n      <td>15.600000</td>\n      <td>8.300000</td>\n      <td>3.000000</td>\n      <td>2013-12-31 00:00:00</td>\n      <td>7.000000</td>\n    </tr>\n    <tr>\n      <th>75%</th>\n      <td>2.800000</td>\n      <td>22.200000</td>\n      <td>12.200000</td>\n      <td>4.000000</td>\n      <td>2014-12-31 00:00:00</td>\n      <td>10.000000</td>\n    </tr>\n    <tr>\n      <th>max</th>\n      <td>55.900000</td>\n      <td>35.600000</td>\n      <td>18.300000</td>\n      <td>9.500000</td>\n      <td>2015-12-31 00:00:00</td>\n      <td>12.000000</td>\n    </tr>\n    <tr>\n      <th>std</th>\n      <td>6.680194</td>\n      <td>7.349758</td>\n      <td>5.023004</td>\n      <td>1.437825</td>\n      <td>NaN</td>\n      <td>3.449884</td>\n    </tr>\n  </tbody>\n</table>\n</div>"
     },
     "execution_count": 43,
     "metadata": {},
     "output_type": "execute_result"
    }
   ],
   "source": [
    "df.describe()"
   ],
   "metadata": {
    "collapsed": false,
    "ExecuteTime": {
     "end_time": "2025-07-27T07:51:51.404359800Z",
     "start_time": "2025-07-27T07:51:51.384346Z"
    }
   }
  },
  {
   "cell_type": "code",
   "execution_count": 44,
   "outputs": [
    {
     "data": {
      "text/plain": "              date  precipitation     temp_max     temp_min         wind  \\\ncount         1461    1461.000000  1461.000000  1461.000000  1461.000000   \nunique        1461            NaN          NaN          NaN          NaN   \ntop     2015-12-31            NaN          NaN          NaN          NaN   \nfreq             1            NaN          NaN          NaN          NaN   \nmean           NaN       3.029432    16.439083     8.234771     3.241136   \nmin            NaN       0.000000    -1.600000    -7.100000     0.400000   \n25%            NaN       0.000000    10.600000     4.400000     2.200000   \n50%            NaN       0.000000    15.600000     8.300000     3.000000   \n75%            NaN       2.800000    22.200000    12.200000     4.000000   \nmax            NaN      55.900000    35.600000    18.300000     9.500000   \nstd            NaN       6.680194     7.349758     5.023004     1.437825   \n\n       weather                  ymd        month        M  \ncount     1461                 1461  1461.000000     1461  \nunique       5                  NaN          NaN       48  \ntop       rain                  NaN          NaN  2012-01  \nfreq       641                  NaN          NaN       31  \nmean       NaN  2013-12-31 00:00:00     6.522930      NaN  \nmin        NaN  2012-01-01 00:00:00     1.000000      NaN  \n25%        NaN  2012-12-31 00:00:00     4.000000      NaN  \n50%        NaN  2013-12-31 00:00:00     7.000000      NaN  \n75%        NaN  2014-12-31 00:00:00    10.000000      NaN  \nmax        NaN  2015-12-31 00:00:00    12.000000      NaN  \nstd        NaN                  NaN     3.449884      NaN  ",
      "text/html": "<div>\n<style scoped>\n    .dataframe tbody tr th:only-of-type {\n        vertical-align: middle;\n    }\n\n    .dataframe tbody tr th {\n        vertical-align: top;\n    }\n\n    .dataframe thead th {\n        text-align: right;\n    }\n</style>\n<table border=\"1\" class=\"dataframe\">\n  <thead>\n    <tr style=\"text-align: right;\">\n      <th></th>\n      <th>date</th>\n      <th>precipitation</th>\n      <th>temp_max</th>\n      <th>temp_min</th>\n      <th>wind</th>\n      <th>weather</th>\n      <th>ymd</th>\n      <th>month</th>\n      <th>M</th>\n    </tr>\n  </thead>\n  <tbody>\n    <tr>\n      <th>count</th>\n      <td>1461</td>\n      <td>1461.000000</td>\n      <td>1461.000000</td>\n      <td>1461.000000</td>\n      <td>1461.000000</td>\n      <td>1461</td>\n      <td>1461</td>\n      <td>1461.000000</td>\n      <td>1461</td>\n    </tr>\n    <tr>\n      <th>unique</th>\n      <td>1461</td>\n      <td>NaN</td>\n      <td>NaN</td>\n      <td>NaN</td>\n      <td>NaN</td>\n      <td>5</td>\n      <td>NaN</td>\n      <td>NaN</td>\n      <td>48</td>\n    </tr>\n    <tr>\n      <th>top</th>\n      <td>2015-12-31</td>\n      <td>NaN</td>\n      <td>NaN</td>\n      <td>NaN</td>\n      <td>NaN</td>\n      <td>rain</td>\n      <td>NaN</td>\n      <td>NaN</td>\n      <td>2012-01</td>\n    </tr>\n    <tr>\n      <th>freq</th>\n      <td>1</td>\n      <td>NaN</td>\n      <td>NaN</td>\n      <td>NaN</td>\n      <td>NaN</td>\n      <td>641</td>\n      <td>NaN</td>\n      <td>NaN</td>\n      <td>31</td>\n    </tr>\n    <tr>\n      <th>mean</th>\n      <td>NaN</td>\n      <td>3.029432</td>\n      <td>16.439083</td>\n      <td>8.234771</td>\n      <td>3.241136</td>\n      <td>NaN</td>\n      <td>2013-12-31 00:00:00</td>\n      <td>6.522930</td>\n      <td>NaN</td>\n    </tr>\n    <tr>\n      <th>min</th>\n      <td>NaN</td>\n      <td>0.000000</td>\n      <td>-1.600000</td>\n      <td>-7.100000</td>\n      <td>0.400000</td>\n      <td>NaN</td>\n      <td>2012-01-01 00:00:00</td>\n      <td>1.000000</td>\n      <td>NaN</td>\n    </tr>\n    <tr>\n      <th>25%</th>\n      <td>NaN</td>\n      <td>0.000000</td>\n      <td>10.600000</td>\n      <td>4.400000</td>\n      <td>2.200000</td>\n      <td>NaN</td>\n      <td>2012-12-31 00:00:00</td>\n      <td>4.000000</td>\n      <td>NaN</td>\n    </tr>\n    <tr>\n      <th>50%</th>\n      <td>NaN</td>\n      <td>0.000000</td>\n      <td>15.600000</td>\n      <td>8.300000</td>\n      <td>3.000000</td>\n      <td>NaN</td>\n      <td>2013-12-31 00:00:00</td>\n      <td>7.000000</td>\n      <td>NaN</td>\n    </tr>\n    <tr>\n      <th>75%</th>\n      <td>NaN</td>\n      <td>2.800000</td>\n      <td>22.200000</td>\n      <td>12.200000</td>\n      <td>4.000000</td>\n      <td>NaN</td>\n      <td>2014-12-31 00:00:00</td>\n      <td>10.000000</td>\n      <td>NaN</td>\n    </tr>\n    <tr>\n      <th>max</th>\n      <td>NaN</td>\n      <td>55.900000</td>\n      <td>35.600000</td>\n      <td>18.300000</td>\n      <td>9.500000</td>\n      <td>NaN</td>\n      <td>2015-12-31 00:00:00</td>\n      <td>12.000000</td>\n      <td>NaN</td>\n    </tr>\n    <tr>\n      <th>std</th>\n      <td>NaN</td>\n      <td>6.680194</td>\n      <td>7.349758</td>\n      <td>5.023004</td>\n      <td>1.437825</td>\n      <td>NaN</td>\n      <td>NaN</td>\n      <td>3.449884</td>\n      <td>NaN</td>\n    </tr>\n  </tbody>\n</table>\n</div>"
     },
     "execution_count": 44,
     "metadata": {},
     "output_type": "execute_result"
    }
   ],
   "source": [
    "df.describe(include='all')"
   ],
   "metadata": {
    "collapsed": false,
    "ExecuteTime": {
     "end_time": "2025-07-27T07:52:00.235363300Z",
     "start_time": "2025-07-27T07:52:00.209426100Z"
    }
   }
  },
  {
   "cell_type": "code",
   "execution_count": 45,
   "outputs": [
    {
     "data": {
      "text/plain": "       precipitation     temp_max     temp_min         wind\ncount    1461.000000  1461.000000  1461.000000  1461.000000\nmean        3.029432    16.439083     8.234771     3.241136\nstd         6.680194     7.349758     5.023004     1.437825\nmin         0.000000    -1.600000    -7.100000     0.400000\n25%         0.000000    10.600000     4.400000     2.200000\n50%         0.000000    15.600000     8.300000     3.000000\n75%         2.800000    22.200000    12.200000     4.000000\nmax        55.900000    35.600000    18.300000     9.500000",
      "text/html": "<div>\n<style scoped>\n    .dataframe tbody tr th:only-of-type {\n        vertical-align: middle;\n    }\n\n    .dataframe tbody tr th {\n        vertical-align: top;\n    }\n\n    .dataframe thead th {\n        text-align: right;\n    }\n</style>\n<table border=\"1\" class=\"dataframe\">\n  <thead>\n    <tr style=\"text-align: right;\">\n      <th></th>\n      <th>precipitation</th>\n      <th>temp_max</th>\n      <th>temp_min</th>\n      <th>wind</th>\n    </tr>\n  </thead>\n  <tbody>\n    <tr>\n      <th>count</th>\n      <td>1461.000000</td>\n      <td>1461.000000</td>\n      <td>1461.000000</td>\n      <td>1461.000000</td>\n    </tr>\n    <tr>\n      <th>mean</th>\n      <td>3.029432</td>\n      <td>16.439083</td>\n      <td>8.234771</td>\n      <td>3.241136</td>\n    </tr>\n    <tr>\n      <th>std</th>\n      <td>6.680194</td>\n      <td>7.349758</td>\n      <td>5.023004</td>\n      <td>1.437825</td>\n    </tr>\n    <tr>\n      <th>min</th>\n      <td>0.000000</td>\n      <td>-1.600000</td>\n      <td>-7.100000</td>\n      <td>0.400000</td>\n    </tr>\n    <tr>\n      <th>25%</th>\n      <td>0.000000</td>\n      <td>10.600000</td>\n      <td>4.400000</td>\n      <td>2.200000</td>\n    </tr>\n    <tr>\n      <th>50%</th>\n      <td>0.000000</td>\n      <td>15.600000</td>\n      <td>8.300000</td>\n      <td>3.000000</td>\n    </tr>\n    <tr>\n      <th>75%</th>\n      <td>2.800000</td>\n      <td>22.200000</td>\n      <td>12.200000</td>\n      <td>4.000000</td>\n    </tr>\n    <tr>\n      <th>max</th>\n      <td>55.900000</td>\n      <td>35.600000</td>\n      <td>18.300000</td>\n      <td>9.500000</td>\n    </tr>\n  </tbody>\n</table>\n</div>"
     },
     "execution_count": 45,
     "metadata": {},
     "output_type": "execute_result"
    }
   ],
   "source": [
    "df.describe(include=['float64'])"
   ],
   "metadata": {
    "collapsed": false,
    "ExecuteTime": {
     "end_time": "2025-07-27T07:52:20.772654600Z",
     "start_time": "2025-07-27T07:52:20.741657300Z"
    }
   }
  },
  {
   "cell_type": "markdown",
   "source": [
    "# 5.常用排序方法"
   ],
   "metadata": {
    "collapsed": false
   }
  },
  {
   "cell_type": "code",
   "execution_count": 48,
   "outputs": [
    {
     "data": {
      "text/plain": "            date  precipitation  temp_max  temp_min  wind weather        ymd  \\\n953   2014-08-11            0.5      35.6      17.8   2.6    rain 2014-08-11   \n1295  2015-07-19            0.0      35.0      17.2   3.3     sun 2015-07-19   \n228   2012-08-16            0.0      34.4      18.3   2.8     sun 2012-08-16   \n1307  2015-07-31            0.0      34.4      17.8   2.6     sun 2015-07-31   \n1306  2015-07-30            0.0      34.4      17.2   3.5     sun 2015-07-30   \n\n      month        M  \n953       8  2014-08  \n1295      7  2015-07  \n228       8  2012-08  \n1307      7  2015-07  \n1306      7  2015-07  ",
      "text/html": "<div>\n<style scoped>\n    .dataframe tbody tr th:only-of-type {\n        vertical-align: middle;\n    }\n\n    .dataframe tbody tr th {\n        vertical-align: top;\n    }\n\n    .dataframe thead th {\n        text-align: right;\n    }\n</style>\n<table border=\"1\" class=\"dataframe\">\n  <thead>\n    <tr style=\"text-align: right;\">\n      <th></th>\n      <th>date</th>\n      <th>precipitation</th>\n      <th>temp_max</th>\n      <th>temp_min</th>\n      <th>wind</th>\n      <th>weather</th>\n      <th>ymd</th>\n      <th>month</th>\n      <th>M</th>\n    </tr>\n  </thead>\n  <tbody>\n    <tr>\n      <th>953</th>\n      <td>2014-08-11</td>\n      <td>0.5</td>\n      <td>35.6</td>\n      <td>17.8</td>\n      <td>2.6</td>\n      <td>rain</td>\n      <td>2014-08-11</td>\n      <td>8</td>\n      <td>2014-08</td>\n    </tr>\n    <tr>\n      <th>1295</th>\n      <td>2015-07-19</td>\n      <td>0.0</td>\n      <td>35.0</td>\n      <td>17.2</td>\n      <td>3.3</td>\n      <td>sun</td>\n      <td>2015-07-19</td>\n      <td>7</td>\n      <td>2015-07</td>\n    </tr>\n    <tr>\n      <th>228</th>\n      <td>2012-08-16</td>\n      <td>0.0</td>\n      <td>34.4</td>\n      <td>18.3</td>\n      <td>2.8</td>\n      <td>sun</td>\n      <td>2012-08-16</td>\n      <td>8</td>\n      <td>2012-08</td>\n    </tr>\n    <tr>\n      <th>1307</th>\n      <td>2015-07-31</td>\n      <td>0.0</td>\n      <td>34.4</td>\n      <td>17.8</td>\n      <td>2.6</td>\n      <td>sun</td>\n      <td>2015-07-31</td>\n      <td>7</td>\n      <td>2015-07</td>\n    </tr>\n    <tr>\n      <th>1306</th>\n      <td>2015-07-30</td>\n      <td>0.0</td>\n      <td>34.4</td>\n      <td>17.2</td>\n      <td>3.5</td>\n      <td>sun</td>\n      <td>2015-07-30</td>\n      <td>7</td>\n      <td>2015-07</td>\n    </tr>\n  </tbody>\n</table>\n</div>"
     },
     "execution_count": 48,
     "metadata": {},
     "output_type": "execute_result"
    }
   ],
   "source": [
    "df.nlargest(5,['temp_max','temp_min'])"
   ],
   "metadata": {
    "collapsed": false,
    "ExecuteTime": {
     "end_time": "2025-07-27T07:53:42.892131700Z",
     "start_time": "2025-07-27T07:53:42.864254600Z"
    }
   }
  },
  {
   "cell_type": "code",
   "execution_count": 49,
   "outputs": [
    {
     "data": {
      "text/plain": "           date  precipitation  temp_max  temp_min  wind weather        ymd  \\\n767  2014-02-06            0.0      -1.6      -6.0   4.5     sun 2014-02-06   \n18   2012-01-19           15.2      -1.1      -2.8   1.6    snow 2012-01-19   \n766  2014-02-05            0.0      -0.5      -5.5   6.6     sun 2014-02-05   \n706  2013-12-07            0.0       0.0      -7.1   3.1     sun 2013-12-07   \n17   2012-01-18           19.8       0.0      -2.8   5.0    snow 2012-01-18   \n\n     month        M  \n767      2  2014-02  \n18       1  2012-01  \n766      2  2014-02  \n706     12  2013-12  \n17       1  2012-01  ",
      "text/html": "<div>\n<style scoped>\n    .dataframe tbody tr th:only-of-type {\n        vertical-align: middle;\n    }\n\n    .dataframe tbody tr th {\n        vertical-align: top;\n    }\n\n    .dataframe thead th {\n        text-align: right;\n    }\n</style>\n<table border=\"1\" class=\"dataframe\">\n  <thead>\n    <tr style=\"text-align: right;\">\n      <th></th>\n      <th>date</th>\n      <th>precipitation</th>\n      <th>temp_max</th>\n      <th>temp_min</th>\n      <th>wind</th>\n      <th>weather</th>\n      <th>ymd</th>\n      <th>month</th>\n      <th>M</th>\n    </tr>\n  </thead>\n  <tbody>\n    <tr>\n      <th>767</th>\n      <td>2014-02-06</td>\n      <td>0.0</td>\n      <td>-1.6</td>\n      <td>-6.0</td>\n      <td>4.5</td>\n      <td>sun</td>\n      <td>2014-02-06</td>\n      <td>2</td>\n      <td>2014-02</td>\n    </tr>\n    <tr>\n      <th>18</th>\n      <td>2012-01-19</td>\n      <td>15.2</td>\n      <td>-1.1</td>\n      <td>-2.8</td>\n      <td>1.6</td>\n      <td>snow</td>\n      <td>2012-01-19</td>\n      <td>1</td>\n      <td>2012-01</td>\n    </tr>\n    <tr>\n      <th>766</th>\n      <td>2014-02-05</td>\n      <td>0.0</td>\n      <td>-0.5</td>\n      <td>-5.5</td>\n      <td>6.6</td>\n      <td>sun</td>\n      <td>2014-02-05</td>\n      <td>2</td>\n      <td>2014-02</td>\n    </tr>\n    <tr>\n      <th>706</th>\n      <td>2013-12-07</td>\n      <td>0.0</td>\n      <td>0.0</td>\n      <td>-7.1</td>\n      <td>3.1</td>\n      <td>sun</td>\n      <td>2013-12-07</td>\n      <td>12</td>\n      <td>2013-12</td>\n    </tr>\n    <tr>\n      <th>17</th>\n      <td>2012-01-18</td>\n      <td>19.8</td>\n      <td>0.0</td>\n      <td>-2.8</td>\n      <td>5.0</td>\n      <td>snow</td>\n      <td>2012-01-18</td>\n      <td>1</td>\n      <td>2012-01</td>\n    </tr>\n  </tbody>\n</table>\n</div>"
     },
     "execution_count": 49,
     "metadata": {},
     "output_type": "execute_result"
    }
   ],
   "source": [
    "df.nsmallest(5,['temp_max','temp_min'])"
   ],
   "metadata": {
    "collapsed": false,
    "ExecuteTime": {
     "end_time": "2025-07-27T07:54:01.301973600Z",
     "start_time": "2025-07-27T07:54:01.283973300Z"
    }
   }
  },
  {
   "cell_type": "code",
   "execution_count": 50,
   "outputs": [
    {
     "data": {
      "text/plain": "            date  precipitation  temp_max  temp_min  wind weather        ymd  \\\n767   2014-02-06            0.0      -1.6      -6.0   4.5     sun 2014-02-06   \n18    2012-01-19           15.2      -1.1      -2.8   1.6    snow 2012-01-19   \n766   2014-02-05            0.0      -0.5      -5.5   6.6     sun 2014-02-05   \n17    2012-01-18           19.8       0.0      -2.8   5.0    snow 2012-01-18   \n706   2013-12-07            0.0       0.0      -7.1   3.1     sun 2013-12-07   \n...          ...            ...       ...       ...   ...     ...        ...   \n1307  2015-07-31            0.0      34.4      17.8   2.6     sun 2015-07-31   \n1306  2015-07-30            0.0      34.4      17.2   3.5     sun 2015-07-30   \n912   2014-07-01            0.0      34.4      15.6   3.5     sun 2014-07-01   \n1295  2015-07-19            0.0      35.0      17.2   3.3     sun 2015-07-19   \n953   2014-08-11            0.5      35.6      17.8   2.6    rain 2014-08-11   \n\n      month        M  \n767       2  2014-02  \n18        1  2012-01  \n766       2  2014-02  \n17        1  2012-01  \n706      12  2013-12  \n...     ...      ...  \n1307      7  2015-07  \n1306      7  2015-07  \n912       7  2014-07  \n1295      7  2015-07  \n953       8  2014-08  \n\n[1461 rows x 9 columns]",
      "text/html": "<div>\n<style scoped>\n    .dataframe tbody tr th:only-of-type {\n        vertical-align: middle;\n    }\n\n    .dataframe tbody tr th {\n        vertical-align: top;\n    }\n\n    .dataframe thead th {\n        text-align: right;\n    }\n</style>\n<table border=\"1\" class=\"dataframe\">\n  <thead>\n    <tr style=\"text-align: right;\">\n      <th></th>\n      <th>date</th>\n      <th>precipitation</th>\n      <th>temp_max</th>\n      <th>temp_min</th>\n      <th>wind</th>\n      <th>weather</th>\n      <th>ymd</th>\n      <th>month</th>\n      <th>M</th>\n    </tr>\n  </thead>\n  <tbody>\n    <tr>\n      <th>767</th>\n      <td>2014-02-06</td>\n      <td>0.0</td>\n      <td>-1.6</td>\n      <td>-6.0</td>\n      <td>4.5</td>\n      <td>sun</td>\n      <td>2014-02-06</td>\n      <td>2</td>\n      <td>2014-02</td>\n    </tr>\n    <tr>\n      <th>18</th>\n      <td>2012-01-19</td>\n      <td>15.2</td>\n      <td>-1.1</td>\n      <td>-2.8</td>\n      <td>1.6</td>\n      <td>snow</td>\n      <td>2012-01-19</td>\n      <td>1</td>\n      <td>2012-01</td>\n    </tr>\n    <tr>\n      <th>766</th>\n      <td>2014-02-05</td>\n      <td>0.0</td>\n      <td>-0.5</td>\n      <td>-5.5</td>\n      <td>6.6</td>\n      <td>sun</td>\n      <td>2014-02-05</td>\n      <td>2</td>\n      <td>2014-02</td>\n    </tr>\n    <tr>\n      <th>17</th>\n      <td>2012-01-18</td>\n      <td>19.8</td>\n      <td>0.0</td>\n      <td>-2.8</td>\n      <td>5.0</td>\n      <td>snow</td>\n      <td>2012-01-18</td>\n      <td>1</td>\n      <td>2012-01</td>\n    </tr>\n    <tr>\n      <th>706</th>\n      <td>2013-12-07</td>\n      <td>0.0</td>\n      <td>0.0</td>\n      <td>-7.1</td>\n      <td>3.1</td>\n      <td>sun</td>\n      <td>2013-12-07</td>\n      <td>12</td>\n      <td>2013-12</td>\n    </tr>\n    <tr>\n      <th>...</th>\n      <td>...</td>\n      <td>...</td>\n      <td>...</td>\n      <td>...</td>\n      <td>...</td>\n      <td>...</td>\n      <td>...</td>\n      <td>...</td>\n      <td>...</td>\n    </tr>\n    <tr>\n      <th>1307</th>\n      <td>2015-07-31</td>\n      <td>0.0</td>\n      <td>34.4</td>\n      <td>17.8</td>\n      <td>2.6</td>\n      <td>sun</td>\n      <td>2015-07-31</td>\n      <td>7</td>\n      <td>2015-07</td>\n    </tr>\n    <tr>\n      <th>1306</th>\n      <td>2015-07-30</td>\n      <td>0.0</td>\n      <td>34.4</td>\n      <td>17.2</td>\n      <td>3.5</td>\n      <td>sun</td>\n      <td>2015-07-30</td>\n      <td>7</td>\n      <td>2015-07</td>\n    </tr>\n    <tr>\n      <th>912</th>\n      <td>2014-07-01</td>\n      <td>0.0</td>\n      <td>34.4</td>\n      <td>15.6</td>\n      <td>3.5</td>\n      <td>sun</td>\n      <td>2014-07-01</td>\n      <td>7</td>\n      <td>2014-07</td>\n    </tr>\n    <tr>\n      <th>1295</th>\n      <td>2015-07-19</td>\n      <td>0.0</td>\n      <td>35.0</td>\n      <td>17.2</td>\n      <td>3.3</td>\n      <td>sun</td>\n      <td>2015-07-19</td>\n      <td>7</td>\n      <td>2015-07</td>\n    </tr>\n    <tr>\n      <th>953</th>\n      <td>2014-08-11</td>\n      <td>0.5</td>\n      <td>35.6</td>\n      <td>17.8</td>\n      <td>2.6</td>\n      <td>rain</td>\n      <td>2014-08-11</td>\n      <td>8</td>\n      <td>2014-08</td>\n    </tr>\n  </tbody>\n</table>\n<p>1461 rows × 9 columns</p>\n</div>"
     },
     "execution_count": 50,
     "metadata": {},
     "output_type": "execute_result"
    }
   ],
   "source": [
    "df.sort_values(['temp_max','temp_min'],ascending=[True, False])"
   ],
   "metadata": {
    "collapsed": false,
    "ExecuteTime": {
     "end_time": "2025-07-27T07:54:40.474447500Z",
     "start_time": "2025-07-27T07:54:40.447450900Z"
    }
   }
  },
  {
   "cell_type": "code",
   "execution_count": null,
   "outputs": [],
   "source": [],
   "metadata": {
    "collapsed": false
   }
  }
 ],
 "metadata": {
  "kernelspec": {
   "display_name": "Python 3",
   "language": "python",
   "name": "python3"
  },
  "language_info": {
   "codemirror_mode": {
    "name": "ipython",
    "version": 2
   },
   "file_extension": ".py",
   "mimetype": "text/x-python",
   "name": "python",
   "nbconvert_exporter": "python",
   "pygments_lexer": "ipython2",
   "version": "2.7.6"
  }
 },
 "nbformat": 4,
 "nbformat_minor": 0
}
