{
 "cells": [
  {
   "cell_type": "code",
   "execution_count": 1,
   "metadata": {
    "collapsed": true,
    "ExecuteTime": {
     "end_time": "2025-07-27T07:20:36.679678400Z",
     "start_time": "2025-07-27T07:20:36.387985300Z"
    }
   },
   "outputs": [],
   "source": [
    "import numpy as np\n",
    "import pandas as pd"
   ]
  },
  {
   "cell_type": "code",
   "execution_count": 2,
   "outputs": [
    {
     "data": {
      "text/plain": "            date  precipitation  temp_max  temp_min  wind  weather\n0     2012-01-01            0.0      12.8       5.0   4.7  drizzle\n1     2012-01-02           10.9      10.6       2.8   4.5     rain\n2     2012-01-03            0.8      11.7       7.2   2.3     rain\n3     2012-01-04           20.3      12.2       5.6   4.7     rain\n4     2012-01-05            1.3       8.9       2.8   6.1     rain\n...          ...            ...       ...       ...   ...      ...\n1456  2015-12-27            8.6       4.4       1.7   2.9     rain\n1457  2015-12-28            1.5       5.0       1.7   1.3     rain\n1458  2015-12-29            0.0       7.2       0.6   2.6      fog\n1459  2015-12-30            0.0       5.6      -1.0   3.4      sun\n1460  2015-12-31            0.0       5.6      -2.1   3.5      sun\n\n[1461 rows x 6 columns]",
      "text/html": "<div>\n<style scoped>\n    .dataframe tbody tr th:only-of-type {\n        vertical-align: middle;\n    }\n\n    .dataframe tbody tr th {\n        vertical-align: top;\n    }\n\n    .dataframe thead th {\n        text-align: right;\n    }\n</style>\n<table border=\"1\" class=\"dataframe\">\n  <thead>\n    <tr style=\"text-align: right;\">\n      <th></th>\n      <th>date</th>\n      <th>precipitation</th>\n      <th>temp_max</th>\n      <th>temp_min</th>\n      <th>wind</th>\n      <th>weather</th>\n    </tr>\n  </thead>\n  <tbody>\n    <tr>\n      <th>0</th>\n      <td>2012-01-01</td>\n      <td>0.0</td>\n      <td>12.8</td>\n      <td>5.0</td>\n      <td>4.7</td>\n      <td>drizzle</td>\n    </tr>\n    <tr>\n      <th>1</th>\n      <td>2012-01-02</td>\n      <td>10.9</td>\n      <td>10.6</td>\n      <td>2.8</td>\n      <td>4.5</td>\n      <td>rain</td>\n    </tr>\n    <tr>\n      <th>2</th>\n      <td>2012-01-03</td>\n      <td>0.8</td>\n      <td>11.7</td>\n      <td>7.2</td>\n      <td>2.3</td>\n      <td>rain</td>\n    </tr>\n    <tr>\n      <th>3</th>\n      <td>2012-01-04</td>\n      <td>20.3</td>\n      <td>12.2</td>\n      <td>5.6</td>\n      <td>4.7</td>\n      <td>rain</td>\n    </tr>\n    <tr>\n      <th>4</th>\n      <td>2012-01-05</td>\n      <td>1.3</td>\n      <td>8.9</td>\n      <td>2.8</td>\n      <td>6.1</td>\n      <td>rain</td>\n    </tr>\n    <tr>\n      <th>...</th>\n      <td>...</td>\n      <td>...</td>\n      <td>...</td>\n      <td>...</td>\n      <td>...</td>\n      <td>...</td>\n    </tr>\n    <tr>\n      <th>1456</th>\n      <td>2015-12-27</td>\n      <td>8.6</td>\n      <td>4.4</td>\n      <td>1.7</td>\n      <td>2.9</td>\n      <td>rain</td>\n    </tr>\n    <tr>\n      <th>1457</th>\n      <td>2015-12-28</td>\n      <td>1.5</td>\n      <td>5.0</td>\n      <td>1.7</td>\n      <td>1.3</td>\n      <td>rain</td>\n    </tr>\n    <tr>\n      <th>1458</th>\n      <td>2015-12-29</td>\n      <td>0.0</td>\n      <td>7.2</td>\n      <td>0.6</td>\n      <td>2.6</td>\n      <td>fog</td>\n    </tr>\n    <tr>\n      <th>1459</th>\n      <td>2015-12-30</td>\n      <td>0.0</td>\n      <td>5.6</td>\n      <td>-1.0</td>\n      <td>3.4</td>\n      <td>sun</td>\n    </tr>\n    <tr>\n      <th>1460</th>\n      <td>2015-12-31</td>\n      <td>0.0</td>\n      <td>5.6</td>\n      <td>-2.1</td>\n      <td>3.5</td>\n      <td>sun</td>\n    </tr>\n  </tbody>\n</table>\n<p>1461 rows × 6 columns</p>\n</div>"
     },
     "execution_count": 2,
     "metadata": {},
     "output_type": "execute_result"
    }
   ],
   "source": [
    "df = pd.read_csv(\"../data/weather.csv\")\n",
    "df"
   ],
   "metadata": {
    "collapsed": false,
    "ExecuteTime": {
     "end_time": "2025-07-27T07:22:30.197655700Z",
     "start_time": "2025-07-27T07:22:30.168143400Z"
    }
   }
  },
  {
   "cell_type": "code",
   "execution_count": 8,
   "outputs": [
    {
     "data": {
      "text/plain": "(1461, 6)"
     },
     "execution_count": 8,
     "metadata": {},
     "output_type": "execute_result"
    }
   ],
   "source": [
    "# 查看df形状\n",
    "df.shape"
   ],
   "metadata": {
    "collapsed": false,
    "ExecuteTime": {
     "end_time": "2025-07-27T07:23:44.636346300Z",
     "start_time": "2025-07-27T07:23:44.626344600Z"
    }
   }
  },
  {
   "cell_type": "code",
   "execution_count": 9,
   "outputs": [
    {
     "data": {
      "text/plain": "Index(['date', 'precipitation', 'temp_max', 'temp_min', 'wind', 'weather'], dtype='object')"
     },
     "execution_count": 9,
     "metadata": {},
     "output_type": "execute_result"
    }
   ],
   "source": [
    "# 查看df的列名\n",
    "df.columns"
   ],
   "metadata": {
    "collapsed": false,
    "ExecuteTime": {
     "end_time": "2025-07-27T07:23:52.851193400Z",
     "start_time": "2025-07-27T07:23:52.834430700Z"
    }
   }
  },
  {
   "cell_type": "code",
   "execution_count": 10,
   "outputs": [
    {
     "data": {
      "text/plain": "date              object\nprecipitation    float64\ntemp_max         float64\ntemp_min         float64\nwind             float64\nweather           object\ndtype: object"
     },
     "execution_count": 10,
     "metadata": {},
     "output_type": "execute_result"
    }
   ],
   "source": [
    "# 查看df各列数据类型\n",
    "df.dtypes"
   ],
   "metadata": {
    "collapsed": false,
    "ExecuteTime": {
     "end_time": "2025-07-27T07:24:01.029326200Z",
     "start_time": "2025-07-27T07:24:01.016701Z"
    }
   }
  },
  {
   "cell_type": "code",
   "execution_count": 13,
   "outputs": [
    {
     "name": "stdout",
     "output_type": "stream",
     "text": [
      "<class 'pandas.core.frame.DataFrame'>\n",
      "RangeIndex: 1461 entries, 0 to 1460\n",
      "Data columns (total 6 columns):\n",
      " #   Column         Non-Null Count  Dtype  \n",
      "---  ------         --------------  -----  \n",
      " 0   date           1461 non-null   object \n",
      " 1   precipitation  1461 non-null   float64\n",
      " 2   temp_max       1461 non-null   float64\n",
      " 3   temp_min       1461 non-null   float64\n",
      " 4   wind           1461 non-null   float64\n",
      " 5   weather        1461 non-null   object \n",
      "dtypes: float64(4), object(2)\n",
      "memory usage: 68.6+ KB\n"
     ]
    }
   ],
   "source": [
    "# 查看df基本信息\n",
    "df.info()"
   ],
   "metadata": {
    "collapsed": false,
    "ExecuteTime": {
     "end_time": "2025-07-27T07:24:23.115702600Z",
     "start_time": "2025-07-27T07:24:23.091812300Z"
    }
   }
  },
  {
   "cell_type": "markdown",
   "source": [
    "# 1.查看部分数据"
   ],
   "metadata": {
    "collapsed": false
   }
  },
  {
   "cell_type": "markdown",
   "source": [
    "## 1.1 通过head()、tail()获取前n行或后n行"
   ],
   "metadata": {
    "collapsed": false
   }
  },
  {
   "cell_type": "code",
   "execution_count": 23,
   "outputs": [
    {
     "data": {
      "text/plain": "         date  precipitation  temp_max  temp_min  wind  weather\n0  2012-01-01            0.0      12.8       5.0   4.7  drizzle\n1  2012-01-02           10.9      10.6       2.8   4.5     rain\n2  2012-01-03            0.8      11.7       7.2   2.3     rain\n3  2012-01-04           20.3      12.2       5.6   4.7     rain\n4  2012-01-05            1.3       8.9       2.8   6.1     rain",
      "text/html": "<div>\n<style scoped>\n    .dataframe tbody tr th:only-of-type {\n        vertical-align: middle;\n    }\n\n    .dataframe tbody tr th {\n        vertical-align: top;\n    }\n\n    .dataframe thead th {\n        text-align: right;\n    }\n</style>\n<table border=\"1\" class=\"dataframe\">\n  <thead>\n    <tr style=\"text-align: right;\">\n      <th></th>\n      <th>date</th>\n      <th>precipitation</th>\n      <th>temp_max</th>\n      <th>temp_min</th>\n      <th>wind</th>\n      <th>weather</th>\n    </tr>\n  </thead>\n  <tbody>\n    <tr>\n      <th>0</th>\n      <td>2012-01-01</td>\n      <td>0.0</td>\n      <td>12.8</td>\n      <td>5.0</td>\n      <td>4.7</td>\n      <td>drizzle</td>\n    </tr>\n    <tr>\n      <th>1</th>\n      <td>2012-01-02</td>\n      <td>10.9</td>\n      <td>10.6</td>\n      <td>2.8</td>\n      <td>4.5</td>\n      <td>rain</td>\n    </tr>\n    <tr>\n      <th>2</th>\n      <td>2012-01-03</td>\n      <td>0.8</td>\n      <td>11.7</td>\n      <td>7.2</td>\n      <td>2.3</td>\n      <td>rain</td>\n    </tr>\n    <tr>\n      <th>3</th>\n      <td>2012-01-04</td>\n      <td>20.3</td>\n      <td>12.2</td>\n      <td>5.6</td>\n      <td>4.7</td>\n      <td>rain</td>\n    </tr>\n    <tr>\n      <th>4</th>\n      <td>2012-01-05</td>\n      <td>1.3</td>\n      <td>8.9</td>\n      <td>2.8</td>\n      <td>6.1</td>\n      <td>rain</td>\n    </tr>\n  </tbody>\n</table>\n</div>"
     },
     "execution_count": 23,
     "metadata": {},
     "output_type": "execute_result"
    }
   ],
   "source": [
    "df.head(5)"
   ],
   "metadata": {
    "collapsed": false,
    "ExecuteTime": {
     "end_time": "2025-07-27T07:29:04.129271800Z",
     "start_time": "2025-07-27T07:29:04.095271500Z"
    }
   }
  },
  {
   "cell_type": "code",
   "execution_count": 24,
   "outputs": [
    {
     "data": {
      "text/plain": "            date  precipitation  temp_max  temp_min  wind weather\n1456  2015-12-27            8.6       4.4       1.7   2.9    rain\n1457  2015-12-28            1.5       5.0       1.7   1.3    rain\n1458  2015-12-29            0.0       7.2       0.6   2.6     fog\n1459  2015-12-30            0.0       5.6      -1.0   3.4     sun\n1460  2015-12-31            0.0       5.6      -2.1   3.5     sun",
      "text/html": "<div>\n<style scoped>\n    .dataframe tbody tr th:only-of-type {\n        vertical-align: middle;\n    }\n\n    .dataframe tbody tr th {\n        vertical-align: top;\n    }\n\n    .dataframe thead th {\n        text-align: right;\n    }\n</style>\n<table border=\"1\" class=\"dataframe\">\n  <thead>\n    <tr style=\"text-align: right;\">\n      <th></th>\n      <th>date</th>\n      <th>precipitation</th>\n      <th>temp_max</th>\n      <th>temp_min</th>\n      <th>wind</th>\n      <th>weather</th>\n    </tr>\n  </thead>\n  <tbody>\n    <tr>\n      <th>1456</th>\n      <td>2015-12-27</td>\n      <td>8.6</td>\n      <td>4.4</td>\n      <td>1.7</td>\n      <td>2.9</td>\n      <td>rain</td>\n    </tr>\n    <tr>\n      <th>1457</th>\n      <td>2015-12-28</td>\n      <td>1.5</td>\n      <td>5.0</td>\n      <td>1.7</td>\n      <td>1.3</td>\n      <td>rain</td>\n    </tr>\n    <tr>\n      <th>1458</th>\n      <td>2015-12-29</td>\n      <td>0.0</td>\n      <td>7.2</td>\n      <td>0.6</td>\n      <td>2.6</td>\n      <td>fog</td>\n    </tr>\n    <tr>\n      <th>1459</th>\n      <td>2015-12-30</td>\n      <td>0.0</td>\n      <td>5.6</td>\n      <td>-1.0</td>\n      <td>3.4</td>\n      <td>sun</td>\n    </tr>\n    <tr>\n      <th>1460</th>\n      <td>2015-12-31</td>\n      <td>0.0</td>\n      <td>5.6</td>\n      <td>-2.1</td>\n      <td>3.5</td>\n      <td>sun</td>\n    </tr>\n  </tbody>\n</table>\n</div>"
     },
     "execution_count": 24,
     "metadata": {},
     "output_type": "execute_result"
    }
   ],
   "source": [
    "df.tail(5)"
   ],
   "metadata": {
    "collapsed": false,
    "ExecuteTime": {
     "end_time": "2025-07-27T07:29:21.709282500Z",
     "start_time": "2025-07-27T07:29:21.685784300Z"
    }
   }
  },
  {
   "cell_type": "markdown",
   "source": [
    "## 1.2 获取一列或多列数据"
   ],
   "metadata": {
    "collapsed": false
   }
  },
  {
   "cell_type": "code",
   "execution_count": 25,
   "outputs": [
    {
     "data": {
      "text/plain": "0       2012-01-01\n1       2012-01-02\n2       2012-01-03\n3       2012-01-04\n4       2012-01-05\n           ...    \n1456    2015-12-27\n1457    2015-12-28\n1458    2015-12-29\n1459    2015-12-30\n1460    2015-12-31\nName: date, Length: 1461, dtype: object"
     },
     "execution_count": 25,
     "metadata": {},
     "output_type": "execute_result"
    }
   ],
   "source": [
    "df['date']"
   ],
   "metadata": {
    "collapsed": false,
    "ExecuteTime": {
     "end_time": "2025-07-27T07:29:31.372146700Z",
     "start_time": "2025-07-27T07:29:31.354628400Z"
    }
   }
  },
  {
   "cell_type": "code",
   "execution_count": 26,
   "outputs": [
    {
     "data": {
      "text/plain": "            date  wind\n0     2012-01-01   4.7\n1     2012-01-02   4.5\n2     2012-01-03   2.3\n3     2012-01-04   4.7\n4     2012-01-05   6.1\n...          ...   ...\n1456  2015-12-27   2.9\n1457  2015-12-28   1.3\n1458  2015-12-29   2.6\n1459  2015-12-30   3.4\n1460  2015-12-31   3.5\n\n[1461 rows x 2 columns]",
      "text/html": "<div>\n<style scoped>\n    .dataframe tbody tr th:only-of-type {\n        vertical-align: middle;\n    }\n\n    .dataframe tbody tr th {\n        vertical-align: top;\n    }\n\n    .dataframe thead th {\n        text-align: right;\n    }\n</style>\n<table border=\"1\" class=\"dataframe\">\n  <thead>\n    <tr style=\"text-align: right;\">\n      <th></th>\n      <th>date</th>\n      <th>wind</th>\n    </tr>\n  </thead>\n  <tbody>\n    <tr>\n      <th>0</th>\n      <td>2012-01-01</td>\n      <td>4.7</td>\n    </tr>\n    <tr>\n      <th>1</th>\n      <td>2012-01-02</td>\n      <td>4.5</td>\n    </tr>\n    <tr>\n      <th>2</th>\n      <td>2012-01-03</td>\n      <td>2.3</td>\n    </tr>\n    <tr>\n      <th>3</th>\n      <td>2012-01-04</td>\n      <td>4.7</td>\n    </tr>\n    <tr>\n      <th>4</th>\n      <td>2012-01-05</td>\n      <td>6.1</td>\n    </tr>\n    <tr>\n      <th>...</th>\n      <td>...</td>\n      <td>...</td>\n    </tr>\n    <tr>\n      <th>1456</th>\n      <td>2015-12-27</td>\n      <td>2.9</td>\n    </tr>\n    <tr>\n      <th>1457</th>\n      <td>2015-12-28</td>\n      <td>1.3</td>\n    </tr>\n    <tr>\n      <th>1458</th>\n      <td>2015-12-29</td>\n      <td>2.6</td>\n    </tr>\n    <tr>\n      <th>1459</th>\n      <td>2015-12-30</td>\n      <td>3.4</td>\n    </tr>\n    <tr>\n      <th>1460</th>\n      <td>2015-12-31</td>\n      <td>3.5</td>\n    </tr>\n  </tbody>\n</table>\n<p>1461 rows × 2 columns</p>\n</div>"
     },
     "execution_count": 26,
     "metadata": {},
     "output_type": "execute_result"
    }
   ],
   "source": [
    "df[['date','wind']]"
   ],
   "metadata": {
    "collapsed": false,
    "ExecuteTime": {
     "end_time": "2025-07-27T07:30:15.755390200Z",
     "start_time": "2025-07-27T07:30:15.741389100Z"
    }
   }
  },
  {
   "cell_type": "markdown",
   "source": [
    "## 1.3 按行获取数据"
   ],
   "metadata": {
    "collapsed": false
   }
  },
  {
   "cell_type": "code",
   "execution_count": 27,
   "outputs": [
    {
     "data": {
      "text/plain": "date             2012-01-02\nprecipitation          10.9\ntemp_max               10.6\ntemp_min                2.8\nwind                    4.5\nweather                rain\nName: 1, dtype: object"
     },
     "execution_count": 27,
     "metadata": {},
     "output_type": "execute_result"
    }
   ],
   "source": [
    "# 获取行标签为1的数据\n",
    "df.loc[1]"
   ],
   "metadata": {
    "collapsed": false,
    "ExecuteTime": {
     "end_time": "2025-07-27T07:30:51.130095900Z",
     "start_time": "2025-07-27T07:30:51.117095300Z"
    }
   }
  },
  {
   "cell_type": "code",
   "execution_count": 28,
   "outputs": [
    {
     "data": {
      "text/plain": "           date  precipitation  temp_max  temp_min  wind weather\n1    2012-01-02           10.9      10.6       2.8   4.5    rain\n10   2012-01-11            0.0       6.1      -1.1   5.1     sun\n100  2012-04-10            0.0      17.8       8.9   3.2    rain",
      "text/html": "<div>\n<style scoped>\n    .dataframe tbody tr th:only-of-type {\n        vertical-align: middle;\n    }\n\n    .dataframe tbody tr th {\n        vertical-align: top;\n    }\n\n    .dataframe thead th {\n        text-align: right;\n    }\n</style>\n<table border=\"1\" class=\"dataframe\">\n  <thead>\n    <tr style=\"text-align: right;\">\n      <th></th>\n      <th>date</th>\n      <th>precipitation</th>\n      <th>temp_max</th>\n      <th>temp_min</th>\n      <th>wind</th>\n      <th>weather</th>\n    </tr>\n  </thead>\n  <tbody>\n    <tr>\n      <th>1</th>\n      <td>2012-01-02</td>\n      <td>10.9</td>\n      <td>10.6</td>\n      <td>2.8</td>\n      <td>4.5</td>\n      <td>rain</td>\n    </tr>\n    <tr>\n      <th>10</th>\n      <td>2012-01-11</td>\n      <td>0.0</td>\n      <td>6.1</td>\n      <td>-1.1</td>\n      <td>5.1</td>\n      <td>sun</td>\n    </tr>\n    <tr>\n      <th>100</th>\n      <td>2012-04-10</td>\n      <td>0.0</td>\n      <td>17.8</td>\n      <td>8.9</td>\n      <td>3.2</td>\n      <td>rain</td>\n    </tr>\n  </tbody>\n</table>\n</div>"
     },
     "execution_count": 28,
     "metadata": {},
     "output_type": "execute_result"
    }
   ],
   "source": [
    "# 获取行标签分别为1、10、100的数据\n",
    "df.loc[[1,10,100]]"
   ],
   "metadata": {
    "collapsed": false,
    "ExecuteTime": {
     "end_time": "2025-07-27T07:31:08.309992500Z",
     "start_time": "2025-07-27T07:31:08.285066900Z"
    }
   }
  },
  {
   "cell_type": "code",
   "execution_count": 29,
   "outputs": [
    {
     "data": {
      "text/plain": "date             2012-01-01\nprecipitation           0.0\ntemp_max               12.8\ntemp_min                5.0\nwind                    4.7\nweather             drizzle\nName: 0, dtype: object"
     },
     "execution_count": 29,
     "metadata": {},
     "output_type": "execute_result"
    }
   ],
   "source": [
    "# 获取行位置为0的数据\n",
    "df.iloc[0]"
   ],
   "metadata": {
    "collapsed": false,
    "ExecuteTime": {
     "end_time": "2025-07-27T07:31:25.168036900Z",
     "start_time": "2025-07-27T07:31:25.146429700Z"
    }
   }
  },
  {
   "cell_type": "code",
   "execution_count": 30,
   "outputs": [
    {
     "data": {
      "text/plain": "date             2015-12-31\nprecipitation           0.0\ntemp_max                5.6\ntemp_min               -2.1\nwind                    3.5\nweather                 sun\nName: 1460, dtype: object"
     },
     "execution_count": 30,
     "metadata": {},
     "output_type": "execute_result"
    }
   ],
   "source": [
    "# 获取行位置为最后一位的数据\n",
    "df.iloc[-1]"
   ],
   "metadata": {
    "collapsed": false,
    "ExecuteTime": {
     "end_time": "2025-07-27T07:31:45.860444700Z",
     "start_time": "2025-07-27T07:31:45.837639600Z"
    }
   }
  },
  {
   "cell_type": "markdown",
   "source": [
    "## 1.4 获取指定行与列的数据"
   ],
   "metadata": {
    "collapsed": false
   }
  },
  {
   "cell_type": "code",
   "execution_count": 31,
   "outputs": [
    {
     "data": {
      "text/plain": "np.float64(10.9)"
     },
     "execution_count": 31,
     "metadata": {},
     "output_type": "execute_result"
    }
   ],
   "source": [
    "# 获取行标签为1，列标签为precipitation的数据\n",
    "df.loc[1,'precipitation']"
   ],
   "metadata": {
    "collapsed": false,
    "ExecuteTime": {
     "end_time": "2025-07-27T07:32:53.082977800Z",
     "start_time": "2025-07-27T07:32:53.076728900Z"
    }
   }
  },
  {
   "cell_type": "code",
   "execution_count": 32,
   "outputs": [
    {
     "data": {
      "text/plain": "0        0.0\n1       10.9\n2        0.8\n3       20.3\n4        1.3\n        ... \n1456     8.6\n1457     1.5\n1458     0.0\n1459     0.0\n1460     0.0\nName: precipitation, Length: 1461, dtype: float64"
     },
     "execution_count": 32,
     "metadata": {},
     "output_type": "execute_result"
    }
   ],
   "source": [
    "# 获取所有行，列标签为precipitation的数据\n",
    "df.loc[:,'precipitation']"
   ],
   "metadata": {
    "collapsed": false,
    "ExecuteTime": {
     "end_time": "2025-07-27T07:33:07.886465600Z",
     "start_time": "2025-07-27T07:33:07.863355500Z"
    }
   }
  },
  {
   "cell_type": "code",
   "execution_count": 33,
   "outputs": [
    {
     "data": {
      "text/plain": "      temp_min  weather  weather\n0          5.0  drizzle  drizzle\n1          2.8     rain     rain\n2          7.2     rain     rain\n3          5.6     rain     rain\n4          2.8     rain     rain\n...        ...      ...      ...\n1456       1.7     rain     rain\n1457       1.7     rain     rain\n1458       0.6      fog      fog\n1459      -1.0      sun      sun\n1460      -2.1      sun      sun\n\n[1461 rows x 3 columns]",
      "text/html": "<div>\n<style scoped>\n    .dataframe tbody tr th:only-of-type {\n        vertical-align: middle;\n    }\n\n    .dataframe tbody tr th {\n        vertical-align: top;\n    }\n\n    .dataframe thead th {\n        text-align: right;\n    }\n</style>\n<table border=\"1\" class=\"dataframe\">\n  <thead>\n    <tr style=\"text-align: right;\">\n      <th></th>\n      <th>temp_min</th>\n      <th>weather</th>\n      <th>weather</th>\n    </tr>\n  </thead>\n  <tbody>\n    <tr>\n      <th>0</th>\n      <td>5.0</td>\n      <td>drizzle</td>\n      <td>drizzle</td>\n    </tr>\n    <tr>\n      <th>1</th>\n      <td>2.8</td>\n      <td>rain</td>\n      <td>rain</td>\n    </tr>\n    <tr>\n      <th>2</th>\n      <td>7.2</td>\n      <td>rain</td>\n      <td>rain</td>\n    </tr>\n    <tr>\n      <th>3</th>\n      <td>5.6</td>\n      <td>rain</td>\n      <td>rain</td>\n    </tr>\n    <tr>\n      <th>4</th>\n      <td>2.8</td>\n      <td>rain</td>\n      <td>rain</td>\n    </tr>\n    <tr>\n      <th>...</th>\n      <td>...</td>\n      <td>...</td>\n      <td>...</td>\n    </tr>\n    <tr>\n      <th>1456</th>\n      <td>1.7</td>\n      <td>rain</td>\n      <td>rain</td>\n    </tr>\n    <tr>\n      <th>1457</th>\n      <td>1.7</td>\n      <td>rain</td>\n      <td>rain</td>\n    </tr>\n    <tr>\n      <th>1458</th>\n      <td>0.6</td>\n      <td>fog</td>\n      <td>fog</td>\n    </tr>\n    <tr>\n      <th>1459</th>\n      <td>-1.0</td>\n      <td>sun</td>\n      <td>sun</td>\n    </tr>\n    <tr>\n      <th>1460</th>\n      <td>-2.1</td>\n      <td>sun</td>\n      <td>sun</td>\n    </tr>\n  </tbody>\n</table>\n<p>1461 rows × 3 columns</p>\n</div>"
     },
     "execution_count": 33,
     "metadata": {},
     "output_type": "execute_result"
    }
   ],
   "source": [
    "# 获取所有行，列位置为3，5，最后一位的数据\n",
    "df.iloc[:,[3,5,-1]]"
   ],
   "metadata": {
    "collapsed": false,
    "ExecuteTime": {
     "end_time": "2025-07-27T07:33:58.065040700Z",
     "start_time": "2025-07-27T07:33:58.051723600Z"
    }
   }
  },
  {
   "cell_type": "code",
   "execution_count": 34,
   "outputs": [
    {
     "data": {
      "text/plain": "   temp_max  temp_min  wind  weather\n0      12.8       5.0   4.7  drizzle\n1      10.6       2.8   4.5     rain\n2      11.7       7.2   2.3     rain\n3      12.2       5.6   4.7     rain\n4       8.9       2.8   6.1     rain\n5       4.4       2.2   2.2     rain\n6       7.2       2.8   2.3     rain\n7      10.0       2.8   2.0      sun\n8       9.4       5.0   3.4     rain\n9       6.1       0.6   3.4     rain",
      "text/html": "<div>\n<style scoped>\n    .dataframe tbody tr th:only-of-type {\n        vertical-align: middle;\n    }\n\n    .dataframe tbody tr th {\n        vertical-align: top;\n    }\n\n    .dataframe thead th {\n        text-align: right;\n    }\n</style>\n<table border=\"1\" class=\"dataframe\">\n  <thead>\n    <tr style=\"text-align: right;\">\n      <th></th>\n      <th>temp_max</th>\n      <th>temp_min</th>\n      <th>wind</th>\n      <th>weather</th>\n    </tr>\n  </thead>\n  <tbody>\n    <tr>\n      <th>0</th>\n      <td>12.8</td>\n      <td>5.0</td>\n      <td>4.7</td>\n      <td>drizzle</td>\n    </tr>\n    <tr>\n      <th>1</th>\n      <td>10.6</td>\n      <td>2.8</td>\n      <td>4.5</td>\n      <td>rain</td>\n    </tr>\n    <tr>\n      <th>2</th>\n      <td>11.7</td>\n      <td>7.2</td>\n      <td>2.3</td>\n      <td>rain</td>\n    </tr>\n    <tr>\n      <th>3</th>\n      <td>12.2</td>\n      <td>5.6</td>\n      <td>4.7</td>\n      <td>rain</td>\n    </tr>\n    <tr>\n      <th>4</th>\n      <td>8.9</td>\n      <td>2.8</td>\n      <td>6.1</td>\n      <td>rain</td>\n    </tr>\n    <tr>\n      <th>5</th>\n      <td>4.4</td>\n      <td>2.2</td>\n      <td>2.2</td>\n      <td>rain</td>\n    </tr>\n    <tr>\n      <th>6</th>\n      <td>7.2</td>\n      <td>2.8</td>\n      <td>2.3</td>\n      <td>rain</td>\n    </tr>\n    <tr>\n      <th>7</th>\n      <td>10.0</td>\n      <td>2.8</td>\n      <td>2.0</td>\n      <td>sun</td>\n    </tr>\n    <tr>\n      <th>8</th>\n      <td>9.4</td>\n      <td>5.0</td>\n      <td>3.4</td>\n      <td>rain</td>\n    </tr>\n    <tr>\n      <th>9</th>\n      <td>6.1</td>\n      <td>0.6</td>\n      <td>3.4</td>\n      <td>rain</td>\n    </tr>\n  </tbody>\n</table>\n</div>"
     },
     "execution_count": 34,
     "metadata": {},
     "output_type": "execute_result"
    }
   ],
   "source": [
    "# 获取前10行，列位置为2、3、4、5的数据\n",
    "df.iloc[:10, 2:6]"
   ],
   "metadata": {
    "collapsed": false,
    "ExecuteTime": {
     "end_time": "2025-07-27T07:34:12.962166500Z",
     "start_time": "2025-07-27T07:34:12.939153600Z"
    }
   }
  },
  {
   "cell_type": "code",
   "execution_count": 35,
   "outputs": [
    {
     "data": {
      "text/plain": "          date  precipitation  temp_max  temp_min\n0   2012-01-01            0.0      12.8       5.0\n1   2012-01-02           10.9      10.6       2.8\n2   2012-01-03            0.8      11.7       7.2\n3   2012-01-04           20.3      12.2       5.6\n4   2012-01-05            1.3       8.9       2.8\n5   2012-01-06            2.5       4.4       2.2\n6   2012-01-07            0.0       7.2       2.8\n7   2012-01-08            0.0      10.0       2.8\n8   2012-01-09            4.3       9.4       5.0\n9   2012-01-10            1.0       6.1       0.6\n10  2012-01-11            0.0       6.1      -1.1",
      "text/html": "<div>\n<style scoped>\n    .dataframe tbody tr th:only-of-type {\n        vertical-align: middle;\n    }\n\n    .dataframe tbody tr th {\n        vertical-align: top;\n    }\n\n    .dataframe thead th {\n        text-align: right;\n    }\n</style>\n<table border=\"1\" class=\"dataframe\">\n  <thead>\n    <tr style=\"text-align: right;\">\n      <th></th>\n      <th>date</th>\n      <th>precipitation</th>\n      <th>temp_max</th>\n      <th>temp_min</th>\n    </tr>\n  </thead>\n  <tbody>\n    <tr>\n      <th>0</th>\n      <td>2012-01-01</td>\n      <td>0.0</td>\n      <td>12.8</td>\n      <td>5.0</td>\n    </tr>\n    <tr>\n      <th>1</th>\n      <td>2012-01-02</td>\n      <td>10.9</td>\n      <td>10.6</td>\n      <td>2.8</td>\n    </tr>\n    <tr>\n      <th>2</th>\n      <td>2012-01-03</td>\n      <td>0.8</td>\n      <td>11.7</td>\n      <td>7.2</td>\n    </tr>\n    <tr>\n      <th>3</th>\n      <td>2012-01-04</td>\n      <td>20.3</td>\n      <td>12.2</td>\n      <td>5.6</td>\n    </tr>\n    <tr>\n      <th>4</th>\n      <td>2012-01-05</td>\n      <td>1.3</td>\n      <td>8.9</td>\n      <td>2.8</td>\n    </tr>\n    <tr>\n      <th>5</th>\n      <td>2012-01-06</td>\n      <td>2.5</td>\n      <td>4.4</td>\n      <td>2.2</td>\n    </tr>\n    <tr>\n      <th>6</th>\n      <td>2012-01-07</td>\n      <td>0.0</td>\n      <td>7.2</td>\n      <td>2.8</td>\n    </tr>\n    <tr>\n      <th>7</th>\n      <td>2012-01-08</td>\n      <td>0.0</td>\n      <td>10.0</td>\n      <td>2.8</td>\n    </tr>\n    <tr>\n      <th>8</th>\n      <td>2012-01-09</td>\n      <td>4.3</td>\n      <td>9.4</td>\n      <td>5.0</td>\n    </tr>\n    <tr>\n      <th>9</th>\n      <td>2012-01-10</td>\n      <td>1.0</td>\n      <td>6.1</td>\n      <td>0.6</td>\n    </tr>\n    <tr>\n      <th>10</th>\n      <td>2012-01-11</td>\n      <td>0.0</td>\n      <td>6.1</td>\n      <td>-1.1</td>\n    </tr>\n  </tbody>\n</table>\n</div>"
     },
     "execution_count": 35,
     "metadata": {},
     "output_type": "execute_result"
    }
   ],
   "source": [
    "# 通过行列标签获取数据\n",
    "df.loc[:10, [\"date\", \"precipitation\", \"temp_max\", \"temp_min\"]]"
   ],
   "metadata": {
    "collapsed": false,
    "ExecuteTime": {
     "end_time": "2025-07-27T07:34:23.842458100Z",
     "start_time": "2025-07-27T07:34:23.827454700Z"
    }
   }
  },
  {
   "cell_type": "code",
   "execution_count": null,
   "outputs": [],
   "source": [],
   "metadata": {
    "collapsed": false
   }
  }
 ],
 "metadata": {
  "kernelspec": {
   "display_name": "Python 3",
   "language": "python",
   "name": "python3"
  },
  "language_info": {
   "codemirror_mode": {
    "name": "ipython",
    "version": 2
   },
   "file_extension": ".py",
   "mimetype": "text/x-python",
   "name": "python",
   "nbconvert_exporter": "python",
   "pygments_lexer": "ipython2",
   "version": "2.7.6"
  }
 },
 "nbformat": 4,
 "nbformat_minor": 0
}
