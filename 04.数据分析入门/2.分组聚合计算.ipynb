{
 "cells": [
  {
   "cell_type": "code",
   "execution_count": 1,
   "metadata": {
    "collapsed": true,
    "ExecuteTime": {
     "end_time": "2025-07-27T07:36:24.410694400Z",
     "start_time": "2025-07-27T07:36:24.091151300Z"
    }
   },
   "outputs": [
    {
     "data": {
      "text/plain": "            date  precipitation  temp_max  temp_min  wind  weather\n0     2012-01-01            0.0      12.8       5.0   4.7  drizzle\n1     2012-01-02           10.9      10.6       2.8   4.5     rain\n2     2012-01-03            0.8      11.7       7.2   2.3     rain\n3     2012-01-04           20.3      12.2       5.6   4.7     rain\n4     2012-01-05            1.3       8.9       2.8   6.1     rain\n...          ...            ...       ...       ...   ...      ...\n1456  2015-12-27            8.6       4.4       1.7   2.9     rain\n1457  2015-12-28            1.5       5.0       1.7   1.3     rain\n1458  2015-12-29            0.0       7.2       0.6   2.6      fog\n1459  2015-12-30            0.0       5.6      -1.0   3.4      sun\n1460  2015-12-31            0.0       5.6      -2.1   3.5      sun\n\n[1461 rows x 6 columns]",
      "text/html": "<div>\n<style scoped>\n    .dataframe tbody tr th:only-of-type {\n        vertical-align: middle;\n    }\n\n    .dataframe tbody tr th {\n        vertical-align: top;\n    }\n\n    .dataframe thead th {\n        text-align: right;\n    }\n</style>\n<table border=\"1\" class=\"dataframe\">\n  <thead>\n    <tr style=\"text-align: right;\">\n      <th></th>\n      <th>date</th>\n      <th>precipitation</th>\n      <th>temp_max</th>\n      <th>temp_min</th>\n      <th>wind</th>\n      <th>weather</th>\n    </tr>\n  </thead>\n  <tbody>\n    <tr>\n      <th>0</th>\n      <td>2012-01-01</td>\n      <td>0.0</td>\n      <td>12.8</td>\n      <td>5.0</td>\n      <td>4.7</td>\n      <td>drizzle</td>\n    </tr>\n    <tr>\n      <th>1</th>\n      <td>2012-01-02</td>\n      <td>10.9</td>\n      <td>10.6</td>\n      <td>2.8</td>\n      <td>4.5</td>\n      <td>rain</td>\n    </tr>\n    <tr>\n      <th>2</th>\n      <td>2012-01-03</td>\n      <td>0.8</td>\n      <td>11.7</td>\n      <td>7.2</td>\n      <td>2.3</td>\n      <td>rain</td>\n    </tr>\n    <tr>\n      <th>3</th>\n      <td>2012-01-04</td>\n      <td>20.3</td>\n      <td>12.2</td>\n      <td>5.6</td>\n      <td>4.7</td>\n      <td>rain</td>\n    </tr>\n    <tr>\n      <th>4</th>\n      <td>2012-01-05</td>\n      <td>1.3</td>\n      <td>8.9</td>\n      <td>2.8</td>\n      <td>6.1</td>\n      <td>rain</td>\n    </tr>\n    <tr>\n      <th>...</th>\n      <td>...</td>\n      <td>...</td>\n      <td>...</td>\n      <td>...</td>\n      <td>...</td>\n      <td>...</td>\n    </tr>\n    <tr>\n      <th>1456</th>\n      <td>2015-12-27</td>\n      <td>8.6</td>\n      <td>4.4</td>\n      <td>1.7</td>\n      <td>2.9</td>\n      <td>rain</td>\n    </tr>\n    <tr>\n      <th>1457</th>\n      <td>2015-12-28</td>\n      <td>1.5</td>\n      <td>5.0</td>\n      <td>1.7</td>\n      <td>1.3</td>\n      <td>rain</td>\n    </tr>\n    <tr>\n      <th>1458</th>\n      <td>2015-12-29</td>\n      <td>0.0</td>\n      <td>7.2</td>\n      <td>0.6</td>\n      <td>2.6</td>\n      <td>fog</td>\n    </tr>\n    <tr>\n      <th>1459</th>\n      <td>2015-12-30</td>\n      <td>0.0</td>\n      <td>5.6</td>\n      <td>-1.0</td>\n      <td>3.4</td>\n      <td>sun</td>\n    </tr>\n    <tr>\n      <th>1460</th>\n      <td>2015-12-31</td>\n      <td>0.0</td>\n      <td>5.6</td>\n      <td>-2.1</td>\n      <td>3.5</td>\n      <td>sun</td>\n    </tr>\n  </tbody>\n</table>\n<p>1461 rows × 6 columns</p>\n</div>"
     },
     "execution_count": 1,
     "metadata": {},
     "output_type": "execute_result"
    }
   ],
   "source": [
    "import numpy as np\n",
    "import pandas as pd\n",
    "\n",
    "df = pd.read_csv(\"../data/weather.csv\")\n",
    "df"
   ]
  },
  {
   "cell_type": "markdown",
   "source": [
    "将数据按月分组，并统计最大温度和最小温度的平均值"
   ],
   "metadata": {
    "collapsed": false
   }
  },
  {
   "cell_type": "code",
   "execution_count": 4,
   "outputs": [
    {
     "data": {
      "text/plain": "            date  precipitation  temp_max  temp_min  wind  weather        ymd  \\\n0     2012-01-01            0.0      12.8       5.0   4.7  drizzle 2012-01-01   \n1     2012-01-02           10.9      10.6       2.8   4.5     rain 2012-01-02   \n2     2012-01-03            0.8      11.7       7.2   2.3     rain 2012-01-03   \n3     2012-01-04           20.3      12.2       5.6   4.7     rain 2012-01-04   \n4     2012-01-05            1.3       8.9       2.8   6.1     rain 2012-01-05   \n...          ...            ...       ...       ...   ...      ...        ...   \n1456  2015-12-27            8.6       4.4       1.7   2.9     rain 2015-12-27   \n1457  2015-12-28            1.5       5.0       1.7   1.3     rain 2015-12-28   \n1458  2015-12-29            0.0       7.2       0.6   2.6      fog 2015-12-29   \n1459  2015-12-30            0.0       5.6      -1.0   3.4      sun 2015-12-30   \n1460  2015-12-31            0.0       5.6      -2.1   3.5      sun 2015-12-31   \n\n      month  \n0         1  \n1         1  \n2         1  \n3         1  \n4         1  \n...     ...  \n1456     12  \n1457     12  \n1458     12  \n1459     12  \n1460     12  \n\n[1461 rows x 8 columns]",
      "text/html": "<div>\n<style scoped>\n    .dataframe tbody tr th:only-of-type {\n        vertical-align: middle;\n    }\n\n    .dataframe tbody tr th {\n        vertical-align: top;\n    }\n\n    .dataframe thead th {\n        text-align: right;\n    }\n</style>\n<table border=\"1\" class=\"dataframe\">\n  <thead>\n    <tr style=\"text-align: right;\">\n      <th></th>\n      <th>date</th>\n      <th>precipitation</th>\n      <th>temp_max</th>\n      <th>temp_min</th>\n      <th>wind</th>\n      <th>weather</th>\n      <th>ymd</th>\n      <th>month</th>\n    </tr>\n  </thead>\n  <tbody>\n    <tr>\n      <th>0</th>\n      <td>2012-01-01</td>\n      <td>0.0</td>\n      <td>12.8</td>\n      <td>5.0</td>\n      <td>4.7</td>\n      <td>drizzle</td>\n      <td>2012-01-01</td>\n      <td>1</td>\n    </tr>\n    <tr>\n      <th>1</th>\n      <td>2012-01-02</td>\n      <td>10.9</td>\n      <td>10.6</td>\n      <td>2.8</td>\n      <td>4.5</td>\n      <td>rain</td>\n      <td>2012-01-02</td>\n      <td>1</td>\n    </tr>\n    <tr>\n      <th>2</th>\n      <td>2012-01-03</td>\n      <td>0.8</td>\n      <td>11.7</td>\n      <td>7.2</td>\n      <td>2.3</td>\n      <td>rain</td>\n      <td>2012-01-03</td>\n      <td>1</td>\n    </tr>\n    <tr>\n      <th>3</th>\n      <td>2012-01-04</td>\n      <td>20.3</td>\n      <td>12.2</td>\n      <td>5.6</td>\n      <td>4.7</td>\n      <td>rain</td>\n      <td>2012-01-04</td>\n      <td>1</td>\n    </tr>\n    <tr>\n      <th>4</th>\n      <td>2012-01-05</td>\n      <td>1.3</td>\n      <td>8.9</td>\n      <td>2.8</td>\n      <td>6.1</td>\n      <td>rain</td>\n      <td>2012-01-05</td>\n      <td>1</td>\n    </tr>\n    <tr>\n      <th>...</th>\n      <td>...</td>\n      <td>...</td>\n      <td>...</td>\n      <td>...</td>\n      <td>...</td>\n      <td>...</td>\n      <td>...</td>\n      <td>...</td>\n    </tr>\n    <tr>\n      <th>1456</th>\n      <td>2015-12-27</td>\n      <td>8.6</td>\n      <td>4.4</td>\n      <td>1.7</td>\n      <td>2.9</td>\n      <td>rain</td>\n      <td>2015-12-27</td>\n      <td>12</td>\n    </tr>\n    <tr>\n      <th>1457</th>\n      <td>2015-12-28</td>\n      <td>1.5</td>\n      <td>5.0</td>\n      <td>1.7</td>\n      <td>1.3</td>\n      <td>rain</td>\n      <td>2015-12-28</td>\n      <td>12</td>\n    </tr>\n    <tr>\n      <th>1458</th>\n      <td>2015-12-29</td>\n      <td>0.0</td>\n      <td>7.2</td>\n      <td>0.6</td>\n      <td>2.6</td>\n      <td>fog</td>\n      <td>2015-12-29</td>\n      <td>12</td>\n    </tr>\n    <tr>\n      <th>1459</th>\n      <td>2015-12-30</td>\n      <td>0.0</td>\n      <td>5.6</td>\n      <td>-1.0</td>\n      <td>3.4</td>\n      <td>sun</td>\n      <td>2015-12-30</td>\n      <td>12</td>\n    </tr>\n    <tr>\n      <th>1460</th>\n      <td>2015-12-31</td>\n      <td>0.0</td>\n      <td>5.6</td>\n      <td>-2.1</td>\n      <td>3.5</td>\n      <td>sun</td>\n      <td>2015-12-31</td>\n      <td>12</td>\n    </tr>\n  </tbody>\n</table>\n<p>1461 rows × 8 columns</p>\n</div>"
     },
     "execution_count": 4,
     "metadata": {},
     "output_type": "execute_result"
    }
   ],
   "source": [
    "df['ymd'] = pd.to_datetime(df['date'])\n",
    "df['month'] = df['ymd'].dt.month\n",
    "df"
   ],
   "metadata": {
    "collapsed": false,
    "ExecuteTime": {
     "end_time": "2025-07-27T07:39:49.278000700Z",
     "start_time": "2025-07-27T07:39:49.266000100Z"
    }
   }
  },
  {
   "cell_type": "code",
   "execution_count": 5,
   "outputs": [
    {
     "data": {
      "text/plain": "month\n1      8.229032\n2      9.860177\n3     12.387097\n4     15.020000\n5     19.295968\n6     22.400000\n7     25.998387\n8     26.112097\n9     21.924167\n10    16.389516\n11    11.023333\n12     8.194355\nName: temp_max, dtype: float64"
     },
     "execution_count": 5,
     "metadata": {},
     "output_type": "execute_result"
    }
   ],
   "source": [
    "df.groupby('month')['temp_max'].mean()"
   ],
   "metadata": {
    "collapsed": false,
    "ExecuteTime": {
     "end_time": "2025-07-27T07:40:46.813927Z",
     "start_time": "2025-07-27T07:40:46.794080400Z"
    }
   }
  },
  {
   "cell_type": "code",
   "execution_count": 6,
   "outputs": [
    {
     "data": {
      "text/plain": "month\n1      2.696774\n2      4.054867\n3      4.858871\n4      6.362500\n5      9.614516\n6     12.244167\n7     14.197581\n8     14.769355\n9     12.358333\n10     9.350806\n11     4.701667\n12     3.325000\nName: temp_min, dtype: float64"
     },
     "execution_count": 6,
     "metadata": {},
     "output_type": "execute_result"
    }
   ],
   "source": [
    "df.groupby('month')['temp_min'].mean()"
   ],
   "metadata": {
    "collapsed": false,
    "ExecuteTime": {
     "end_time": "2025-07-27T07:40:57.227164200Z",
     "start_time": "2025-07-27T07:40:57.213165600Z"
    }
   }
  },
  {
   "cell_type": "code",
   "execution_count": 9,
   "outputs": [
    {
     "data": {
      "text/plain": "            date  precipitation  temp_max  temp_min  wind  weather        ymd  \\\n0     2012-01-01            0.0      12.8       5.0   4.7  drizzle 2012-01-01   \n1     2012-01-02           10.9      10.6       2.8   4.5     rain 2012-01-02   \n2     2012-01-03            0.8      11.7       7.2   2.3     rain 2012-01-03   \n3     2012-01-04           20.3      12.2       5.6   4.7     rain 2012-01-04   \n4     2012-01-05            1.3       8.9       2.8   6.1     rain 2012-01-05   \n...          ...            ...       ...       ...   ...      ...        ...   \n1456  2015-12-27            8.6       4.4       1.7   2.9     rain 2015-12-27   \n1457  2015-12-28            1.5       5.0       1.7   1.3     rain 2015-12-28   \n1458  2015-12-29            0.0       7.2       0.6   2.6      fog 2015-12-29   \n1459  2015-12-30            0.0       5.6      -1.0   3.4      sun 2015-12-30   \n1460  2015-12-31            0.0       5.6      -2.1   3.5      sun 2015-12-31   \n\n      month        M  \n0         1  2012-01  \n1         1  2012-01  \n2         1  2012-01  \n3         1  2012-01  \n4         1  2012-01  \n...     ...      ...  \n1456     12  2015-12  \n1457     12  2015-12  \n1458     12  2015-12  \n1459     12  2015-12  \n1460     12  2015-12  \n\n[1461 rows x 9 columns]",
      "text/html": "<div>\n<style scoped>\n    .dataframe tbody tr th:only-of-type {\n        vertical-align: middle;\n    }\n\n    .dataframe tbody tr th {\n        vertical-align: top;\n    }\n\n    .dataframe thead th {\n        text-align: right;\n    }\n</style>\n<table border=\"1\" class=\"dataframe\">\n  <thead>\n    <tr style=\"text-align: right;\">\n      <th></th>\n      <th>date</th>\n      <th>precipitation</th>\n      <th>temp_max</th>\n      <th>temp_min</th>\n      <th>wind</th>\n      <th>weather</th>\n      <th>ymd</th>\n      <th>month</th>\n      <th>M</th>\n    </tr>\n  </thead>\n  <tbody>\n    <tr>\n      <th>0</th>\n      <td>2012-01-01</td>\n      <td>0.0</td>\n      <td>12.8</td>\n      <td>5.0</td>\n      <td>4.7</td>\n      <td>drizzle</td>\n      <td>2012-01-01</td>\n      <td>1</td>\n      <td>2012-01</td>\n    </tr>\n    <tr>\n      <th>1</th>\n      <td>2012-01-02</td>\n      <td>10.9</td>\n      <td>10.6</td>\n      <td>2.8</td>\n      <td>4.5</td>\n      <td>rain</td>\n      <td>2012-01-02</td>\n      <td>1</td>\n      <td>2012-01</td>\n    </tr>\n    <tr>\n      <th>2</th>\n      <td>2012-01-03</td>\n      <td>0.8</td>\n      <td>11.7</td>\n      <td>7.2</td>\n      <td>2.3</td>\n      <td>rain</td>\n      <td>2012-01-03</td>\n      <td>1</td>\n      <td>2012-01</td>\n    </tr>\n    <tr>\n      <th>3</th>\n      <td>2012-01-04</td>\n      <td>20.3</td>\n      <td>12.2</td>\n      <td>5.6</td>\n      <td>4.7</td>\n      <td>rain</td>\n      <td>2012-01-04</td>\n      <td>1</td>\n      <td>2012-01</td>\n    </tr>\n    <tr>\n      <th>4</th>\n      <td>2012-01-05</td>\n      <td>1.3</td>\n      <td>8.9</td>\n      <td>2.8</td>\n      <td>6.1</td>\n      <td>rain</td>\n      <td>2012-01-05</td>\n      <td>1</td>\n      <td>2012-01</td>\n    </tr>\n    <tr>\n      <th>...</th>\n      <td>...</td>\n      <td>...</td>\n      <td>...</td>\n      <td>...</td>\n      <td>...</td>\n      <td>...</td>\n      <td>...</td>\n      <td>...</td>\n      <td>...</td>\n    </tr>\n    <tr>\n      <th>1456</th>\n      <td>2015-12-27</td>\n      <td>8.6</td>\n      <td>4.4</td>\n      <td>1.7</td>\n      <td>2.9</td>\n      <td>rain</td>\n      <td>2015-12-27</td>\n      <td>12</td>\n      <td>2015-12</td>\n    </tr>\n    <tr>\n      <th>1457</th>\n      <td>2015-12-28</td>\n      <td>1.5</td>\n      <td>5.0</td>\n      <td>1.7</td>\n      <td>1.3</td>\n      <td>rain</td>\n      <td>2015-12-28</td>\n      <td>12</td>\n      <td>2015-12</td>\n    </tr>\n    <tr>\n      <th>1458</th>\n      <td>2015-12-29</td>\n      <td>0.0</td>\n      <td>7.2</td>\n      <td>0.6</td>\n      <td>2.6</td>\n      <td>fog</td>\n      <td>2015-12-29</td>\n      <td>12</td>\n      <td>2015-12</td>\n    </tr>\n    <tr>\n      <th>1459</th>\n      <td>2015-12-30</td>\n      <td>0.0</td>\n      <td>5.6</td>\n      <td>-1.0</td>\n      <td>3.4</td>\n      <td>sun</td>\n      <td>2015-12-30</td>\n      <td>12</td>\n      <td>2015-12</td>\n    </tr>\n    <tr>\n      <th>1460</th>\n      <td>2015-12-31</td>\n      <td>0.0</td>\n      <td>5.6</td>\n      <td>-2.1</td>\n      <td>3.5</td>\n      <td>sun</td>\n      <td>2015-12-31</td>\n      <td>12</td>\n      <td>2015-12</td>\n    </tr>\n  </tbody>\n</table>\n<p>1461 rows × 9 columns</p>\n</div>"
     },
     "execution_count": 9,
     "metadata": {},
     "output_type": "execute_result"
    }
   ],
   "source": [
    "df['M'] = df['ymd'].dt.to_period('M')\n",
    "df"
   ],
   "metadata": {
    "collapsed": false,
    "ExecuteTime": {
     "end_time": "2025-07-27T07:42:48.498405200Z",
     "start_time": "2025-07-27T07:42:48.467428Z"
    }
   }
  },
  {
   "cell_type": "code",
   "execution_count": 10,
   "outputs": [
    {
     "data": {
      "text/plain": "M\n2012-01     1.541935\n2012-02     3.203448\n2012-03     2.838710\n2012-04     5.993333\n2012-05     8.190323\n2012-06    10.480000\n2012-07    12.932258\n2012-08    14.009677\n2012-09    11.243333\n2012-10     8.380645\n2012-11     5.226667\n2012-12     3.293548\n2013-01     0.796774\n2013-02     4.325000\n2013-03     4.977419\n2013-04     6.696667\n2013-05     9.922581\n2013-06    13.163333\n2013-07    13.932258\n2013-08    15.480645\n2013-09    13.590000\n2013-10     7.638710\n2013-11     5.590000\n2013-12     1.570968\n2014-01     4.096774\n2014-02     2.635714\n2014-03     5.425806\n2014-04     6.730000\n2014-05    10.216129\n2014-06    11.756667\n2014-07    14.425806\n2014-08    14.893548\n2014-09    13.233333\n2014-10    10.883871\n2014-11     4.510000\n2014-12     4.609677\n2015-01     4.351613\n2015-02     6.085714\n2015-03     6.193548\n2015-04     6.030000\n2015-05    10.129032\n2015-06    13.576667\n2015-07    15.500000\n2015-08    14.693548\n2015-09    11.366667\n2015-10    10.500000\n2015-11     3.480000\n2015-12     3.825806\nFreq: M, Name: temp_min, dtype: float64"
     },
     "execution_count": 10,
     "metadata": {},
     "output_type": "execute_result"
    }
   ],
   "source": [
    "df.groupby('M')['temp_min'].mean()"
   ],
   "metadata": {
    "collapsed": false,
    "ExecuteTime": {
     "end_time": "2025-07-27T07:42:58.025548700Z",
     "start_time": "2025-07-27T07:42:58.009941200Z"
    }
   }
  },
  {
   "cell_type": "code",
   "execution_count": 11,
   "outputs": [
    {
     "data": {
      "text/plain": "<pandas.core.groupby.generic.DataFrameGroupBy object at 0x000001ED33FE02E0>"
     },
     "execution_count": 11,
     "metadata": {},
     "output_type": "execute_result"
    }
   ],
   "source": [
    "df.groupby(\"month\")"
   ],
   "metadata": {
    "collapsed": false,
    "ExecuteTime": {
     "end_time": "2025-07-27T07:44:48.651286100Z",
     "start_time": "2025-07-27T07:44:48.638277700Z"
    }
   }
  },
  {
   "cell_type": "code",
   "execution_count": null,
   "outputs": [],
   "source": [],
   "metadata": {
    "collapsed": false
   }
  }
 ],
 "metadata": {
  "kernelspec": {
   "display_name": "Python 3",
   "language": "python",
   "name": "python3"
  },
  "language_info": {
   "codemirror_mode": {
    "name": "ipython",
    "version": 2
   },
   "file_extension": ".py",
   "mimetype": "text/x-python",
   "name": "python",
   "nbconvert_exporter": "python",
   "pygments_lexer": "ipython2",
   "version": "2.7.6"
  }
 },
 "nbformat": 4,
 "nbformat_minor": 0
}
